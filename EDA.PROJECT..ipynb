{
 "cells": [
  {
   "cell_type": "code",
   "execution_count": 20,
   "metadata": {},
   "outputs": [],
   "source": [
    "import requests\n",
    "import re\n",
    "import pandas as pd\n",
    "import numpy as np\n",
    "import time\n",
    "from bs4 import BeautifulSoup\n",
    "import plotly.express as px\n",
    "import matplotlib.pyplot as plt\n",
    "import seaborn as sns\n",
    "import os"
   ]
  },
  {
   "cell_type": "markdown",
   "metadata": {},
   "source": [
    "# Extracting content "
   ]
  },
  {
   "cell_type": "code",
   "execution_count": 21,
   "metadata": {},
   "outputs": [
    {
     "name": "stdout",
     "output_type": "stream",
     "text": [
      "Status=200 and Time=1.1344139575958252\n",
      "Status=200 and Time=1.269219160079956\n",
      "Status=200 and Time=1.1626267433166504\n",
      "Status=200 and Time=1.5590457916259766\n",
      "Status=200 and Time=1.0770490169525146\n",
      "Status=200 and Time=1.255424976348877\n",
      "Status=200 and Time=1.095062494277954\n",
      "Status=200 and Time=1.2510714530944824\n",
      "Status=200 and Time=1.3530774116516113\n",
      "Status=200 and Time=1.3000743389129639\n",
      "Status=200 and Time=1.3770787715911865\n",
      "Status=200 and Time=1.2250699996948242\n",
      "Status=200 and Time=1.0640606880187988\n",
      "Status=200 and Time=1.2260699272155762\n",
      "Status=200 and Time=0.9990570545196533\n",
      "Status=200 and Time=1.1240642070770264\n",
      "Status=200 and Time=1.180067539215088\n",
      "Status=200 and Time=1.2680726051330566\n",
      "Status=200 and Time=1.0850622653961182\n",
      "Status=200 and Time=1.2090692520141602\n",
      "Status=200 and Time=1.1300644874572754\n",
      "Status=200 and Time=0.957054615020752\n",
      "Status=200 and Time=1.2138581275939941\n",
      "Status=200 and Time=0.9828016757965088\n"
     ]
    }
   ],
   "source": [
    "Mobile_name=[]\n",
    "Price=[]\n",
    "Rating=[]\n",
    "Spec=[]\n",
    "\n",
    "\n",
    "for i in range(1,25):\n",
    "    start_time=time.time()\n",
    "    url=f\"https://www.flipkart.com/search?q=mobiles&as=on&as-show=on&otracker=AS_Query_TrendingAutoSuggest_1_0_na_na_na&otracker1=AS_Query_TrendingAutoSuggest_1_0_na_na_na&as-pos=1&as-type=TRENDING&suggestionId=mobiles&requestId=155dfe24-ff64-42c2-b0a4-8529a1becc73&page={i}\"\n",
    "    content=requests.get(url)\n",
    "    page=content.text\n",
    "    soup=BeautifulSoup(page)\n",
    "    \n",
    "    for x in soup.find_all(\"div\",attrs={\"class\":\"_3pLy-c row\"}):\n",
    "        name=x.find(\"div\",attrs={\"class\":\"_4rR01T\"})\n",
    "        price=x.find(\"div\",attrs={\"class\":\"_30jeq3 _1_WHN1\"})\n",
    "        rating=x.find(\"div\",attrs={\"class\":\"_3LWZlK\"})\n",
    "        spec=x.find(\"ul\",attrs={\"class\":\"_1xgFaf\"})\n",
    "        \n",
    "        \n",
    "        if name is None:\n",
    "            Mobile_name.append(np.NaN)\n",
    "        else:\n",
    "            Mobile_name.append(name.text)\n",
    "        if price is None:\n",
    "            Price.append(np.NaN)\n",
    "        else:\n",
    "            Price.append(price.text)\n",
    "        if rating is None:\n",
    "            Rating.append(np.NaN)\n",
    "        else:\n",
    "            Rating.append(rating.text)\n",
    "        if spec is None:\n",
    "            Spec.append(np.NaN)\n",
    "        else:\n",
    "            Spec.append(spec.text)\n",
    "            \n",
    "    end_time=time.time()\n",
    "    print(\"Status={} and Time={}\".format(content.status_code,end_time-start_time))\n",
    "    time.sleep(1)\n",
    "        "
   ]
  },
  {
   "cell_type": "code",
   "execution_count": 22,
   "metadata": {},
   "outputs": [
    {
     "name": "stdout",
     "output_type": "stream",
     "text": [
      "576\n",
      "576\n",
      "576\n",
      "576\n"
     ]
    }
   ],
   "source": [
    "print(len(Mobile_name))\n",
    "print(len(Rating))\n",
    "print(len(Price))\n",
    "print(len(Spec))\n",
    "\n"
   ]
  },
  {
   "cell_type": "code",
   "execution_count": 23,
   "metadata": {},
   "outputs": [],
   "source": [
    "data={\"Mobile_name\":Mobile_name,\n",
    "      \"Price\":Price,\n",
    "      \"Rating\":Rating,\n",
    "      \"Spec\":Spec}"
   ]
  },
  {
   "cell_type": "code",
   "execution_count": 24,
   "metadata": {},
   "outputs": [],
   "source": [
    "df=pd.DataFrame(data)"
   ]
  },
  {
   "cell_type": "code",
   "execution_count": 25,
   "metadata": {},
   "outputs": [
    {
     "data": {
      "text/html": [
       "<div>\n",
       "<style scoped>\n",
       "    .dataframe tbody tr th:only-of-type {\n",
       "        vertical-align: middle;\n",
       "    }\n",
       "\n",
       "    .dataframe tbody tr th {\n",
       "        vertical-align: top;\n",
       "    }\n",
       "\n",
       "    .dataframe thead th {\n",
       "        text-align: right;\n",
       "    }\n",
       "</style>\n",
       "<table border=\"1\" class=\"dataframe\">\n",
       "  <thead>\n",
       "    <tr style=\"text-align: right;\">\n",
       "      <th></th>\n",
       "      <th>Mobile_name</th>\n",
       "      <th>Price</th>\n",
       "      <th>Rating</th>\n",
       "      <th>Spec</th>\n",
       "    </tr>\n",
       "  </thead>\n",
       "  <tbody>\n",
       "    <tr>\n",
       "      <th>0</th>\n",
       "      <td>realme C20 (Cool Grey, 32 GB)</td>\n",
       "      <td>₹6,799</td>\n",
       "      <td>4.4</td>\n",
       "      <td>2 GB RAM | 32 GB ROM | Expandable Upto 256 GB1...</td>\n",
       "    </tr>\n",
       "    <tr>\n",
       "      <th>1</th>\n",
       "      <td>REDMI Note 9 (Aqua Green, 64 GB)</td>\n",
       "      <td>₹10,999</td>\n",
       "      <td>4.3</td>\n",
       "      <td>4 GB RAM | 64 GB ROM | Expandable Upto 512 GB1...</td>\n",
       "    </tr>\n",
       "    <tr>\n",
       "      <th>2</th>\n",
       "      <td>realme C20 (Cool Blue, 32 GB)</td>\n",
       "      <td>₹6,799</td>\n",
       "      <td>4.4</td>\n",
       "      <td>2 GB RAM | 32 GB ROM | Expandable Upto 256 GB1...</td>\n",
       "    </tr>\n",
       "    <tr>\n",
       "      <th>3</th>\n",
       "      <td>I Kall K4 (Red, 16 GB)</td>\n",
       "      <td>₹4,399</td>\n",
       "      <td>3.3</td>\n",
       "      <td>2 GB RAM | 16 GB ROM13.97 cm (5.5 inch) Displa...</td>\n",
       "    </tr>\n",
       "    <tr>\n",
       "      <th>4</th>\n",
       "      <td>POCO M3 (Power Black, 128 GB)</td>\n",
       "      <td>₹11,999</td>\n",
       "      <td>4.3</td>\n",
       "      <td>6 GB RAM | 128 GB ROM | Expandable Upto 512 GB...</td>\n",
       "    </tr>\n",
       "    <tr>\n",
       "      <th>...</th>\n",
       "      <td>...</td>\n",
       "      <td>...</td>\n",
       "      <td>...</td>\n",
       "      <td>...</td>\n",
       "    </tr>\n",
       "    <tr>\n",
       "      <th>571</th>\n",
       "      <td>I Kall K 18 NEW</td>\n",
       "      <td>₹999</td>\n",
       "      <td>3.6</td>\n",
       "      <td>32 MB RAM | 32 MB/64 MB ROM6.1 cm (2.4 inch) D...</td>\n",
       "    </tr>\n",
       "    <tr>\n",
       "      <th>572</th>\n",
       "      <td>Redmi Note 9 Pro (Glacier White, 64 GB)</td>\n",
       "      <td>₹15,990</td>\n",
       "      <td>4.4</td>\n",
       "      <td>4 GB RAM | 64 GB ROM | Expandable Upto 512 GB1...</td>\n",
       "    </tr>\n",
       "    <tr>\n",
       "      <th>573</th>\n",
       "      <td>Good One 5605N</td>\n",
       "      <td>₹849</td>\n",
       "      <td>3.7</td>\n",
       "      <td>32 MB RAM | 32 MB ROM | Expandable Upto 32 GB4...</td>\n",
       "    </tr>\n",
       "    <tr>\n",
       "      <th>574</th>\n",
       "      <td>Itel Ace Young</td>\n",
       "      <td>₹749</td>\n",
       "      <td>4</td>\n",
       "      <td>4 MB RAM | 4 MB ROM | Expandable Upto 32 GB4.5...</td>\n",
       "    </tr>\n",
       "    <tr>\n",
       "      <th>575</th>\n",
       "      <td>Itel Ace Young</td>\n",
       "      <td>₹749</td>\n",
       "      <td>4</td>\n",
       "      <td>4 MB RAM | 4 MB ROM | Expandable Upto 32 GB4.5...</td>\n",
       "    </tr>\n",
       "  </tbody>\n",
       "</table>\n",
       "<p>576 rows × 4 columns</p>\n",
       "</div>"
      ],
      "text/plain": [
       "                                 Mobile_name    Price Rating  \\\n",
       "0              realme C20 (Cool Grey, 32 GB)   ₹6,799    4.4   \n",
       "1           REDMI Note 9 (Aqua Green, 64 GB)  ₹10,999    4.3   \n",
       "2              realme C20 (Cool Blue, 32 GB)   ₹6,799    4.4   \n",
       "3                     I Kall K4 (Red, 16 GB)   ₹4,399    3.3   \n",
       "4              POCO M3 (Power Black, 128 GB)  ₹11,999    4.3   \n",
       "..                                       ...      ...    ...   \n",
       "571                          I Kall K 18 NEW     ₹999    3.6   \n",
       "572  Redmi Note 9 Pro (Glacier White, 64 GB)  ₹15,990    4.4   \n",
       "573                           Good One 5605N     ₹849    3.7   \n",
       "574                           Itel Ace Young     ₹749      4   \n",
       "575                           Itel Ace Young     ₹749      4   \n",
       "\n",
       "                                                  Spec  \n",
       "0    2 GB RAM | 32 GB ROM | Expandable Upto 256 GB1...  \n",
       "1    4 GB RAM | 64 GB ROM | Expandable Upto 512 GB1...  \n",
       "2    2 GB RAM | 32 GB ROM | Expandable Upto 256 GB1...  \n",
       "3    2 GB RAM | 16 GB ROM13.97 cm (5.5 inch) Displa...  \n",
       "4    6 GB RAM | 128 GB ROM | Expandable Upto 512 GB...  \n",
       "..                                                 ...  \n",
       "571  32 MB RAM | 32 MB/64 MB ROM6.1 cm (2.4 inch) D...  \n",
       "572  4 GB RAM | 64 GB ROM | Expandable Upto 512 GB1...  \n",
       "573  32 MB RAM | 32 MB ROM | Expandable Upto 32 GB4...  \n",
       "574  4 MB RAM | 4 MB ROM | Expandable Upto 32 GB4.5...  \n",
       "575  4 MB RAM | 4 MB ROM | Expandable Upto 32 GB4.5...  \n",
       "\n",
       "[576 rows x 4 columns]"
      ]
     },
     "execution_count": 25,
     "metadata": {},
     "output_type": "execute_result"
    }
   ],
   "source": [
    "df"
   ]
  },
  {
   "cell_type": "code",
   "execution_count": 26,
   "metadata": {},
   "outputs": [],
   "source": [
    "df.to_csv(\"F:/data science/webscrapping project details/df.csv\",index=False)"
   ]
  },
  {
   "cell_type": "code",
   "execution_count": 27,
   "metadata": {},
   "outputs": [],
   "source": [
    "data=pd.read_csv(\"F:/data science/webscrapping project details/df.csv\")"
   ]
  },
  {
   "cell_type": "code",
   "execution_count": 28,
   "metadata": {},
   "outputs": [
    {
     "data": {
      "text/html": [
       "<div>\n",
       "<style scoped>\n",
       "    .dataframe tbody tr th:only-of-type {\n",
       "        vertical-align: middle;\n",
       "    }\n",
       "\n",
       "    .dataframe tbody tr th {\n",
       "        vertical-align: top;\n",
       "    }\n",
       "\n",
       "    .dataframe thead th {\n",
       "        text-align: right;\n",
       "    }\n",
       "</style>\n",
       "<table border=\"1\" class=\"dataframe\">\n",
       "  <thead>\n",
       "    <tr style=\"text-align: right;\">\n",
       "      <th></th>\n",
       "      <th>Mobile_name</th>\n",
       "      <th>Price</th>\n",
       "      <th>Rating</th>\n",
       "      <th>Spec</th>\n",
       "    </tr>\n",
       "  </thead>\n",
       "  <tbody>\n",
       "    <tr>\n",
       "      <th>0</th>\n",
       "      <td>realme C20 (Cool Grey, 32 GB)</td>\n",
       "      <td>₹6,799</td>\n",
       "      <td>4.4</td>\n",
       "      <td>2 GB RAM | 32 GB ROM | Expandable Upto 256 GB1...</td>\n",
       "    </tr>\n",
       "    <tr>\n",
       "      <th>1</th>\n",
       "      <td>REDMI Note 9 (Aqua Green, 64 GB)</td>\n",
       "      <td>₹10,999</td>\n",
       "      <td>4.3</td>\n",
       "      <td>4 GB RAM | 64 GB ROM | Expandable Upto 512 GB1...</td>\n",
       "    </tr>\n",
       "    <tr>\n",
       "      <th>2</th>\n",
       "      <td>realme C20 (Cool Blue, 32 GB)</td>\n",
       "      <td>₹6,799</td>\n",
       "      <td>4.4</td>\n",
       "      <td>2 GB RAM | 32 GB ROM | Expandable Upto 256 GB1...</td>\n",
       "    </tr>\n",
       "    <tr>\n",
       "      <th>3</th>\n",
       "      <td>I Kall K4 (Red, 16 GB)</td>\n",
       "      <td>₹4,399</td>\n",
       "      <td>3.3</td>\n",
       "      <td>2 GB RAM | 16 GB ROM13.97 cm (5.5 inch) Displa...</td>\n",
       "    </tr>\n",
       "    <tr>\n",
       "      <th>4</th>\n",
       "      <td>POCO M3 (Power Black, 128 GB)</td>\n",
       "      <td>₹11,999</td>\n",
       "      <td>4.3</td>\n",
       "      <td>6 GB RAM | 128 GB ROM | Expandable Upto 512 GB...</td>\n",
       "    </tr>\n",
       "    <tr>\n",
       "      <th>...</th>\n",
       "      <td>...</td>\n",
       "      <td>...</td>\n",
       "      <td>...</td>\n",
       "      <td>...</td>\n",
       "    </tr>\n",
       "    <tr>\n",
       "      <th>571</th>\n",
       "      <td>I Kall K 18 NEW</td>\n",
       "      <td>₹999</td>\n",
       "      <td>3.6</td>\n",
       "      <td>32 MB RAM | 32 MB/64 MB ROM6.1 cm (2.4 inch) D...</td>\n",
       "    </tr>\n",
       "    <tr>\n",
       "      <th>572</th>\n",
       "      <td>Redmi Note 9 Pro (Glacier White, 64 GB)</td>\n",
       "      <td>₹15,990</td>\n",
       "      <td>4.4</td>\n",
       "      <td>4 GB RAM | 64 GB ROM | Expandable Upto 512 GB1...</td>\n",
       "    </tr>\n",
       "    <tr>\n",
       "      <th>573</th>\n",
       "      <td>Good One 5605N</td>\n",
       "      <td>₹849</td>\n",
       "      <td>3.7</td>\n",
       "      <td>32 MB RAM | 32 MB ROM | Expandable Upto 32 GB4...</td>\n",
       "    </tr>\n",
       "    <tr>\n",
       "      <th>574</th>\n",
       "      <td>Itel Ace Young</td>\n",
       "      <td>₹749</td>\n",
       "      <td>4.0</td>\n",
       "      <td>4 MB RAM | 4 MB ROM | Expandable Upto 32 GB4.5...</td>\n",
       "    </tr>\n",
       "    <tr>\n",
       "      <th>575</th>\n",
       "      <td>Itel Ace Young</td>\n",
       "      <td>₹749</td>\n",
       "      <td>4.0</td>\n",
       "      <td>4 MB RAM | 4 MB ROM | Expandable Upto 32 GB4.5...</td>\n",
       "    </tr>\n",
       "  </tbody>\n",
       "</table>\n",
       "<p>576 rows × 4 columns</p>\n",
       "</div>"
      ],
      "text/plain": [
       "                                 Mobile_name    Price  Rating  \\\n",
       "0              realme C20 (Cool Grey, 32 GB)   ₹6,799     4.4   \n",
       "1           REDMI Note 9 (Aqua Green, 64 GB)  ₹10,999     4.3   \n",
       "2              realme C20 (Cool Blue, 32 GB)   ₹6,799     4.4   \n",
       "3                     I Kall K4 (Red, 16 GB)   ₹4,399     3.3   \n",
       "4              POCO M3 (Power Black, 128 GB)  ₹11,999     4.3   \n",
       "..                                       ...      ...     ...   \n",
       "571                          I Kall K 18 NEW     ₹999     3.6   \n",
       "572  Redmi Note 9 Pro (Glacier White, 64 GB)  ₹15,990     4.4   \n",
       "573                           Good One 5605N     ₹849     3.7   \n",
       "574                           Itel Ace Young     ₹749     4.0   \n",
       "575                           Itel Ace Young     ₹749     4.0   \n",
       "\n",
       "                                                  Spec  \n",
       "0    2 GB RAM | 32 GB ROM | Expandable Upto 256 GB1...  \n",
       "1    4 GB RAM | 64 GB ROM | Expandable Upto 512 GB1...  \n",
       "2    2 GB RAM | 32 GB ROM | Expandable Upto 256 GB1...  \n",
       "3    2 GB RAM | 16 GB ROM13.97 cm (5.5 inch) Displa...  \n",
       "4    6 GB RAM | 128 GB ROM | Expandable Upto 512 GB...  \n",
       "..                                                 ...  \n",
       "571  32 MB RAM | 32 MB/64 MB ROM6.1 cm (2.4 inch) D...  \n",
       "572  4 GB RAM | 64 GB ROM | Expandable Upto 512 GB1...  \n",
       "573  32 MB RAM | 32 MB ROM | Expandable Upto 32 GB4...  \n",
       "574  4 MB RAM | 4 MB ROM | Expandable Upto 32 GB4.5...  \n",
       "575  4 MB RAM | 4 MB ROM | Expandable Upto 32 GB4.5...  \n",
       "\n",
       "[576 rows x 4 columns]"
      ]
     },
     "execution_count": 28,
     "metadata": {},
     "output_type": "execute_result"
    }
   ],
   "source": [
    "data"
   ]
  },
  {
   "cell_type": "markdown",
   "metadata": {},
   "source": [
    "# Cleaning the Data"
   ]
  },
  {
   "cell_type": "markdown",
   "metadata": {},
   "source": [
    "## Finding null values"
   ]
  },
  {
   "cell_type": "code",
   "execution_count": 29,
   "metadata": {},
   "outputs": [
    {
     "data": {
      "text/plain": [
       "0"
      ]
     },
     "execution_count": 29,
     "metadata": {},
     "output_type": "execute_result"
    }
   ],
   "source": [
    "data[\"Spec\"].isnull().sum()     "
   ]
  },
  {
   "cell_type": "code",
   "execution_count": 30,
   "metadata": {},
   "outputs": [
    {
     "data": {
      "text/plain": [
       "3"
      ]
     },
     "execution_count": 30,
     "metadata": {},
     "output_type": "execute_result"
    }
   ],
   "source": [
    "data[\"Rating\"].isnull().sum()"
   ]
  },
  {
   "cell_type": "code",
   "execution_count": 31,
   "metadata": {},
   "outputs": [
    {
     "data": {
      "text/plain": [
       "0"
      ]
     },
     "execution_count": 31,
     "metadata": {},
     "output_type": "execute_result"
    }
   ],
   "source": [
    "data[\"Mobile_name\"].isnull().sum()"
   ]
  },
  {
   "cell_type": "code",
   "execution_count": 32,
   "metadata": {},
   "outputs": [
    {
     "data": {
      "text/plain": [
       "0"
      ]
     },
     "execution_count": 32,
     "metadata": {},
     "output_type": "execute_result"
    }
   ],
   "source": [
    "data[\"Price\"].isnull().sum()"
   ]
  },
  {
   "cell_type": "code",
   "execution_count": 33,
   "metadata": {},
   "outputs": [
    {
     "data": {
      "text/html": [
       "<div>\n",
       "<style scoped>\n",
       "    .dataframe tbody tr th:only-of-type {\n",
       "        vertical-align: middle;\n",
       "    }\n",
       "\n",
       "    .dataframe tbody tr th {\n",
       "        vertical-align: top;\n",
       "    }\n",
       "\n",
       "    .dataframe thead th {\n",
       "        text-align: right;\n",
       "    }\n",
       "</style>\n",
       "<table border=\"1\" class=\"dataframe\">\n",
       "  <thead>\n",
       "    <tr style=\"text-align: right;\">\n",
       "      <th></th>\n",
       "      <th>Mobile_name</th>\n",
       "      <th>Price</th>\n",
       "      <th>Rating</th>\n",
       "      <th>Spec</th>\n",
       "    </tr>\n",
       "  </thead>\n",
       "  <tbody>\n",
       "    <tr>\n",
       "      <th>0</th>\n",
       "      <td>realme C20 (Cool Grey, 32 GB)</td>\n",
       "      <td>₹6,799</td>\n",
       "      <td>4.4</td>\n",
       "      <td>2 GB RAM | 32 GB ROM | Expandable Upto 256 GB1...</td>\n",
       "    </tr>\n",
       "    <tr>\n",
       "      <th>1</th>\n",
       "      <td>REDMI Note 9 (Aqua Green, 64 GB)</td>\n",
       "      <td>₹10,999</td>\n",
       "      <td>4.3</td>\n",
       "      <td>4 GB RAM | 64 GB ROM | Expandable Upto 512 GB1...</td>\n",
       "    </tr>\n",
       "  </tbody>\n",
       "</table>\n",
       "</div>"
      ],
      "text/plain": [
       "                        Mobile_name    Price  Rating  \\\n",
       "0     realme C20 (Cool Grey, 32 GB)   ₹6,799     4.4   \n",
       "1  REDMI Note 9 (Aqua Green, 64 GB)  ₹10,999     4.3   \n",
       "\n",
       "                                                Spec  \n",
       "0  2 GB RAM | 32 GB ROM | Expandable Upto 256 GB1...  \n",
       "1  4 GB RAM | 64 GB ROM | Expandable Upto 512 GB1...  "
      ]
     },
     "execution_count": 33,
     "metadata": {},
     "output_type": "execute_result"
    }
   ],
   "source": [
    "data.head(2)"
   ]
  },
  {
   "cell_type": "markdown",
   "metadata": {},
   "source": [
    "## Extracting data using Regular Expressions"
   ]
  },
  {
   "cell_type": "code",
   "execution_count": 34,
   "metadata": {},
   "outputs": [],
   "source": [
    "data[\"Price\"]=data[\"Price\"].apply(lambda x:str(x).replace(\"₹\",\"\").replace(\",\",\"\"))"
   ]
  },
  {
   "cell_type": "code",
   "execution_count": 35,
   "metadata": {},
   "outputs": [],
   "source": [
    "pattern=re.compile(r\"\\d+\\s[GB|MB]+\\sRAM\")   #pattern for RAM"
   ]
  },
  {
   "cell_type": "code",
   "execution_count": 36,
   "metadata": {},
   "outputs": [],
   "source": [
    "data[\"RAM\"]=data[\"Spec\"].apply(lambda x: np.NaN if pattern.search(x) is None else pattern.search(x).group())"
   ]
  },
  {
   "cell_type": "code",
   "execution_count": 37,
   "metadata": {},
   "outputs": [],
   "source": [
    "data[\"RAM\"]=data[\"RAM\"].apply(lambda x: str(x).replace(\"RAM\",\"\"))"
   ]
  },
  {
   "cell_type": "code",
   "execution_count": 38,
   "metadata": {},
   "outputs": [],
   "source": [
    "pattern=re.compile(r\"\\d+\\s[GB|MB]+\\sROM\")   #pattern for ROM"
   ]
  },
  {
   "cell_type": "code",
   "execution_count": 39,
   "metadata": {},
   "outputs": [],
   "source": [
    "data[\"ROM\"]=data[\"Spec\"].apply(lambda x: np.NaN if pattern.search(x) is None else pattern.search(x).group())"
   ]
  },
  {
   "cell_type": "code",
   "execution_count": 40,
   "metadata": {},
   "outputs": [],
   "source": [
    "data[\"ROM\"]=data[\"ROM\"].apply(lambda x: str(x).replace(\"ROM\",\"\"))"
   ]
  },
  {
   "cell_type": "code",
   "execution_count": 41,
   "metadata": {},
   "outputs": [
    {
     "data": {
      "text/html": [
       "<div>\n",
       "<style scoped>\n",
       "    .dataframe tbody tr th:only-of-type {\n",
       "        vertical-align: middle;\n",
       "    }\n",
       "\n",
       "    .dataframe tbody tr th {\n",
       "        vertical-align: top;\n",
       "    }\n",
       "\n",
       "    .dataframe thead th {\n",
       "        text-align: right;\n",
       "    }\n",
       "</style>\n",
       "<table border=\"1\" class=\"dataframe\">\n",
       "  <thead>\n",
       "    <tr style=\"text-align: right;\">\n",
       "      <th></th>\n",
       "      <th>Mobile_name</th>\n",
       "      <th>Price</th>\n",
       "      <th>Rating</th>\n",
       "      <th>Spec</th>\n",
       "      <th>RAM</th>\n",
       "      <th>ROM</th>\n",
       "    </tr>\n",
       "  </thead>\n",
       "  <tbody>\n",
       "    <tr>\n",
       "      <th>0</th>\n",
       "      <td>realme C20 (Cool Grey, 32 GB)</td>\n",
       "      <td>6799</td>\n",
       "      <td>4.4</td>\n",
       "      <td>2 GB RAM | 32 GB ROM | Expandable Upto 256 GB1...</td>\n",
       "      <td>2 GB</td>\n",
       "      <td>32 GB</td>\n",
       "    </tr>\n",
       "    <tr>\n",
       "      <th>1</th>\n",
       "      <td>REDMI Note 9 (Aqua Green, 64 GB)</td>\n",
       "      <td>10999</td>\n",
       "      <td>4.3</td>\n",
       "      <td>4 GB RAM | 64 GB ROM | Expandable Upto 512 GB1...</td>\n",
       "      <td>4 GB</td>\n",
       "      <td>64 GB</td>\n",
       "    </tr>\n",
       "  </tbody>\n",
       "</table>\n",
       "</div>"
      ],
      "text/plain": [
       "                        Mobile_name  Price  Rating  \\\n",
       "0     realme C20 (Cool Grey, 32 GB)   6799     4.4   \n",
       "1  REDMI Note 9 (Aqua Green, 64 GB)  10999     4.3   \n",
       "\n",
       "                                                Spec    RAM     ROM  \n",
       "0  2 GB RAM | 32 GB ROM | Expandable Upto 256 GB1...  2 GB   32 GB   \n",
       "1  4 GB RAM | 64 GB ROM | Expandable Upto 512 GB1...  4 GB   64 GB   "
      ]
     },
     "execution_count": 41,
     "metadata": {},
     "output_type": "execute_result"
    }
   ],
   "source": [
    "data.head(2)"
   ]
  },
  {
   "cell_type": "code",
   "execution_count": 42,
   "metadata": {},
   "outputs": [],
   "source": [
    "pattern=re.compile(\"\\d+MP\\s[\\+\\s\\dMP]+|\\d+MP\\sRear\")    #pattern for Rear cam"
   ]
  },
  {
   "cell_type": "code",
   "execution_count": 43,
   "metadata": {},
   "outputs": [],
   "source": [
    "data[\"Rearcam1\"]=data[\"Spec\"].apply(lambda x: np.NaN if pattern.search(x) is None else pattern.search(x).group()) #searching pattern"
   ]
  },
  {
   "cell_type": "code",
   "execution_count": 44,
   "metadata": {},
   "outputs": [
    {
     "data": {
      "text/plain": [
       "36"
      ]
     },
     "execution_count": 44,
     "metadata": {},
     "output_type": "execute_result"
    }
   ],
   "source": [
    "data[\"Rearcam1\"].isnull().sum()"
   ]
  },
  {
   "cell_type": "code",
   "execution_count": 45,
   "metadata": {},
   "outputs": [],
   "source": [
    "data[\"Rearcam1\"].fillna(\"0\",inplace=True)   #filling null values"
   ]
  },
  {
   "cell_type": "code",
   "execution_count": 46,
   "metadata": {},
   "outputs": [],
   "source": [
    "pattern=re.compile(\"^\\d+\")    #Again extracting desired Rearcamera pixel\n",
    "data[\"Rearcam(MP)\"]=data[\"Rearcam1\"].apply(lambda x: np.NaN if pattern.search(x) is None else pattern.search(x).group())"
   ]
  },
  {
   "cell_type": "code",
   "execution_count": 47,
   "metadata": {},
   "outputs": [
    {
     "data": {
      "text/html": [
       "<div>\n",
       "<style scoped>\n",
       "    .dataframe tbody tr th:only-of-type {\n",
       "        vertical-align: middle;\n",
       "    }\n",
       "\n",
       "    .dataframe tbody tr th {\n",
       "        vertical-align: top;\n",
       "    }\n",
       "\n",
       "    .dataframe thead th {\n",
       "        text-align: right;\n",
       "    }\n",
       "</style>\n",
       "<table border=\"1\" class=\"dataframe\">\n",
       "  <thead>\n",
       "    <tr style=\"text-align: right;\">\n",
       "      <th></th>\n",
       "      <th>Mobile_name</th>\n",
       "      <th>Price</th>\n",
       "      <th>Rating</th>\n",
       "      <th>Spec</th>\n",
       "      <th>RAM</th>\n",
       "      <th>ROM</th>\n",
       "      <th>Rearcam1</th>\n",
       "      <th>Rearcam(MP)</th>\n",
       "    </tr>\n",
       "  </thead>\n",
       "  <tbody>\n",
       "    <tr>\n",
       "      <th>0</th>\n",
       "      <td>realme C20 (Cool Grey, 32 GB)</td>\n",
       "      <td>6799</td>\n",
       "      <td>4.4</td>\n",
       "      <td>2 GB RAM | 32 GB ROM | Expandable Upto 256 GB1...</td>\n",
       "      <td>2 GB</td>\n",
       "      <td>32 GB</td>\n",
       "      <td>8MP Rear</td>\n",
       "      <td>8</td>\n",
       "    </tr>\n",
       "    <tr>\n",
       "      <th>1</th>\n",
       "      <td>REDMI Note 9 (Aqua Green, 64 GB)</td>\n",
       "      <td>10999</td>\n",
       "      <td>4.3</td>\n",
       "      <td>4 GB RAM | 64 GB ROM | Expandable Upto 512 GB1...</td>\n",
       "      <td>4 GB</td>\n",
       "      <td>64 GB</td>\n",
       "      <td>48MP + 8MP + 2MP + 2MP</td>\n",
       "      <td>48</td>\n",
       "    </tr>\n",
       "  </tbody>\n",
       "</table>\n",
       "</div>"
      ],
      "text/plain": [
       "                        Mobile_name  Price  Rating  \\\n",
       "0     realme C20 (Cool Grey, 32 GB)   6799     4.4   \n",
       "1  REDMI Note 9 (Aqua Green, 64 GB)  10999     4.3   \n",
       "\n",
       "                                                Spec    RAM     ROM  \\\n",
       "0  2 GB RAM | 32 GB ROM | Expandable Upto 256 GB1...  2 GB   32 GB    \n",
       "1  4 GB RAM | 64 GB ROM | Expandable Upto 512 GB1...  4 GB   64 GB    \n",
       "\n",
       "                  Rearcam1 Rearcam(MP)  \n",
       "0                 8MP Rear           8  \n",
       "1  48MP + 8MP + 2MP + 2MP           48  "
      ]
     },
     "execution_count": 47,
     "metadata": {},
     "output_type": "execute_result"
    }
   ],
   "source": [
    "data.head(2)"
   ]
  },
  {
   "cell_type": "code",
   "execution_count": 48,
   "metadata": {},
   "outputs": [],
   "source": [
    "data.drop(\"Rearcam1\",axis=1,inplace=True)  #dropping unwanted columns"
   ]
  },
  {
   "cell_type": "code",
   "execution_count": 49,
   "metadata": {},
   "outputs": [],
   "source": [
    "pattern=re.compile(\"\\d+MP\\sFront\\sCamera\")    #pattern for frontcam"
   ]
  },
  {
   "cell_type": "code",
   "execution_count": 50,
   "metadata": {},
   "outputs": [],
   "source": [
    "data[\"FrontCam(MP)\"]=data[\"Spec\"].apply(lambda x: np.NaN if pattern.search(x) is None else pattern.search(x).group())"
   ]
  },
  {
   "cell_type": "code",
   "execution_count": 51,
   "metadata": {},
   "outputs": [],
   "source": [
    "data[\"FrontCam(MP)\"]=data[\"FrontCam(MP)\"].apply(lambda x: str(x).replace(\"MP Front Camera\",\"\"))"
   ]
  },
  {
   "cell_type": "code",
   "execution_count": 52,
   "metadata": {},
   "outputs": [
    {
     "data": {
      "text/html": [
       "<div>\n",
       "<style scoped>\n",
       "    .dataframe tbody tr th:only-of-type {\n",
       "        vertical-align: middle;\n",
       "    }\n",
       "\n",
       "    .dataframe tbody tr th {\n",
       "        vertical-align: top;\n",
       "    }\n",
       "\n",
       "    .dataframe thead th {\n",
       "        text-align: right;\n",
       "    }\n",
       "</style>\n",
       "<table border=\"1\" class=\"dataframe\">\n",
       "  <thead>\n",
       "    <tr style=\"text-align: right;\">\n",
       "      <th></th>\n",
       "      <th>Mobile_name</th>\n",
       "      <th>Price</th>\n",
       "      <th>Rating</th>\n",
       "      <th>Spec</th>\n",
       "      <th>RAM</th>\n",
       "      <th>ROM</th>\n",
       "      <th>Rearcam(MP)</th>\n",
       "      <th>FrontCam(MP)</th>\n",
       "    </tr>\n",
       "  </thead>\n",
       "  <tbody>\n",
       "    <tr>\n",
       "      <th>0</th>\n",
       "      <td>realme C20 (Cool Grey, 32 GB)</td>\n",
       "      <td>6799</td>\n",
       "      <td>4.4</td>\n",
       "      <td>2 GB RAM | 32 GB ROM | Expandable Upto 256 GB1...</td>\n",
       "      <td>2 GB</td>\n",
       "      <td>32 GB</td>\n",
       "      <td>8</td>\n",
       "      <td>5</td>\n",
       "    </tr>\n",
       "    <tr>\n",
       "      <th>1</th>\n",
       "      <td>REDMI Note 9 (Aqua Green, 64 GB)</td>\n",
       "      <td>10999</td>\n",
       "      <td>4.3</td>\n",
       "      <td>4 GB RAM | 64 GB ROM | Expandable Upto 512 GB1...</td>\n",
       "      <td>4 GB</td>\n",
       "      <td>64 GB</td>\n",
       "      <td>48</td>\n",
       "      <td>13</td>\n",
       "    </tr>\n",
       "  </tbody>\n",
       "</table>\n",
       "</div>"
      ],
      "text/plain": [
       "                        Mobile_name  Price  Rating  \\\n",
       "0     realme C20 (Cool Grey, 32 GB)   6799     4.4   \n",
       "1  REDMI Note 9 (Aqua Green, 64 GB)  10999     4.3   \n",
       "\n",
       "                                                Spec    RAM     ROM  \\\n",
       "0  2 GB RAM | 32 GB ROM | Expandable Upto 256 GB1...  2 GB   32 GB    \n",
       "1  4 GB RAM | 64 GB ROM | Expandable Upto 512 GB1...  4 GB   64 GB    \n",
       "\n",
       "  Rearcam(MP) FrontCam(MP)  \n",
       "0           8            5  \n",
       "1          48           13  "
      ]
     },
     "execution_count": 52,
     "metadata": {},
     "output_type": "execute_result"
    }
   ],
   "source": [
    "data.head(2)"
   ]
  },
  {
   "cell_type": "code",
   "execution_count": 53,
   "metadata": {},
   "outputs": [],
   "source": [
    "pattern=re.compile(r\"^\\w+\")    #pattern for Brand"
   ]
  },
  {
   "cell_type": "code",
   "execution_count": 54,
   "metadata": {},
   "outputs": [],
   "source": [
    "data[\"Brand\"]=data[\"Mobile_name\"].apply(lambda x: pattern.search(x).group())   #searching for Brand"
   ]
  },
  {
   "cell_type": "code",
   "execution_count": 55,
   "metadata": {},
   "outputs": [
    {
     "data": {
      "text/plain": [
       "0"
      ]
     },
     "execution_count": 55,
     "metadata": {},
     "output_type": "execute_result"
    }
   ],
   "source": [
    "data[\"Brand\"].isnull().sum()    #checking for null values"
   ]
  },
  {
   "cell_type": "code",
   "execution_count": 56,
   "metadata": {},
   "outputs": [
    {
     "data": {
      "text/html": [
       "<div>\n",
       "<style scoped>\n",
       "    .dataframe tbody tr th:only-of-type {\n",
       "        vertical-align: middle;\n",
       "    }\n",
       "\n",
       "    .dataframe tbody tr th {\n",
       "        vertical-align: top;\n",
       "    }\n",
       "\n",
       "    .dataframe thead th {\n",
       "        text-align: right;\n",
       "    }\n",
       "</style>\n",
       "<table border=\"1\" class=\"dataframe\">\n",
       "  <thead>\n",
       "    <tr style=\"text-align: right;\">\n",
       "      <th></th>\n",
       "      <th>Mobile_name</th>\n",
       "      <th>Price</th>\n",
       "      <th>Rating</th>\n",
       "      <th>Spec</th>\n",
       "      <th>RAM</th>\n",
       "      <th>ROM</th>\n",
       "      <th>Rearcam(MP)</th>\n",
       "      <th>FrontCam(MP)</th>\n",
       "      <th>Brand</th>\n",
       "    </tr>\n",
       "  </thead>\n",
       "  <tbody>\n",
       "    <tr>\n",
       "      <th>0</th>\n",
       "      <td>realme C20 (Cool Grey, 32 GB)</td>\n",
       "      <td>6799</td>\n",
       "      <td>4.4</td>\n",
       "      <td>2 GB RAM | 32 GB ROM | Expandable Upto 256 GB1...</td>\n",
       "      <td>2 GB</td>\n",
       "      <td>32 GB</td>\n",
       "      <td>8</td>\n",
       "      <td>5</td>\n",
       "      <td>realme</td>\n",
       "    </tr>\n",
       "    <tr>\n",
       "      <th>1</th>\n",
       "      <td>REDMI Note 9 (Aqua Green, 64 GB)</td>\n",
       "      <td>10999</td>\n",
       "      <td>4.3</td>\n",
       "      <td>4 GB RAM | 64 GB ROM | Expandable Upto 512 GB1...</td>\n",
       "      <td>4 GB</td>\n",
       "      <td>64 GB</td>\n",
       "      <td>48</td>\n",
       "      <td>13</td>\n",
       "      <td>REDMI</td>\n",
       "    </tr>\n",
       "  </tbody>\n",
       "</table>\n",
       "</div>"
      ],
      "text/plain": [
       "                        Mobile_name  Price  Rating  \\\n",
       "0     realme C20 (Cool Grey, 32 GB)   6799     4.4   \n",
       "1  REDMI Note 9 (Aqua Green, 64 GB)  10999     4.3   \n",
       "\n",
       "                                                Spec    RAM     ROM  \\\n",
       "0  2 GB RAM | 32 GB ROM | Expandable Upto 256 GB1...  2 GB   32 GB    \n",
       "1  4 GB RAM | 64 GB ROM | Expandable Upto 512 GB1...  4 GB   64 GB    \n",
       "\n",
       "  Rearcam(MP) FrontCam(MP)   Brand  \n",
       "0           8            5  realme  \n",
       "1          48           13   REDMI  "
      ]
     },
     "execution_count": 56,
     "metadata": {},
     "output_type": "execute_result"
    }
   ],
   "source": [
    "data.head(2)"
   ]
  },
  {
   "cell_type": "code",
   "execution_count": 57,
   "metadata": {},
   "outputs": [],
   "source": [
    "pattern=re.compile(r\"\\(\\D+,\")      #pattern for colour\n",
    "data[\"Colour\"]=data[\"Mobile_name\"].apply(lambda x: np.NaN if pattern.search(x) is None else pattern.search(x).group())"
   ]
  },
  {
   "cell_type": "code",
   "execution_count": 58,
   "metadata": {},
   "outputs": [
    {
     "data": {
      "text/html": [
       "<div>\n",
       "<style scoped>\n",
       "    .dataframe tbody tr th:only-of-type {\n",
       "        vertical-align: middle;\n",
       "    }\n",
       "\n",
       "    .dataframe tbody tr th {\n",
       "        vertical-align: top;\n",
       "    }\n",
       "\n",
       "    .dataframe thead th {\n",
       "        text-align: right;\n",
       "    }\n",
       "</style>\n",
       "<table border=\"1\" class=\"dataframe\">\n",
       "  <thead>\n",
       "    <tr style=\"text-align: right;\">\n",
       "      <th></th>\n",
       "      <th>Mobile_name</th>\n",
       "      <th>Price</th>\n",
       "      <th>Rating</th>\n",
       "      <th>Spec</th>\n",
       "      <th>RAM</th>\n",
       "      <th>ROM</th>\n",
       "      <th>Rearcam(MP)</th>\n",
       "      <th>FrontCam(MP)</th>\n",
       "      <th>Brand</th>\n",
       "      <th>Colour</th>\n",
       "    </tr>\n",
       "  </thead>\n",
       "  <tbody>\n",
       "    <tr>\n",
       "      <th>0</th>\n",
       "      <td>realme C20 (Cool Grey, 32 GB)</td>\n",
       "      <td>6799</td>\n",
       "      <td>4.4</td>\n",
       "      <td>2 GB RAM | 32 GB ROM | Expandable Upto 256 GB1...</td>\n",
       "      <td>2 GB</td>\n",
       "      <td>32 GB</td>\n",
       "      <td>8</td>\n",
       "      <td>5</td>\n",
       "      <td>realme</td>\n",
       "      <td>(Cool Grey,</td>\n",
       "    </tr>\n",
       "    <tr>\n",
       "      <th>1</th>\n",
       "      <td>REDMI Note 9 (Aqua Green, 64 GB)</td>\n",
       "      <td>10999</td>\n",
       "      <td>4.3</td>\n",
       "      <td>4 GB RAM | 64 GB ROM | Expandable Upto 512 GB1...</td>\n",
       "      <td>4 GB</td>\n",
       "      <td>64 GB</td>\n",
       "      <td>48</td>\n",
       "      <td>13</td>\n",
       "      <td>REDMI</td>\n",
       "      <td>(Aqua Green,</td>\n",
       "    </tr>\n",
       "  </tbody>\n",
       "</table>\n",
       "</div>"
      ],
      "text/plain": [
       "                        Mobile_name  Price  Rating  \\\n",
       "0     realme C20 (Cool Grey, 32 GB)   6799     4.4   \n",
       "1  REDMI Note 9 (Aqua Green, 64 GB)  10999     4.3   \n",
       "\n",
       "                                                Spec    RAM     ROM  \\\n",
       "0  2 GB RAM | 32 GB ROM | Expandable Upto 256 GB1...  2 GB   32 GB    \n",
       "1  4 GB RAM | 64 GB ROM | Expandable Upto 512 GB1...  4 GB   64 GB    \n",
       "\n",
       "  Rearcam(MP) FrontCam(MP)   Brand        Colour  \n",
       "0           8            5  realme   (Cool Grey,  \n",
       "1          48           13   REDMI  (Aqua Green,  "
      ]
     },
     "execution_count": 58,
     "metadata": {},
     "output_type": "execute_result"
    }
   ],
   "source": [
    "data.head(2)"
   ]
  },
  {
   "cell_type": "code",
   "execution_count": 59,
   "metadata": {},
   "outputs": [],
   "source": [
    "data[\"Colour\"]=data[\"Colour\"].apply(lambda x:str(x).replace(\"(\",\"\").replace(\",\",\"\"))"
   ]
  },
  {
   "cell_type": "code",
   "execution_count": 60,
   "metadata": {},
   "outputs": [
    {
     "data": {
      "text/html": [
       "<div>\n",
       "<style scoped>\n",
       "    .dataframe tbody tr th:only-of-type {\n",
       "        vertical-align: middle;\n",
       "    }\n",
       "\n",
       "    .dataframe tbody tr th {\n",
       "        vertical-align: top;\n",
       "    }\n",
       "\n",
       "    .dataframe thead th {\n",
       "        text-align: right;\n",
       "    }\n",
       "</style>\n",
       "<table border=\"1\" class=\"dataframe\">\n",
       "  <thead>\n",
       "    <tr style=\"text-align: right;\">\n",
       "      <th></th>\n",
       "      <th>Mobile_name</th>\n",
       "      <th>Price</th>\n",
       "      <th>Rating</th>\n",
       "      <th>Spec</th>\n",
       "      <th>RAM</th>\n",
       "      <th>ROM</th>\n",
       "      <th>Rearcam(MP)</th>\n",
       "      <th>FrontCam(MP)</th>\n",
       "      <th>Brand</th>\n",
       "      <th>Colour</th>\n",
       "    </tr>\n",
       "  </thead>\n",
       "  <tbody>\n",
       "    <tr>\n",
       "      <th>0</th>\n",
       "      <td>realme C20 (Cool Grey, 32 GB)</td>\n",
       "      <td>6799</td>\n",
       "      <td>4.4</td>\n",
       "      <td>2 GB RAM | 32 GB ROM | Expandable Upto 256 GB1...</td>\n",
       "      <td>2 GB</td>\n",
       "      <td>32 GB</td>\n",
       "      <td>8</td>\n",
       "      <td>5</td>\n",
       "      <td>realme</td>\n",
       "      <td>Cool Grey</td>\n",
       "    </tr>\n",
       "    <tr>\n",
       "      <th>1</th>\n",
       "      <td>REDMI Note 9 (Aqua Green, 64 GB)</td>\n",
       "      <td>10999</td>\n",
       "      <td>4.3</td>\n",
       "      <td>4 GB RAM | 64 GB ROM | Expandable Upto 512 GB1...</td>\n",
       "      <td>4 GB</td>\n",
       "      <td>64 GB</td>\n",
       "      <td>48</td>\n",
       "      <td>13</td>\n",
       "      <td>REDMI</td>\n",
       "      <td>Aqua Green</td>\n",
       "    </tr>\n",
       "    <tr>\n",
       "      <th>2</th>\n",
       "      <td>realme C20 (Cool Blue, 32 GB)</td>\n",
       "      <td>6799</td>\n",
       "      <td>4.4</td>\n",
       "      <td>2 GB RAM | 32 GB ROM | Expandable Upto 256 GB1...</td>\n",
       "      <td>2 GB</td>\n",
       "      <td>32 GB</td>\n",
       "      <td>8</td>\n",
       "      <td>5</td>\n",
       "      <td>realme</td>\n",
       "      <td>Cool Blue</td>\n",
       "    </tr>\n",
       "  </tbody>\n",
       "</table>\n",
       "</div>"
      ],
      "text/plain": [
       "                        Mobile_name  Price  Rating  \\\n",
       "0     realme C20 (Cool Grey, 32 GB)   6799     4.4   \n",
       "1  REDMI Note 9 (Aqua Green, 64 GB)  10999     4.3   \n",
       "2     realme C20 (Cool Blue, 32 GB)   6799     4.4   \n",
       "\n",
       "                                                Spec    RAM     ROM  \\\n",
       "0  2 GB RAM | 32 GB ROM | Expandable Upto 256 GB1...  2 GB   32 GB    \n",
       "1  4 GB RAM | 64 GB ROM | Expandable Upto 512 GB1...  4 GB   64 GB    \n",
       "2  2 GB RAM | 32 GB ROM | Expandable Upto 256 GB1...  2 GB   32 GB    \n",
       "\n",
       "  Rearcam(MP) FrontCam(MP)   Brand      Colour  \n",
       "0           8            5  realme   Cool Grey  \n",
       "1          48           13   REDMI  Aqua Green  \n",
       "2           8            5  realme   Cool Blue  "
      ]
     },
     "execution_count": 60,
     "metadata": {},
     "output_type": "execute_result"
    }
   ],
   "source": [
    "data.head(3)"
   ]
  },
  {
   "cell_type": "code",
   "execution_count": 61,
   "metadata": {},
   "outputs": [],
   "source": [
    "pattern=re.compile(r\"\\d+\\smAh\")   #pattern for Battery"
   ]
  },
  {
   "cell_type": "code",
   "execution_count": 62,
   "metadata": {},
   "outputs": [],
   "source": [
    "data[\"Battery\"]=data[\"Spec\"].apply(lambda x : np.NaN if pattern.search(x) is None else pattern.search(x).group())"
   ]
  },
  {
   "cell_type": "code",
   "execution_count": 63,
   "metadata": {},
   "outputs": [],
   "source": [
    "data[\"Battery\"]=data[\"Battery\"].apply(lambda x: str(x).replace(\"mAh\",\"\"))"
   ]
  },
  {
   "cell_type": "code",
   "execution_count": 64,
   "metadata": {},
   "outputs": [
    {
     "data": {
      "text/html": [
       "<div>\n",
       "<style scoped>\n",
       "    .dataframe tbody tr th:only-of-type {\n",
       "        vertical-align: middle;\n",
       "    }\n",
       "\n",
       "    .dataframe tbody tr th {\n",
       "        vertical-align: top;\n",
       "    }\n",
       "\n",
       "    .dataframe thead th {\n",
       "        text-align: right;\n",
       "    }\n",
       "</style>\n",
       "<table border=\"1\" class=\"dataframe\">\n",
       "  <thead>\n",
       "    <tr style=\"text-align: right;\">\n",
       "      <th></th>\n",
       "      <th>Mobile_name</th>\n",
       "      <th>Price</th>\n",
       "      <th>Rating</th>\n",
       "      <th>Spec</th>\n",
       "      <th>RAM</th>\n",
       "      <th>ROM</th>\n",
       "      <th>Rearcam(MP)</th>\n",
       "      <th>FrontCam(MP)</th>\n",
       "      <th>Brand</th>\n",
       "      <th>Colour</th>\n",
       "      <th>Battery</th>\n",
       "    </tr>\n",
       "  </thead>\n",
       "  <tbody>\n",
       "    <tr>\n",
       "      <th>0</th>\n",
       "      <td>realme C20 (Cool Grey, 32 GB)</td>\n",
       "      <td>6799</td>\n",
       "      <td>4.4</td>\n",
       "      <td>2 GB RAM | 32 GB ROM | Expandable Upto 256 GB1...</td>\n",
       "      <td>2 GB</td>\n",
       "      <td>32 GB</td>\n",
       "      <td>8</td>\n",
       "      <td>5</td>\n",
       "      <td>realme</td>\n",
       "      <td>Cool Grey</td>\n",
       "      <td>5000</td>\n",
       "    </tr>\n",
       "    <tr>\n",
       "      <th>1</th>\n",
       "      <td>REDMI Note 9 (Aqua Green, 64 GB)</td>\n",
       "      <td>10999</td>\n",
       "      <td>4.3</td>\n",
       "      <td>4 GB RAM | 64 GB ROM | Expandable Upto 512 GB1...</td>\n",
       "      <td>4 GB</td>\n",
       "      <td>64 GB</td>\n",
       "      <td>48</td>\n",
       "      <td>13</td>\n",
       "      <td>REDMI</td>\n",
       "      <td>Aqua Green</td>\n",
       "      <td>5020</td>\n",
       "    </tr>\n",
       "  </tbody>\n",
       "</table>\n",
       "</div>"
      ],
      "text/plain": [
       "                        Mobile_name  Price  Rating  \\\n",
       "0     realme C20 (Cool Grey, 32 GB)   6799     4.4   \n",
       "1  REDMI Note 9 (Aqua Green, 64 GB)  10999     4.3   \n",
       "\n",
       "                                                Spec    RAM     ROM  \\\n",
       "0  2 GB RAM | 32 GB ROM | Expandable Upto 256 GB1...  2 GB   32 GB    \n",
       "1  4 GB RAM | 64 GB ROM | Expandable Upto 512 GB1...  4 GB   64 GB    \n",
       "\n",
       "  Rearcam(MP) FrontCam(MP)   Brand      Colour Battery  \n",
       "0           8            5  realme   Cool Grey   5000   \n",
       "1          48           13   REDMI  Aqua Green   5020   "
      ]
     },
     "execution_count": 64,
     "metadata": {},
     "output_type": "execute_result"
    }
   ],
   "source": [
    "data.head(2)"
   ]
  },
  {
   "cell_type": "code",
   "execution_count": 65,
   "metadata": {},
   "outputs": [],
   "source": [
    "pattern=re.compile(\"\\d+\\.\\d+\\sinch\")  #pattern for screen size"
   ]
  },
  {
   "cell_type": "code",
   "execution_count": 66,
   "metadata": {},
   "outputs": [],
   "source": [
    "data[\"Screensize\"]=data[\"Spec\"].apply(lambda x : np.NaN if pattern.search(x) is None else pattern.search(x).group())"
   ]
  },
  {
   "cell_type": "code",
   "execution_count": 67,
   "metadata": {},
   "outputs": [],
   "source": [
    "data[\"Screensize\"]=data[\"Screensize\"].apply(lambda x: str(x).replace(\"inch\",\"\"))"
   ]
  },
  {
   "cell_type": "code",
   "execution_count": 68,
   "metadata": {},
   "outputs": [
    {
     "data": {
      "text/html": [
       "<div>\n",
       "<style scoped>\n",
       "    .dataframe tbody tr th:only-of-type {\n",
       "        vertical-align: middle;\n",
       "    }\n",
       "\n",
       "    .dataframe tbody tr th {\n",
       "        vertical-align: top;\n",
       "    }\n",
       "\n",
       "    .dataframe thead th {\n",
       "        text-align: right;\n",
       "    }\n",
       "</style>\n",
       "<table border=\"1\" class=\"dataframe\">\n",
       "  <thead>\n",
       "    <tr style=\"text-align: right;\">\n",
       "      <th></th>\n",
       "      <th>Mobile_name</th>\n",
       "      <th>Price</th>\n",
       "      <th>Rating</th>\n",
       "      <th>Spec</th>\n",
       "      <th>RAM</th>\n",
       "      <th>ROM</th>\n",
       "      <th>Rearcam(MP)</th>\n",
       "      <th>FrontCam(MP)</th>\n",
       "      <th>Brand</th>\n",
       "      <th>Colour</th>\n",
       "      <th>Battery</th>\n",
       "      <th>Screensize</th>\n",
       "    </tr>\n",
       "  </thead>\n",
       "  <tbody>\n",
       "    <tr>\n",
       "      <th>0</th>\n",
       "      <td>realme C20 (Cool Grey, 32 GB)</td>\n",
       "      <td>6799</td>\n",
       "      <td>4.4</td>\n",
       "      <td>2 GB RAM | 32 GB ROM | Expandable Upto 256 GB1...</td>\n",
       "      <td>2 GB</td>\n",
       "      <td>32 GB</td>\n",
       "      <td>8</td>\n",
       "      <td>5</td>\n",
       "      <td>realme</td>\n",
       "      <td>Cool Grey</td>\n",
       "      <td>5000</td>\n",
       "      <td>6.5</td>\n",
       "    </tr>\n",
       "    <tr>\n",
       "      <th>1</th>\n",
       "      <td>REDMI Note 9 (Aqua Green, 64 GB)</td>\n",
       "      <td>10999</td>\n",
       "      <td>4.3</td>\n",
       "      <td>4 GB RAM | 64 GB ROM | Expandable Upto 512 GB1...</td>\n",
       "      <td>4 GB</td>\n",
       "      <td>64 GB</td>\n",
       "      <td>48</td>\n",
       "      <td>13</td>\n",
       "      <td>REDMI</td>\n",
       "      <td>Aqua Green</td>\n",
       "      <td>5020</td>\n",
       "      <td>6.53</td>\n",
       "    </tr>\n",
       "  </tbody>\n",
       "</table>\n",
       "</div>"
      ],
      "text/plain": [
       "                        Mobile_name  Price  Rating  \\\n",
       "0     realme C20 (Cool Grey, 32 GB)   6799     4.4   \n",
       "1  REDMI Note 9 (Aqua Green, 64 GB)  10999     4.3   \n",
       "\n",
       "                                                Spec    RAM     ROM  \\\n",
       "0  2 GB RAM | 32 GB ROM | Expandable Upto 256 GB1...  2 GB   32 GB    \n",
       "1  4 GB RAM | 64 GB ROM | Expandable Upto 512 GB1...  4 GB   64 GB    \n",
       "\n",
       "  Rearcam(MP) FrontCam(MP)   Brand      Colour Battery Screensize  \n",
       "0           8            5  realme   Cool Grey   5000        6.5   \n",
       "1          48           13   REDMI  Aqua Green   5020       6.53   "
      ]
     },
     "execution_count": 68,
     "metadata": {},
     "output_type": "execute_result"
    }
   ],
   "source": [
    "data.head(2)"
   ]
  },
  {
   "cell_type": "code",
   "execution_count": 69,
   "metadata": {},
   "outputs": [],
   "source": [
    "pattern=re.compile(r\"Battery([\\w\\s]+)\\sProcessor\")     #pattern for Processor"
   ]
  },
  {
   "cell_type": "code",
   "execution_count": 70,
   "metadata": {},
   "outputs": [],
   "source": [
    "data[\"Processor\"]=data[\"Spec\"].apply(lambda x: np.NaN if pattern.search(x) is None else re.findall(pattern,x))"
   ]
  },
  {
   "cell_type": "code",
   "execution_count": 71,
   "metadata": {},
   "outputs": [
    {
     "data": {
      "text/plain": [
       "281"
      ]
     },
     "execution_count": 71,
     "metadata": {},
     "output_type": "execute_result"
    }
   ],
   "source": [
    "data[\"Processor\"].isnull().sum()"
   ]
  },
  {
   "cell_type": "code",
   "execution_count": 72,
   "metadata": {},
   "outputs": [
    {
     "data": {
      "text/html": [
       "<div>\n",
       "<style scoped>\n",
       "    .dataframe tbody tr th:only-of-type {\n",
       "        vertical-align: middle;\n",
       "    }\n",
       "\n",
       "    .dataframe tbody tr th {\n",
       "        vertical-align: top;\n",
       "    }\n",
       "\n",
       "    .dataframe thead th {\n",
       "        text-align: right;\n",
       "    }\n",
       "</style>\n",
       "<table border=\"1\" class=\"dataframe\">\n",
       "  <thead>\n",
       "    <tr style=\"text-align: right;\">\n",
       "      <th></th>\n",
       "      <th>Mobile_name</th>\n",
       "      <th>Price</th>\n",
       "      <th>Rating</th>\n",
       "      <th>Spec</th>\n",
       "      <th>RAM</th>\n",
       "      <th>ROM</th>\n",
       "      <th>Rearcam(MP)</th>\n",
       "      <th>FrontCam(MP)</th>\n",
       "      <th>Brand</th>\n",
       "      <th>Colour</th>\n",
       "      <th>Battery</th>\n",
       "      <th>Screensize</th>\n",
       "      <th>Processor</th>\n",
       "    </tr>\n",
       "  </thead>\n",
       "  <tbody>\n",
       "    <tr>\n",
       "      <th>0</th>\n",
       "      <td>realme C20 (Cool Grey, 32 GB)</td>\n",
       "      <td>6799</td>\n",
       "      <td>4.4</td>\n",
       "      <td>2 GB RAM | 32 GB ROM | Expandable Upto 256 GB1...</td>\n",
       "      <td>2 GB</td>\n",
       "      <td>32 GB</td>\n",
       "      <td>8</td>\n",
       "      <td>5</td>\n",
       "      <td>realme</td>\n",
       "      <td>Cool Grey</td>\n",
       "      <td>5000</td>\n",
       "      <td>6.5</td>\n",
       "      <td>[MediaTek Helio G35]</td>\n",
       "    </tr>\n",
       "    <tr>\n",
       "      <th>1</th>\n",
       "      <td>REDMI Note 9 (Aqua Green, 64 GB)</td>\n",
       "      <td>10999</td>\n",
       "      <td>4.3</td>\n",
       "      <td>4 GB RAM | 64 GB ROM | Expandable Upto 512 GB1...</td>\n",
       "      <td>4 GB</td>\n",
       "      <td>64 GB</td>\n",
       "      <td>48</td>\n",
       "      <td>13</td>\n",
       "      <td>REDMI</td>\n",
       "      <td>Aqua Green</td>\n",
       "      <td>5020</td>\n",
       "      <td>6.53</td>\n",
       "      <td>[MediaTek Helio G85]</td>\n",
       "    </tr>\n",
       "  </tbody>\n",
       "</table>\n",
       "</div>"
      ],
      "text/plain": [
       "                        Mobile_name  Price  Rating  \\\n",
       "0     realme C20 (Cool Grey, 32 GB)   6799     4.4   \n",
       "1  REDMI Note 9 (Aqua Green, 64 GB)  10999     4.3   \n",
       "\n",
       "                                                Spec    RAM     ROM  \\\n",
       "0  2 GB RAM | 32 GB ROM | Expandable Upto 256 GB1...  2 GB   32 GB    \n",
       "1  4 GB RAM | 64 GB ROM | Expandable Upto 512 GB1...  4 GB   64 GB    \n",
       "\n",
       "  Rearcam(MP) FrontCam(MP)   Brand      Colour Battery Screensize  \\\n",
       "0           8            5  realme   Cool Grey   5000        6.5    \n",
       "1          48           13   REDMI  Aqua Green   5020       6.53    \n",
       "\n",
       "              Processor  \n",
       "0  [MediaTek Helio G35]  \n",
       "1  [MediaTek Helio G85]  "
      ]
     },
     "execution_count": 72,
     "metadata": {},
     "output_type": "execute_result"
    }
   ],
   "source": [
    "data.head(2)"
   ]
  },
  {
   "cell_type": "code",
   "execution_count": 73,
   "metadata": {},
   "outputs": [],
   "source": [
    "data.drop(\"Spec\",axis=1,inplace=True)"
   ]
  },
  {
   "cell_type": "code",
   "execution_count": 74,
   "metadata": {},
   "outputs": [],
   "source": [
    "data.to_csv(\"F:/data science/webscrapping project details/data1.csv\",index=False)"
   ]
  },
  {
   "cell_type": "code",
   "execution_count": 75,
   "metadata": {},
   "outputs": [],
   "source": [
    "data2=pd.read_csv(\"F:/data science/webscrapping project details/data1.csv\")"
   ]
  },
  {
   "cell_type": "code",
   "execution_count": 76,
   "metadata": {},
   "outputs": [
    {
     "data": {
      "text/html": [
       "<div>\n",
       "<style scoped>\n",
       "    .dataframe tbody tr th:only-of-type {\n",
       "        vertical-align: middle;\n",
       "    }\n",
       "\n",
       "    .dataframe tbody tr th {\n",
       "        vertical-align: top;\n",
       "    }\n",
       "\n",
       "    .dataframe thead th {\n",
       "        text-align: right;\n",
       "    }\n",
       "</style>\n",
       "<table border=\"1\" class=\"dataframe\">\n",
       "  <thead>\n",
       "    <tr style=\"text-align: right;\">\n",
       "      <th></th>\n",
       "      <th>Mobile_name</th>\n",
       "      <th>Price</th>\n",
       "      <th>Rating</th>\n",
       "      <th>RAM</th>\n",
       "      <th>ROM</th>\n",
       "      <th>Rearcam(MP)</th>\n",
       "      <th>FrontCam(MP)</th>\n",
       "      <th>Brand</th>\n",
       "      <th>Colour</th>\n",
       "      <th>Battery</th>\n",
       "      <th>Screensize</th>\n",
       "      <th>Processor</th>\n",
       "    </tr>\n",
       "  </thead>\n",
       "  <tbody>\n",
       "    <tr>\n",
       "      <th>0</th>\n",
       "      <td>realme C20 (Cool Grey, 32 GB)</td>\n",
       "      <td>6799</td>\n",
       "      <td>4.4</td>\n",
       "      <td>2 GB</td>\n",
       "      <td>32 GB</td>\n",
       "      <td>8</td>\n",
       "      <td>5.0</td>\n",
       "      <td>realme</td>\n",
       "      <td>Cool Grey</td>\n",
       "      <td>5000.0</td>\n",
       "      <td>6.50</td>\n",
       "      <td>['MediaTek Helio G35']</td>\n",
       "    </tr>\n",
       "    <tr>\n",
       "      <th>1</th>\n",
       "      <td>REDMI Note 9 (Aqua Green, 64 GB)</td>\n",
       "      <td>10999</td>\n",
       "      <td>4.3</td>\n",
       "      <td>4 GB</td>\n",
       "      <td>64 GB</td>\n",
       "      <td>48</td>\n",
       "      <td>13.0</td>\n",
       "      <td>REDMI</td>\n",
       "      <td>Aqua Green</td>\n",
       "      <td>5020.0</td>\n",
       "      <td>6.53</td>\n",
       "      <td>['MediaTek Helio G85']</td>\n",
       "    </tr>\n",
       "  </tbody>\n",
       "</table>\n",
       "</div>"
      ],
      "text/plain": [
       "                        Mobile_name  Price  Rating    RAM     ROM  \\\n",
       "0     realme C20 (Cool Grey, 32 GB)   6799     4.4  2 GB   32 GB    \n",
       "1  REDMI Note 9 (Aqua Green, 64 GB)  10999     4.3  4 GB   64 GB    \n",
       "\n",
       "   Rearcam(MP)  FrontCam(MP)   Brand      Colour  Battery  Screensize  \\\n",
       "0            8           5.0  realme   Cool Grey   5000.0        6.50   \n",
       "1           48          13.0   REDMI  Aqua Green   5020.0        6.53   \n",
       "\n",
       "                Processor  \n",
       "0  ['MediaTek Helio G35']  \n",
       "1  ['MediaTek Helio G85']  "
      ]
     },
     "execution_count": 76,
     "metadata": {},
     "output_type": "execute_result"
    }
   ],
   "source": [
    "data2.head(2)"
   ]
  },
  {
   "cell_type": "markdown",
   "metadata": {},
   "source": [
    "# Exploratory Data Analysis"
   ]
  },
  {
   "cell_type": "markdown",
   "metadata": {},
   "source": [
    "### Loading Data"
   ]
  },
  {
   "cell_type": "code",
   "execution_count": 77,
   "metadata": {},
   "outputs": [],
   "source": [
    "data=pd.read_csv(\"F:/data science/webscrapping project details/data1.csv\")"
   ]
  },
  {
   "cell_type": "code",
   "execution_count": 78,
   "metadata": {},
   "outputs": [
    {
     "data": {
      "text/plain": [
       "(576, 12)"
      ]
     },
     "execution_count": 78,
     "metadata": {},
     "output_type": "execute_result"
    }
   ],
   "source": [
    "data.shape"
   ]
  },
  {
   "cell_type": "code",
   "execution_count": 79,
   "metadata": {},
   "outputs": [
    {
     "data": {
      "text/plain": [
       "Index(['Mobile_name', 'Price', 'Rating', 'RAM', 'ROM', 'Rearcam(MP)',\n",
       "       'FrontCam(MP)', 'Brand', 'Colour', 'Battery', 'Screensize',\n",
       "       'Processor'],\n",
       "      dtype='object')"
      ]
     },
     "execution_count": 79,
     "metadata": {},
     "output_type": "execute_result"
    }
   ],
   "source": [
    "data.columns"
   ]
  },
  {
   "cell_type": "code",
   "execution_count": 87,
   "metadata": {},
   "outputs": [
    {
     "data": {
      "text/plain": [
       "Mobile_name      object\n",
       "Price             int64\n",
       "Rating          float64\n",
       "RAM              object\n",
       "ROM              object\n",
       "Rearcam(MP)       int64\n",
       "FrontCam(MP)     object\n",
       "Brand            object\n",
       "Colour           object\n",
       "Battery         float64\n",
       "Screensize      float64\n",
       "Processor        object\n",
       "dtype: object"
      ]
     },
     "execution_count": 87,
     "metadata": {},
     "output_type": "execute_result"
    }
   ],
   "source": [
    "data.dtypes"
   ]
  },
  {
   "cell_type": "code",
   "execution_count": 90,
   "metadata": {},
   "outputs": [],
   "source": [
    "data[\"FrontCam(MP)\"]=data[\"FrontCam(MP)\"].astype(\"float64\")"
   ]
  },
  {
   "cell_type": "code",
   "execution_count": 143,
   "metadata": {},
   "outputs": [
    {
     "data": {
      "text/html": [
       "<div>\n",
       "<style scoped>\n",
       "    .dataframe tbody tr th:only-of-type {\n",
       "        vertical-align: middle;\n",
       "    }\n",
       "\n",
       "    .dataframe tbody tr th {\n",
       "        vertical-align: top;\n",
       "    }\n",
       "\n",
       "    .dataframe thead th {\n",
       "        text-align: right;\n",
       "    }\n",
       "</style>\n",
       "<table border=\"1\" class=\"dataframe\">\n",
       "  <thead>\n",
       "    <tr style=\"text-align: right;\">\n",
       "      <th></th>\n",
       "      <th>Mobile_name</th>\n",
       "      <th>Price</th>\n",
       "      <th>Rating</th>\n",
       "      <th>RAM</th>\n",
       "      <th>ROM</th>\n",
       "      <th>Rearcam(MP)</th>\n",
       "      <th>FrontCam(MP)</th>\n",
       "      <th>Brand</th>\n",
       "      <th>Colour</th>\n",
       "      <th>Battery</th>\n",
       "      <th>Screensize</th>\n",
       "      <th>Processor</th>\n",
       "    </tr>\n",
       "  </thead>\n",
       "  <tbody>\n",
       "    <tr>\n",
       "      <th>0</th>\n",
       "      <td>realme C20 (Cool Grey, 32 GB)</td>\n",
       "      <td>6799</td>\n",
       "      <td>4.4</td>\n",
       "      <td>2 GB</td>\n",
       "      <td>32 GB</td>\n",
       "      <td>8</td>\n",
       "      <td>5.0</td>\n",
       "      <td>realme</td>\n",
       "      <td>Cool Grey</td>\n",
       "      <td>5000.0</td>\n",
       "      <td>6.50</td>\n",
       "      <td>['MediaTek Helio G35']</td>\n",
       "    </tr>\n",
       "    <tr>\n",
       "      <th>1</th>\n",
       "      <td>REDMI Note 9 (Aqua Green, 64 GB)</td>\n",
       "      <td>10999</td>\n",
       "      <td>4.3</td>\n",
       "      <td>4 GB</td>\n",
       "      <td>64 GB</td>\n",
       "      <td>48</td>\n",
       "      <td>13.0</td>\n",
       "      <td>REDMI</td>\n",
       "      <td>Aqua Green</td>\n",
       "      <td>5020.0</td>\n",
       "      <td>6.53</td>\n",
       "      <td>['MediaTek Helio G85']</td>\n",
       "    </tr>\n",
       "    <tr>\n",
       "      <th>2</th>\n",
       "      <td>realme C20 (Cool Blue, 32 GB)</td>\n",
       "      <td>6799</td>\n",
       "      <td>4.4</td>\n",
       "      <td>2 GB</td>\n",
       "      <td>32 GB</td>\n",
       "      <td>8</td>\n",
       "      <td>5.0</td>\n",
       "      <td>realme</td>\n",
       "      <td>Cool Blue</td>\n",
       "      <td>5000.0</td>\n",
       "      <td>6.50</td>\n",
       "      <td>['MediaTek Helio G35']</td>\n",
       "    </tr>\n",
       "    <tr>\n",
       "      <th>3</th>\n",
       "      <td>I Kall K4 (Red, 16 GB)</td>\n",
       "      <td>4399</td>\n",
       "      <td>3.3</td>\n",
       "      <td>2 GB</td>\n",
       "      <td>16 GB</td>\n",
       "      <td>5</td>\n",
       "      <td>2.0</td>\n",
       "      <td>I</td>\n",
       "      <td>Red</td>\n",
       "      <td>2500.0</td>\n",
       "      <td>5.50</td>\n",
       "      <td>not specified</td>\n",
       "    </tr>\n",
       "    <tr>\n",
       "      <th>4</th>\n",
       "      <td>POCO M3 (Power Black, 128 GB)</td>\n",
       "      <td>11999</td>\n",
       "      <td>4.3</td>\n",
       "      <td>6 GB</td>\n",
       "      <td>128 GB</td>\n",
       "      <td>48</td>\n",
       "      <td>8.0</td>\n",
       "      <td>POCO</td>\n",
       "      <td>Power Black</td>\n",
       "      <td>6000.0</td>\n",
       "      <td>6.53</td>\n",
       "      <td>['Qualcomm Snapdragon 662']</td>\n",
       "    </tr>\n",
       "    <tr>\n",
       "      <th>...</th>\n",
       "      <td>...</td>\n",
       "      <td>...</td>\n",
       "      <td>...</td>\n",
       "      <td>...</td>\n",
       "      <td>...</td>\n",
       "      <td>...</td>\n",
       "      <td>...</td>\n",
       "      <td>...</td>\n",
       "      <td>...</td>\n",
       "      <td>...</td>\n",
       "      <td>...</td>\n",
       "      <td>...</td>\n",
       "    </tr>\n",
       "    <tr>\n",
       "      <th>571</th>\n",
       "      <td>I Kall K 18 NEW</td>\n",
       "      <td>999</td>\n",
       "      <td>3.6</td>\n",
       "      <td>32 MB</td>\n",
       "      <td>64 MB</td>\n",
       "      <td>3</td>\n",
       "      <td>0.0</td>\n",
       "      <td>I</td>\n",
       "      <td>Black</td>\n",
       "      <td>2500.0</td>\n",
       "      <td>2.40</td>\n",
       "      <td>not specified</td>\n",
       "    </tr>\n",
       "    <tr>\n",
       "      <th>572</th>\n",
       "      <td>Redmi Note 9 Pro (Glacier White, 64 GB)</td>\n",
       "      <td>15990</td>\n",
       "      <td>4.4</td>\n",
       "      <td>4 GB</td>\n",
       "      <td>64 GB</td>\n",
       "      <td>48</td>\n",
       "      <td>16.0</td>\n",
       "      <td>Redmi</td>\n",
       "      <td>Glacier White</td>\n",
       "      <td>5020.0</td>\n",
       "      <td>6.67</td>\n",
       "      <td>not specified</td>\n",
       "    </tr>\n",
       "    <tr>\n",
       "      <th>573</th>\n",
       "      <td>Good One 5605N</td>\n",
       "      <td>849</td>\n",
       "      <td>3.7</td>\n",
       "      <td>32 MB</td>\n",
       "      <td>32 MB</td>\n",
       "      <td>2</td>\n",
       "      <td>0.0</td>\n",
       "      <td>Good</td>\n",
       "      <td>Black</td>\n",
       "      <td>2500.0</td>\n",
       "      <td>1.80</td>\n",
       "      <td>not specified</td>\n",
       "    </tr>\n",
       "    <tr>\n",
       "      <th>574</th>\n",
       "      <td>Itel Ace Young</td>\n",
       "      <td>749</td>\n",
       "      <td>4.0</td>\n",
       "      <td>4 MB</td>\n",
       "      <td>4 MB</td>\n",
       "      <td>0</td>\n",
       "      <td>0.0</td>\n",
       "      <td>Itel</td>\n",
       "      <td>Black</td>\n",
       "      <td>1000.0</td>\n",
       "      <td>1.80</td>\n",
       "      <td>not specified</td>\n",
       "    </tr>\n",
       "    <tr>\n",
       "      <th>575</th>\n",
       "      <td>Itel Ace Young</td>\n",
       "      <td>749</td>\n",
       "      <td>4.0</td>\n",
       "      <td>4 MB</td>\n",
       "      <td>4 MB</td>\n",
       "      <td>0</td>\n",
       "      <td>0.0</td>\n",
       "      <td>Itel</td>\n",
       "      <td>Black</td>\n",
       "      <td>1000.0</td>\n",
       "      <td>1.80</td>\n",
       "      <td>not specified</td>\n",
       "    </tr>\n",
       "  </tbody>\n",
       "</table>\n",
       "<p>576 rows × 12 columns</p>\n",
       "</div>"
      ],
      "text/plain": [
       "                                 Mobile_name  Price  Rating     RAM      ROM  \\\n",
       "0              realme C20 (Cool Grey, 32 GB)   6799     4.4   2 GB    32 GB    \n",
       "1           REDMI Note 9 (Aqua Green, 64 GB)  10999     4.3   4 GB    64 GB    \n",
       "2              realme C20 (Cool Blue, 32 GB)   6799     4.4   2 GB    32 GB    \n",
       "3                     I Kall K4 (Red, 16 GB)   4399     3.3   2 GB    16 GB    \n",
       "4              POCO M3 (Power Black, 128 GB)  11999     4.3   6 GB   128 GB    \n",
       "..                                       ...    ...     ...     ...      ...   \n",
       "571                          I Kall K 18 NEW    999     3.6  32 MB    64 MB    \n",
       "572  Redmi Note 9 Pro (Glacier White, 64 GB)  15990     4.4   4 GB    64 GB    \n",
       "573                           Good One 5605N    849     3.7  32 MB    32 MB    \n",
       "574                           Itel Ace Young    749     4.0   4 MB     4 MB    \n",
       "575                           Itel Ace Young    749     4.0   4 MB     4 MB    \n",
       "\n",
       "     Rearcam(MP)  FrontCam(MP)   Brand         Colour  Battery  Screensize  \\\n",
       "0              8           5.0  realme      Cool Grey   5000.0        6.50   \n",
       "1             48          13.0   REDMI     Aqua Green   5020.0        6.53   \n",
       "2              8           5.0  realme      Cool Blue   5000.0        6.50   \n",
       "3              5           2.0       I            Red   2500.0        5.50   \n",
       "4             48           8.0    POCO    Power Black   6000.0        6.53   \n",
       "..           ...           ...     ...            ...      ...         ...   \n",
       "571            3           0.0       I          Black   2500.0        2.40   \n",
       "572           48          16.0   Redmi  Glacier White   5020.0        6.67   \n",
       "573            2           0.0    Good          Black   2500.0        1.80   \n",
       "574            0           0.0    Itel          Black   1000.0        1.80   \n",
       "575            0           0.0    Itel          Black   1000.0        1.80   \n",
       "\n",
       "                       Processor  \n",
       "0         ['MediaTek Helio G35']  \n",
       "1         ['MediaTek Helio G85']  \n",
       "2         ['MediaTek Helio G35']  \n",
       "3                  not specified  \n",
       "4    ['Qualcomm Snapdragon 662']  \n",
       "..                           ...  \n",
       "571                not specified  \n",
       "572                not specified  \n",
       "573                not specified  \n",
       "574                not specified  \n",
       "575                not specified  \n",
       "\n",
       "[576 rows x 12 columns]"
      ]
     },
     "execution_count": 143,
     "metadata": {},
     "output_type": "execute_result"
    }
   ],
   "source": [
    "data"
   ]
  },
  {
   "cell_type": "markdown",
   "metadata": {},
   "source": [
    "## Handling missing values"
   ]
  },
  {
   "cell_type": "code",
   "execution_count": 82,
   "metadata": {},
   "outputs": [
    {
     "data": {
      "text/plain": [
       "Mobile_name       0\n",
       "Price             0\n",
       "Rating            3\n",
       "RAM              16\n",
       "ROM              10\n",
       "Rearcam(MP)       0\n",
       "FrontCam(MP)    241\n",
       "Brand             0\n",
       "Colour          213\n",
       "Battery           5\n",
       "Screensize        2\n",
       "Processor       281\n",
       "dtype: int64"
      ]
     },
     "execution_count": 82,
     "metadata": {},
     "output_type": "execute_result"
    }
   ],
   "source": [
    "data.isnull().sum()    #finding missing values"
   ]
  },
  {
   "cell_type": "code",
   "execution_count": 9,
   "metadata": {},
   "outputs": [
    {
     "data": {
      "text/plain": [
       "Mobile_name          0.000000\n",
       "Price                0.173611\n",
       "Rating               0.000000\n",
       "RAM                  3.645833\n",
       "ROM                  1.215278\n",
       "Rearcam(MP)          0.000000\n",
       "FrontCam(MP)         0.000000\n",
       "Brand                0.000000\n",
       "Colour               0.000000\n",
       "Battery(mAh)         0.000000\n",
       "Screensize(inch)     0.694444\n",
       "Processor           42.361111\n",
       "dtype: float64"
      ]
     },
     "execution_count": 9,
     "metadata": {},
     "output_type": "execute_result"
    }
   ],
   "source": [
    "(data.isnull().sum()/data.shape[0])*100      # proportion of missing values"
   ]
  },
  {
   "cell_type": "markdown",
   "metadata": {},
   "source": [
    "## Filling null values"
   ]
  },
  {
   "cell_type": "code",
   "execution_count": 83,
   "metadata": {},
   "outputs": [],
   "source": [
    "data[\"FrontCam(MP)\"].fillna(\"0\",inplace=True)"
   ]
  },
  {
   "cell_type": "code",
   "execution_count": 84,
   "metadata": {},
   "outputs": [],
   "source": [
    "data[\"Colour\"].fillna(\"Black\",inplace=True)"
   ]
  },
  {
   "cell_type": "markdown",
   "metadata": {},
   "source": [
    "   ## Univariant Analysis"
   ]
  },
  {
   "cell_type": "markdown",
   "metadata": {},
   "source": [
    "### Continuous columns"
   ]
  },
  {
   "cell_type": "code",
   "execution_count": 92,
   "metadata": {},
   "outputs": [],
   "source": [
    "count_col=data.select_dtypes([\"float64\",\"int64\"]).columns"
   ]
  },
  {
   "cell_type": "code",
   "execution_count": 93,
   "metadata": {},
   "outputs": [
    {
     "data": {
      "text/plain": [
       "Index(['Price', 'Rating', 'Rearcam(MP)', 'FrontCam(MP)', 'Battery',\n",
       "       'Screensize'],\n",
       "      dtype='object')"
      ]
     },
     "execution_count": 93,
     "metadata": {},
     "output_type": "execute_result"
    }
   ],
   "source": [
    "count_col"
   ]
  },
  {
   "cell_type": "code",
   "execution_count": 94,
   "metadata": {},
   "outputs": [
    {
     "data": {
      "text/html": [
       "<div>\n",
       "<style scoped>\n",
       "    .dataframe tbody tr th:only-of-type {\n",
       "        vertical-align: middle;\n",
       "    }\n",
       "\n",
       "    .dataframe tbody tr th {\n",
       "        vertical-align: top;\n",
       "    }\n",
       "\n",
       "    .dataframe thead th {\n",
       "        text-align: right;\n",
       "    }\n",
       "</style>\n",
       "<table border=\"1\" class=\"dataframe\">\n",
       "  <thead>\n",
       "    <tr style=\"text-align: right;\">\n",
       "      <th></th>\n",
       "      <th>Price</th>\n",
       "      <th>Rating</th>\n",
       "      <th>Rearcam(MP)</th>\n",
       "      <th>FrontCam(MP)</th>\n",
       "      <th>Battery</th>\n",
       "      <th>Screensize</th>\n",
       "    </tr>\n",
       "  </thead>\n",
       "  <tbody>\n",
       "    <tr>\n",
       "      <th>count</th>\n",
       "      <td>576.000000</td>\n",
       "      <td>573.000000</td>\n",
       "      <td>576.000000</td>\n",
       "      <td>576.000000</td>\n",
       "      <td>571.000000</td>\n",
       "      <td>574.000000</td>\n",
       "    </tr>\n",
       "    <tr>\n",
       "      <th>mean</th>\n",
       "      <td>8971.463542</td>\n",
       "      <td>4.115881</td>\n",
       "      <td>21.531250</td>\n",
       "      <td>6.654514</td>\n",
       "      <td>3608.992995</td>\n",
       "      <td>4.846906</td>\n",
       "    </tr>\n",
       "    <tr>\n",
       "      <th>std</th>\n",
       "      <td>8028.771547</td>\n",
       "      <td>0.325129</td>\n",
       "      <td>24.558128</td>\n",
       "      <td>8.074248</td>\n",
       "      <td>1888.844581</td>\n",
       "      <td>2.192552</td>\n",
       "    </tr>\n",
       "    <tr>\n",
       "      <th>min</th>\n",
       "      <td>669.000000</td>\n",
       "      <td>3.000000</td>\n",
       "      <td>0.000000</td>\n",
       "      <td>0.000000</td>\n",
       "      <td>400.000000</td>\n",
       "      <td>0.660000</td>\n",
       "    </tr>\n",
       "    <tr>\n",
       "      <th>25%</th>\n",
       "      <td>1449.000000</td>\n",
       "      <td>4.000000</td>\n",
       "      <td>3.000000</td>\n",
       "      <td>0.000000</td>\n",
       "      <td>1500.000000</td>\n",
       "      <td>2.400000</td>\n",
       "    </tr>\n",
       "    <tr>\n",
       "      <th>50%</th>\n",
       "      <td>7999.000000</td>\n",
       "      <td>4.200000</td>\n",
       "      <td>13.000000</td>\n",
       "      <td>5.000000</td>\n",
       "      <td>4230.000000</td>\n",
       "      <td>6.400000</td>\n",
       "    </tr>\n",
       "    <tr>\n",
       "      <th>75%</th>\n",
       "      <td>13992.250000</td>\n",
       "      <td>4.300000</td>\n",
       "      <td>48.000000</td>\n",
       "      <td>8.000000</td>\n",
       "      <td>5000.000000</td>\n",
       "      <td>6.520000</td>\n",
       "    </tr>\n",
       "    <tr>\n",
       "      <th>max</th>\n",
       "      <td>49999.000000</td>\n",
       "      <td>4.600000</td>\n",
       "      <td>108.000000</td>\n",
       "      <td>44.000000</td>\n",
       "      <td>7000.000000</td>\n",
       "      <td>7.120000</td>\n",
       "    </tr>\n",
       "  </tbody>\n",
       "</table>\n",
       "</div>"
      ],
      "text/plain": [
       "              Price      Rating  Rearcam(MP)  FrontCam(MP)      Battery  \\\n",
       "count    576.000000  573.000000   576.000000    576.000000   571.000000   \n",
       "mean    8971.463542    4.115881    21.531250      6.654514  3608.992995   \n",
       "std     8028.771547    0.325129    24.558128      8.074248  1888.844581   \n",
       "min      669.000000    3.000000     0.000000      0.000000   400.000000   \n",
       "25%     1449.000000    4.000000     3.000000      0.000000  1500.000000   \n",
       "50%     7999.000000    4.200000    13.000000      5.000000  4230.000000   \n",
       "75%    13992.250000    4.300000    48.000000      8.000000  5000.000000   \n",
       "max    49999.000000    4.600000   108.000000     44.000000  7000.000000   \n",
       "\n",
       "       Screensize  \n",
       "count  574.000000  \n",
       "mean     4.846906  \n",
       "std      2.192552  \n",
       "min      0.660000  \n",
       "25%      2.400000  \n",
       "50%      6.400000  \n",
       "75%      6.520000  \n",
       "max      7.120000  "
      ]
     },
     "execution_count": 94,
     "metadata": {},
     "output_type": "execute_result"
    }
   ],
   "source": [
    "data[count_col].describe()"
   ]
  },
  {
   "cell_type": "markdown",
   "metadata": {},
   "source": [
    "## Histogram"
   ]
  },
  {
   "cell_type": "markdown",
   "metadata": {},
   "source": [
    "### Price Analysis"
   ]
  },
  {
   "cell_type": "code",
   "execution_count": 95,
   "metadata": {},
   "outputs": [
    {
     "data": {
      "image/png": "[encoded data removed]",
      "text/plain": [
       "<Figure size 432x288 with 1 Axes>"
      ]
     },
     "metadata": {
      "needs_background": "light"
     },
     "output_type": "display_data"
    }
   ],
   "source": [
    "plt.figure()\n",
    "plt.hist(data[\"Price\"])\n",
    "plt.xlabel(\"Price\",fontsize=\"30\")\n",
    "plt.ylabel(\"Count\",fontsize=\"30\")\n",
    "plt.show()"
   ]
  },
  {
   "cell_type": "markdown",
   "metadata": {},
   "source": [
    "### Observation: There are more number of mobiles with price less than 5000 and very less mobiles with price more than 30,000"
   ]
  },
  {
   "cell_type": "markdown",
   "metadata": {},
   "source": [
    "### Rating Analysis"
   ]
  },
  {
   "cell_type": "code",
   "execution_count": 96,
   "metadata": {},
   "outputs": [
    {
     "data": {
      "image/png": "[encoded data removed]",
      "text/plain": [
       "<Figure size 432x288 with 1 Axes>"
      ]
     },
     "metadata": {
      "needs_background": "light"
     },
     "output_type": "display_data"
    }
   ],
   "source": [
    "plt.figure()\n",
    "plt.hist(data[\"Rating\"])\n",
    "plt.xlabel(\"Rating\",fontsize=\"30\")\n",
    "plt.ylabel(\"Count\",fontsize=\"30\")\n",
    "plt.show()"
   ]
  },
  {
   "cell_type": "markdown",
   "metadata": {},
   "source": [
    "### Observation:There are more number of ratings between 4 to 4.5"
   ]
  },
  {
   "cell_type": "markdown",
   "metadata": {},
   "source": [
    "### Rearcamera Analysis"
   ]
  },
  {
   "cell_type": "code",
   "execution_count": 97,
   "metadata": {},
   "outputs": [
    {
     "data": {
      "image/png": "[encoded data removed]",
      "text/plain": [
       "<Figure size 432x288 with 1 Axes>"
      ]
     },
     "metadata": {
      "needs_background": "light"
     },
     "output_type": "display_data"
    }
   ],
   "source": [
    "plt.figure()\n",
    "plt.hist(data[\"Rearcam(MP)\"])\n",
    "plt.xlabel(\"Rearcam(MP)\",fontsize=\"30\")\n",
    "plt.ylabel(\"Count\",fontsize=\"30\")\n",
    "plt.show()"
   ]
  },
  {
   "cell_type": "markdown",
   "metadata": {},
   "source": [
    "### Obsevation:There are more number of mobiles with 0-20 Megapixel and less number with 40-60 MP and very few with Rearcam around 100 MP"
   ]
  },
  {
   "cell_type": "markdown",
   "metadata": {},
   "source": [
    "### Frontcamera analysis"
   ]
  },
  {
   "cell_type": "code",
   "execution_count": 98,
   "metadata": {},
   "outputs": [
    {
     "data": {
      "image/png": "[encoded data removed]",
      "text/plain": [
       "<Figure size 432x288 with 1 Axes>"
      ]
     },
     "metadata": {
      "needs_background": "light"
     },
     "output_type": "display_data"
    }
   ],
   "source": [
    "plt.figure()\n",
    "plt.hist(data[\"FrontCam(MP)\"])\n",
    "plt.xlabel(\"FrontCam(MP)\",fontsize=\"30\")\n",
    "plt.ylabel(\"Count\",fontsize=\"30\")\n",
    "plt.show()"
   ]
  },
  {
   "cell_type": "markdown",
   "metadata": {},
   "source": [
    "### Obsevation:There are more mobiles with no Front cam and front cam with less than 10 Megapixcel.\n",
    "###  There are less number of mobiles(almost less than 10) with Front camera more than 40 Megapixcel."
   ]
  },
  {
   "cell_type": "markdown",
   "metadata": {},
   "source": [
    "### Battery Analysis"
   ]
  },
  {
   "cell_type": "code",
   "execution_count": 100,
   "metadata": {},
   "outputs": [
    {
     "data": {
      "image/png": "[encoded data removed]",
      "text/plain": [
       "<Figure size 432x288 with 1 Axes>"
      ]
     },
     "metadata": {
      "needs_background": "light"
     },
     "output_type": "display_data"
    }
   ],
   "source": [
    "plt.figure()\n",
    "plt.hist(data[\"Battery\"])\n",
    "plt.xlabel(\"Battery\",fontsize=\"30\")\n",
    "plt.ylabel(\"Count\",fontsize=\"30\")\n",
    "plt.show()"
   ]
  },
  {
   "cell_type": "markdown",
   "metadata": {},
   "source": [
    "### Observation:There are more number of mobiles with battery capacity 5000(mAh).And very few with 6000-7000(mAh)\n",
    " "
   ]
  },
  {
   "cell_type": "markdown",
   "metadata": {},
   "source": [
    "### Screensize Analysis"
   ]
  },
  {
   "cell_type": "code",
   "execution_count": 102,
   "metadata": {},
   "outputs": [
    {
     "data": {
      "image/png": "[encoded data removed]",
      "text/plain": [
       "<Figure size 432x288 with 1 Axes>"
      ]
     },
     "metadata": {
      "needs_background": "light"
     },
     "output_type": "display_data"
    }
   ],
   "source": [
    "plt.figure()\n",
    "plt.hist(data[\"Screensize\"])\n",
    "plt.xlabel(\"Screensize\",fontsize=\"30\")\n",
    "plt.ylabel(\"Count\",fontsize=\"30\")\n",
    "plt.show()"
   ]
  },
  {
   "cell_type": "markdown",
   "metadata": {},
   "source": [
    "### Observation:There are more number of mobiles with Screensize 6-7 inches.Around 100 mobiles are having screensize 1-2.5 inches."
   ]
  },
  {
   "cell_type": "markdown",
   "metadata": {},
   "source": [
    "###  Categorial column"
   ]
  },
  {
   "cell_type": "code",
   "execution_count": 103,
   "metadata": {},
   "outputs": [],
   "source": [
    "count_col=data.select_dtypes([\"object\"]).columns"
   ]
  },
  {
   "cell_type": "code",
   "execution_count": 104,
   "metadata": {},
   "outputs": [
    {
     "data": {
      "text/plain": [
       "Index(['Mobile_name', 'RAM', 'ROM', 'Brand', 'Colour', 'Processor'], dtype='object')"
      ]
     },
     "execution_count": 104,
     "metadata": {},
     "output_type": "execute_result"
    }
   ],
   "source": [
    "count_col"
   ]
  },
  {
   "cell_type": "markdown",
   "metadata": {},
   "source": [
    "## Barplot"
   ]
  },
  {
   "cell_type": "markdown",
   "metadata": {},
   "source": [
    "### Brand Analysis for top 10 mobiles"
   ]
  },
  {
   "cell_type": "code",
   "execution_count": 159,
   "metadata": {},
   "outputs": [],
   "source": [
    "df=data['Brand'].value_counts().iloc[:10].index"
   ]
  },
  {
   "cell_type": "code",
   "execution_count": 161,
   "metadata": {},
   "outputs": [
    {
     "data": {
      "text/plain": [
       "Index(['IKall', 'realme', 'OPPO', 'SAMSUNG', 'REDMI', 'LAVA', 'POCO', 'Itel',\n",
       "       'Infinix', 'Kechaoda'],\n",
       "      dtype='object')"
      ]
     },
     "execution_count": 161,
     "metadata": {},
     "output_type": "execute_result"
    }
   ],
   "source": [
    "df"
   ]
  },
  {
   "cell_type": "code",
   "execution_count": 157,
   "metadata": {},
   "outputs": [
    {
     "data": {
      "text/html": [
       "<div>\n",
       "<style scoped>\n",
       "    .dataframe tbody tr th:only-of-type {\n",
       "        vertical-align: middle;\n",
       "    }\n",
       "\n",
       "    .dataframe tbody tr th {\n",
       "        vertical-align: top;\n",
       "    }\n",
       "\n",
       "    .dataframe thead th {\n",
       "        text-align: right;\n",
       "    }\n",
       "</style>\n",
       "<table border=\"1\" class=\"dataframe\">\n",
       "  <thead>\n",
       "    <tr style=\"text-align: right;\">\n",
       "      <th></th>\n",
       "      <th>Mobile_name</th>\n",
       "      <th>Price</th>\n",
       "      <th>Rating</th>\n",
       "      <th>RAM</th>\n",
       "      <th>ROM</th>\n",
       "      <th>Rearcam(MP)</th>\n",
       "      <th>FrontCam(MP)</th>\n",
       "      <th>Brand</th>\n",
       "      <th>Colour</th>\n",
       "      <th>Battery</th>\n",
       "      <th>Screensize</th>\n",
       "      <th>Processor</th>\n",
       "    </tr>\n",
       "  </thead>\n",
       "  <tbody>\n",
       "    <tr>\n",
       "      <th>3</th>\n",
       "      <td>I Kall K4 (Red, 16 GB)</td>\n",
       "      <td>4399</td>\n",
       "      <td>3.3</td>\n",
       "      <td>2 GB</td>\n",
       "      <td>16 GB</td>\n",
       "      <td>5</td>\n",
       "      <td>2.0</td>\n",
       "      <td>IKall</td>\n",
       "      <td>Red</td>\n",
       "      <td>2500.0</td>\n",
       "      <td>5.50</td>\n",
       "      <td>not specified</td>\n",
       "    </tr>\n",
       "    <tr>\n",
       "      <th>7</th>\n",
       "      <td>I Kall K380 (Blue, 32 GB)</td>\n",
       "      <td>6599</td>\n",
       "      <td>3.0</td>\n",
       "      <td>4 GB</td>\n",
       "      <td>32 GB</td>\n",
       "      <td>13</td>\n",
       "      <td>8.0</td>\n",
       "      <td>IKall</td>\n",
       "      <td>Blue</td>\n",
       "      <td>3600.0</td>\n",
       "      <td>7.12</td>\n",
       "      <td>not specified</td>\n",
       "    </tr>\n",
       "    <tr>\n",
       "      <th>11</th>\n",
       "      <td>I Kall K33 Combo of Two Mobiles</td>\n",
       "      <td>1599</td>\n",
       "      <td>3.7</td>\n",
       "      <td>32 MB</td>\n",
       "      <td>64 MB</td>\n",
       "      <td>3</td>\n",
       "      <td>0.0</td>\n",
       "      <td>IKall</td>\n",
       "      <td>Black</td>\n",
       "      <td>1500.0</td>\n",
       "      <td>2.40</td>\n",
       "      <td>not specified</td>\n",
       "    </tr>\n",
       "    <tr>\n",
       "      <th>15</th>\n",
       "      <td>I Kall K33 New Combo of Two</td>\n",
       "      <td>1599</td>\n",
       "      <td>3.7</td>\n",
       "      <td>32 MB</td>\n",
       "      <td>32 MB</td>\n",
       "      <td>3</td>\n",
       "      <td>0.0</td>\n",
       "      <td>IKall</td>\n",
       "      <td>Black</td>\n",
       "      <td>1500.0</td>\n",
       "      <td>2.40</td>\n",
       "      <td>not specified</td>\n",
       "    </tr>\n",
       "    <tr>\n",
       "      <th>51</th>\n",
       "      <td>I Kall K4 (Red, 16 GB)</td>\n",
       "      <td>4399</td>\n",
       "      <td>3.3</td>\n",
       "      <td>2 GB</td>\n",
       "      <td>16 GB</td>\n",
       "      <td>5</td>\n",
       "      <td>2.0</td>\n",
       "      <td>IKall</td>\n",
       "      <td>Red</td>\n",
       "      <td>2500.0</td>\n",
       "      <td>5.50</td>\n",
       "      <td>not specified</td>\n",
       "    </tr>\n",
       "    <tr>\n",
       "      <th>...</th>\n",
       "      <td>...</td>\n",
       "      <td>...</td>\n",
       "      <td>...</td>\n",
       "      <td>...</td>\n",
       "      <td>...</td>\n",
       "      <td>...</td>\n",
       "      <td>...</td>\n",
       "      <td>...</td>\n",
       "      <td>...</td>\n",
       "      <td>...</td>\n",
       "      <td>...</td>\n",
       "      <td>...</td>\n",
       "    </tr>\n",
       "    <tr>\n",
       "      <th>555</th>\n",
       "      <td>I Kall K4 (Red, 16 GB)</td>\n",
       "      <td>4399</td>\n",
       "      <td>3.3</td>\n",
       "      <td>2 GB</td>\n",
       "      <td>16 GB</td>\n",
       "      <td>5</td>\n",
       "      <td>2.0</td>\n",
       "      <td>IKall</td>\n",
       "      <td>Red</td>\n",
       "      <td>2500.0</td>\n",
       "      <td>5.50</td>\n",
       "      <td>not specified</td>\n",
       "    </tr>\n",
       "    <tr>\n",
       "      <th>559</th>\n",
       "      <td>I Kall K380 (Blue, 32 GB)</td>\n",
       "      <td>6599</td>\n",
       "      <td>3.0</td>\n",
       "      <td>4 GB</td>\n",
       "      <td>32 GB</td>\n",
       "      <td>13</td>\n",
       "      <td>8.0</td>\n",
       "      <td>IKall</td>\n",
       "      <td>Blue</td>\n",
       "      <td>3600.0</td>\n",
       "      <td>7.12</td>\n",
       "      <td>not specified</td>\n",
       "    </tr>\n",
       "    <tr>\n",
       "      <th>563</th>\n",
       "      <td>I Kall K33 Combo of Two Mobiles</td>\n",
       "      <td>1599</td>\n",
       "      <td>3.7</td>\n",
       "      <td>32 MB</td>\n",
       "      <td>64 MB</td>\n",
       "      <td>3</td>\n",
       "      <td>0.0</td>\n",
       "      <td>IKall</td>\n",
       "      <td>Black</td>\n",
       "      <td>1500.0</td>\n",
       "      <td>2.40</td>\n",
       "      <td>not specified</td>\n",
       "    </tr>\n",
       "    <tr>\n",
       "      <th>567</th>\n",
       "      <td>I Kall K33 New Combo of Two</td>\n",
       "      <td>1599</td>\n",
       "      <td>3.7</td>\n",
       "      <td>32 MB</td>\n",
       "      <td>32 MB</td>\n",
       "      <td>3</td>\n",
       "      <td>0.0</td>\n",
       "      <td>IKall</td>\n",
       "      <td>Black</td>\n",
       "      <td>1500.0</td>\n",
       "      <td>2.40</td>\n",
       "      <td>not specified</td>\n",
       "    </tr>\n",
       "    <tr>\n",
       "      <th>571</th>\n",
       "      <td>I Kall K 18 NEW</td>\n",
       "      <td>999</td>\n",
       "      <td>3.6</td>\n",
       "      <td>32 MB</td>\n",
       "      <td>64 MB</td>\n",
       "      <td>3</td>\n",
       "      <td>0.0</td>\n",
       "      <td>IKall</td>\n",
       "      <td>Black</td>\n",
       "      <td>2500.0</td>\n",
       "      <td>2.40</td>\n",
       "      <td>not specified</td>\n",
       "    </tr>\n",
       "  </tbody>\n",
       "</table>\n",
       "<p>72 rows × 12 columns</p>\n",
       "</div>"
      ],
      "text/plain": [
       "                         Mobile_name  Price  Rating     RAM     ROM  \\\n",
       "3             I Kall K4 (Red, 16 GB)   4399     3.3   2 GB   16 GB    \n",
       "7          I Kall K380 (Blue, 32 GB)   6599     3.0   4 GB   32 GB    \n",
       "11   I Kall K33 Combo of Two Mobiles   1599     3.7  32 MB   64 MB    \n",
       "15       I Kall K33 New Combo of Two   1599     3.7  32 MB   32 MB    \n",
       "51            I Kall K4 (Red, 16 GB)   4399     3.3   2 GB   16 GB    \n",
       "..                               ...    ...     ...     ...     ...   \n",
       "555           I Kall K4 (Red, 16 GB)   4399     3.3   2 GB   16 GB    \n",
       "559        I Kall K380 (Blue, 32 GB)   6599     3.0   4 GB   32 GB    \n",
       "563  I Kall K33 Combo of Two Mobiles   1599     3.7  32 MB   64 MB    \n",
       "567      I Kall K33 New Combo of Two   1599     3.7  32 MB   32 MB    \n",
       "571                  I Kall K 18 NEW    999     3.6  32 MB   64 MB    \n",
       "\n",
       "     Rearcam(MP)  FrontCam(MP)  Brand Colour  Battery  Screensize  \\\n",
       "3              5           2.0  IKall    Red   2500.0        5.50   \n",
       "7             13           8.0  IKall   Blue   3600.0        7.12   \n",
       "11             3           0.0  IKall  Black   1500.0        2.40   \n",
       "15             3           0.0  IKall  Black   1500.0        2.40   \n",
       "51             5           2.0  IKall    Red   2500.0        5.50   \n",
       "..           ...           ...    ...    ...      ...         ...   \n",
       "555            5           2.0  IKall    Red   2500.0        5.50   \n",
       "559           13           8.0  IKall   Blue   3600.0        7.12   \n",
       "563            3           0.0  IKall  Black   1500.0        2.40   \n",
       "567            3           0.0  IKall  Black   1500.0        2.40   \n",
       "571            3           0.0  IKall  Black   2500.0        2.40   \n",
       "\n",
       "         Processor  \n",
       "3    not specified  \n",
       "7    not specified  \n",
       "11   not specified  \n",
       "15   not specified  \n",
       "51   not specified  \n",
       "..             ...  \n",
       "555  not specified  \n",
       "559  not specified  \n",
       "563  not specified  \n",
       "567  not specified  \n",
       "571  not specified  \n",
       "\n",
       "[72 rows x 12 columns]"
      ]
     },
     "execution_count": 157,
     "metadata": {},
     "output_type": "execute_result"
    }
   ],
   "source": [
    "data.loc[data[\"Brand\"]==\"IKall\",:]"
   ]
  },
  {
   "cell_type": "code",
   "execution_count": 155,
   "metadata": {},
   "outputs": [],
   "source": [
    "data.loc[data[\"Brand\"]==\"I\",\"Brand\"]=\"IKall\""
   ]
  },
  {
   "cell_type": "code",
   "execution_count": 162,
   "metadata": {},
   "outputs": [
    {
     "name": "stderr",
     "output_type": "stream",
     "text": [
      "C:\\Users\\admin\\anaconda3\\lib\\site-packages\\seaborn\\_decorators.py:36: FutureWarning:\n",
      "\n",
      "Pass the following variable as a keyword arg: x. From version 0.12, the only valid positional argument will be `data`, and passing other arguments without an explicit keyword will result in an error or misinterpretation.\n",
      "\n"
     ]
    },
    {
     "data": {
      "image/png": "[encoded data removed]",
      "text/plain": [
       "<Figure size 1296x576 with 1 Axes>"
      ]
     },
     "metadata": {
      "needs_background": "light"
     },
     "output_type": "display_data"
    }
   ],
   "source": [
    "plt.figure(figsize=(18,8))\n",
    "sns.countplot(data['Brand'], order=df)\n",
    "plt.xlabel(\"Brand\",fontsize=\"30\")\n",
    "plt.ylabel(\"Count\",fontsize=\"30\")\n",
    "plt.show()"
   ]
  },
  {
   "cell_type": "markdown",
   "metadata": {},
   "source": [
    "### Observation:IKall Brand mobiles are high in number(80+) and least Kechaoda Brand mobiles(20+)"
   ]
  },
  {
   "cell_type": "markdown",
   "metadata": {},
   "source": [
    "### RAM Analysis"
   ]
  },
  {
   "cell_type": "code",
   "execution_count": 107,
   "metadata": {},
   "outputs": [],
   "source": [
    "df=data[\"RAM\"].value_counts()[:10].index"
   ]
  },
  {
   "cell_type": "code",
   "execution_count": 108,
   "metadata": {},
   "outputs": [
    {
     "data": {
      "text/plain": [
       "Index(['32 MB ', '4 GB ', '6 GB ', '8 GB ', '2 GB ', '3 GB ', '4 MB ', '8 MB ',\n",
       "       '24 MB ', '64 MB '],\n",
       "      dtype='object')"
      ]
     },
     "execution_count": 108,
     "metadata": {},
     "output_type": "execute_result"
    }
   ],
   "source": [
    "df"
   ]
  },
  {
   "cell_type": "code",
   "execution_count": 109,
   "metadata": {},
   "outputs": [
    {
     "name": "stderr",
     "output_type": "stream",
     "text": [
      "C:\\Users\\admin\\anaconda3\\lib\\site-packages\\seaborn\\_decorators.py:36: FutureWarning:\n",
      "\n",
      "Pass the following variable as a keyword arg: x. From version 0.12, the only valid positional argument will be `data`, and passing other arguments without an explicit keyword will result in an error or misinterpretation.\n",
      "\n"
     ]
    },
    {
     "data": {
      "image/png": "[encoded data removed]",
      "text/plain": [
       "<Figure size 1296x576 with 1 Axes>"
      ]
     },
     "metadata": {
      "needs_background": "light"
     },
     "output_type": "display_data"
    }
   ],
   "source": [
    "plt.figure(figsize=(18,8))\n",
    "sns.countplot(data[\"RAM\"], order=df)\n",
    "plt.xlabel(\"RAM\",fontsize=\"30\")\n",
    "plt.ylabel(\"Count\",fontsize=\"30\")\n",
    "plt.show()"
   ]
  },
  {
   "cell_type": "markdown",
   "metadata": {},
   "source": [
    "### Observation:Mobiles with 32MB RAM are higher in number(120+)  and mobiles with 64MB are lesser(less than 10)"
   ]
  },
  {
   "cell_type": "markdown",
   "metadata": {},
   "source": [
    "### ROM Analysis"
   ]
  },
  {
   "cell_type": "code",
   "execution_count": 110,
   "metadata": {},
   "outputs": [],
   "source": [
    "df=data[\"ROM\"].value_counts().iloc[:10].index"
   ]
  },
  {
   "cell_type": "code",
   "execution_count": 111,
   "metadata": {},
   "outputs": [
    {
     "data": {
      "text/plain": [
       "Index(['128 GB ', '64 GB ', '32 MB ', '32 GB ', '64 MB ', '4 MB ', '16 GB ',\n",
       "       '24 MB ', '256 GB ', '16 MB '],\n",
       "      dtype='object')"
      ]
     },
     "execution_count": 111,
     "metadata": {},
     "output_type": "execute_result"
    }
   ],
   "source": [
    "df"
   ]
  },
  {
   "cell_type": "code",
   "execution_count": 112,
   "metadata": {},
   "outputs": [
    {
     "name": "stderr",
     "output_type": "stream",
     "text": [
      "C:\\Users\\admin\\anaconda3\\lib\\site-packages\\seaborn\\_decorators.py:36: FutureWarning:\n",
      "\n",
      "Pass the following variable as a keyword arg: x. From version 0.12, the only valid positional argument will be `data`, and passing other arguments without an explicit keyword will result in an error or misinterpretation.\n",
      "\n"
     ]
    },
    {
     "data": {
      "image/png": "[encoded data removed]",
      "text/plain": [
       "<Figure size 1296x576 with 1 Axes>"
      ]
     },
     "metadata": {
      "needs_background": "light"
     },
     "output_type": "display_data"
    }
   ],
   "source": [
    "plt.figure(figsize=(18,8))\n",
    "sns.countplot(data[\"ROM\"], order=df)\n",
    "plt.xlabel(\"ROM\",fontsize=\"30\")\n",
    "plt.ylabel(\"Count\",fontsize=\"30\")\n",
    "plt.show()"
   ]
  },
  {
   "cell_type": "markdown",
   "metadata": {},
   "source": [
    "### Observation:Mobiles with 128GB ROM are more in number(160) and  Mobiles with 16MB are less in number(less than 10)"
   ]
  },
  {
   "cell_type": "markdown",
   "metadata": {},
   "source": [
    "### Colour Analysis"
   ]
  },
  {
   "cell_type": "code",
   "execution_count": 113,
   "metadata": {},
   "outputs": [],
   "source": [
    "df=data[\"Colour\"].value_counts()[:10].index"
   ]
  },
  {
   "cell_type": "code",
   "execution_count": 114,
   "metadata": {},
   "outputs": [
    {
     "name": "stderr",
     "output_type": "stream",
     "text": [
      "C:\\Users\\admin\\anaconda3\\lib\\site-packages\\seaborn\\_decorators.py:36: FutureWarning:\n",
      "\n",
      "Pass the following variable as a keyword arg: x. From version 0.12, the only valid positional argument will be `data`, and passing other arguments without an explicit keyword will result in an error or misinterpretation.\n",
      "\n"
     ]
    },
    {
     "data": {
      "image/png": "[encoded data removed]",
      "text/plain": [
       "<Figure size 1296x576 with 1 Axes>"
      ]
     },
     "metadata": {
      "needs_background": "light"
     },
     "output_type": "display_data"
    }
   ],
   "source": [
    "plt.figure(figsize=(18,8))\n",
    "sns.countplot(data[\"Colour\"], order=df)\n",
    "plt.xlabel(\"Colour\",fontsize=\"30\")\n",
    "plt.ylabel(\"Count\",fontsize=\"30\")\n",
    "plt.show()"
   ]
  },
  {
   "cell_type": "markdown",
   "metadata": {},
   "source": [
    "### Observation:Maximum number of mobiles are having Black colour and rest all mobiles are having random colours"
   ]
  },
  {
   "cell_type": "markdown",
   "metadata": {},
   "source": [
    "### Analysis for Processor"
   ]
  },
  {
   "cell_type": "code",
   "execution_count": 115,
   "metadata": {},
   "outputs": [
    {
     "data": {
      "text/plain": [
       "281"
      ]
     },
     "execution_count": 115,
     "metadata": {},
     "output_type": "execute_result"
    }
   ],
   "source": [
    "data[\"Processor\"].isnull().sum()"
   ]
  },
  {
   "cell_type": "code",
   "execution_count": 116,
   "metadata": {},
   "outputs": [],
   "source": [
    "data[\"Processor\"].fillna(\"not specified\",inplace=True)"
   ]
  },
  {
   "cell_type": "code",
   "execution_count": 117,
   "metadata": {},
   "outputs": [],
   "source": [
    "df=data[\"Processor\"].value_counts()[:10].index"
   ]
  },
  {
   "cell_type": "code",
   "execution_count": 118,
   "metadata": {},
   "outputs": [
    {
     "data": {
      "text/plain": [
       "Index(['not specified', '['MediaTek Helio G85']',\n",
       "       '['Qualcomm Snapdragon 720G']', '['MediaTek Helio P35']',\n",
       "       '['MediaTek Helio G80']', '['Qualcomm Snapdragon 662']',\n",
       "       '['MediaTek Helio G25']', '['MediaTek Helio G95']',\n",
       "       '['Mediatek Helio G35']', '['MediaTek Helio G35']'],\n",
       "      dtype='object')"
      ]
     },
     "execution_count": 118,
     "metadata": {},
     "output_type": "execute_result"
    }
   ],
   "source": [
    "df"
   ]
  },
  {
   "cell_type": "code",
   "execution_count": 119,
   "metadata": {},
   "outputs": [
    {
     "name": "stderr",
     "output_type": "stream",
     "text": [
      "C:\\Users\\admin\\anaconda3\\lib\\site-packages\\seaborn\\_decorators.py:36: FutureWarning:\n",
      "\n",
      "Pass the following variable as a keyword arg: x. From version 0.12, the only valid positional argument will be `data`, and passing other arguments without an explicit keyword will result in an error or misinterpretation.\n",
      "\n"
     ]
    },
    {
     "data": {
      "image/png": "[encoded data removed]",
      "text/plain": [
       "<Figure size 1296x576 with 1 Axes>"
      ]
     },
     "metadata": {
      "needs_background": "light"
     },
     "output_type": "display_data"
    }
   ],
   "source": [
    "plt.figure(figsize=(18,8))\n",
    "sns.countplot(data[\"Processor\"], order=df)\n",
    "plt.xlabel(\"Processor\",fontsize=\"30\")\n",
    "plt.ylabel(\"Count\",fontsize=\"30\")\n",
    "plt.show()"
   ]
  },
  {
   "cell_type": "markdown",
   "metadata": {},
   "source": [
    "### Observation:Maximum no.of mobiles din't specify their Processor type.But mobiles which specify max are having MediaTekHelioG85 Processor"
   ]
  },
  {
   "cell_type": "markdown",
   "metadata": {},
   "source": [
    "## Bivariant analysis"
   ]
  },
  {
   "cell_type": "markdown",
   "metadata": {},
   "source": [
    "### Continuous columns"
   ]
  },
  {
   "cell_type": "code",
   "execution_count": 120,
   "metadata": {},
   "outputs": [],
   "source": [
    "count_col=data.select_dtypes([\"float64\",\"int64\"])"
   ]
  },
  {
   "cell_type": "code",
   "execution_count": 121,
   "metadata": {},
   "outputs": [
    {
     "data": {
      "text/html": [
       "<div>\n",
       "<style scoped>\n",
       "    .dataframe tbody tr th:only-of-type {\n",
       "        vertical-align: middle;\n",
       "    }\n",
       "\n",
       "    .dataframe tbody tr th {\n",
       "        vertical-align: top;\n",
       "    }\n",
       "\n",
       "    .dataframe thead th {\n",
       "        text-align: right;\n",
       "    }\n",
       "</style>\n",
       "<table border=\"1\" class=\"dataframe\">\n",
       "  <thead>\n",
       "    <tr style=\"text-align: right;\">\n",
       "      <th></th>\n",
       "      <th>Price</th>\n",
       "      <th>Rating</th>\n",
       "      <th>Rearcam(MP)</th>\n",
       "      <th>FrontCam(MP)</th>\n",
       "      <th>Battery</th>\n",
       "      <th>Screensize</th>\n",
       "    </tr>\n",
       "  </thead>\n",
       "  <tbody>\n",
       "    <tr>\n",
       "      <th>0</th>\n",
       "      <td>6799</td>\n",
       "      <td>4.4</td>\n",
       "      <td>8</td>\n",
       "      <td>5.0</td>\n",
       "      <td>5000.0</td>\n",
       "      <td>6.50</td>\n",
       "    </tr>\n",
       "    <tr>\n",
       "      <th>1</th>\n",
       "      <td>10999</td>\n",
       "      <td>4.3</td>\n",
       "      <td>48</td>\n",
       "      <td>13.0</td>\n",
       "      <td>5020.0</td>\n",
       "      <td>6.53</td>\n",
       "    </tr>\n",
       "    <tr>\n",
       "      <th>2</th>\n",
       "      <td>6799</td>\n",
       "      <td>4.4</td>\n",
       "      <td>8</td>\n",
       "      <td>5.0</td>\n",
       "      <td>5000.0</td>\n",
       "      <td>6.50</td>\n",
       "    </tr>\n",
       "    <tr>\n",
       "      <th>3</th>\n",
       "      <td>4399</td>\n",
       "      <td>3.3</td>\n",
       "      <td>5</td>\n",
       "      <td>2.0</td>\n",
       "      <td>2500.0</td>\n",
       "      <td>5.50</td>\n",
       "    </tr>\n",
       "    <tr>\n",
       "      <th>4</th>\n",
       "      <td>11999</td>\n",
       "      <td>4.3</td>\n",
       "      <td>48</td>\n",
       "      <td>8.0</td>\n",
       "      <td>6000.0</td>\n",
       "      <td>6.53</td>\n",
       "    </tr>\n",
       "    <tr>\n",
       "      <th>...</th>\n",
       "      <td>...</td>\n",
       "      <td>...</td>\n",
       "      <td>...</td>\n",
       "      <td>...</td>\n",
       "      <td>...</td>\n",
       "      <td>...</td>\n",
       "    </tr>\n",
       "    <tr>\n",
       "      <th>571</th>\n",
       "      <td>999</td>\n",
       "      <td>3.6</td>\n",
       "      <td>3</td>\n",
       "      <td>0.0</td>\n",
       "      <td>2500.0</td>\n",
       "      <td>2.40</td>\n",
       "    </tr>\n",
       "    <tr>\n",
       "      <th>572</th>\n",
       "      <td>15990</td>\n",
       "      <td>4.4</td>\n",
       "      <td>48</td>\n",
       "      <td>16.0</td>\n",
       "      <td>5020.0</td>\n",
       "      <td>6.67</td>\n",
       "    </tr>\n",
       "    <tr>\n",
       "      <th>573</th>\n",
       "      <td>849</td>\n",
       "      <td>3.7</td>\n",
       "      <td>2</td>\n",
       "      <td>0.0</td>\n",
       "      <td>2500.0</td>\n",
       "      <td>1.80</td>\n",
       "    </tr>\n",
       "    <tr>\n",
       "      <th>574</th>\n",
       "      <td>749</td>\n",
       "      <td>4.0</td>\n",
       "      <td>0</td>\n",
       "      <td>0.0</td>\n",
       "      <td>1000.0</td>\n",
       "      <td>1.80</td>\n",
       "    </tr>\n",
       "    <tr>\n",
       "      <th>575</th>\n",
       "      <td>749</td>\n",
       "      <td>4.0</td>\n",
       "      <td>0</td>\n",
       "      <td>0.0</td>\n",
       "      <td>1000.0</td>\n",
       "      <td>1.80</td>\n",
       "    </tr>\n",
       "  </tbody>\n",
       "</table>\n",
       "<p>576 rows × 6 columns</p>\n",
       "</div>"
      ],
      "text/plain": [
       "     Price  Rating  Rearcam(MP)  FrontCam(MP)  Battery  Screensize\n",
       "0     6799     4.4            8           5.0   5000.0        6.50\n",
       "1    10999     4.3           48          13.0   5020.0        6.53\n",
       "2     6799     4.4            8           5.0   5000.0        6.50\n",
       "3     4399     3.3            5           2.0   2500.0        5.50\n",
       "4    11999     4.3           48           8.0   6000.0        6.53\n",
       "..     ...     ...          ...           ...      ...         ...\n",
       "571    999     3.6            3           0.0   2500.0        2.40\n",
       "572  15990     4.4           48          16.0   5020.0        6.67\n",
       "573    849     3.7            2           0.0   2500.0        1.80\n",
       "574    749     4.0            0           0.0   1000.0        1.80\n",
       "575    749     4.0            0           0.0   1000.0        1.80\n",
       "\n",
       "[576 rows x 6 columns]"
      ]
     },
     "execution_count": 121,
     "metadata": {},
     "output_type": "execute_result"
    }
   ],
   "source": [
    "count_col"
   ]
  },
  {
   "cell_type": "code",
   "execution_count": 122,
   "metadata": {},
   "outputs": [],
   "source": [
    "corr=data.corr()"
   ]
  },
  {
   "cell_type": "code",
   "execution_count": 123,
   "metadata": {},
   "outputs": [
    {
     "data": {
      "text/html": [
       "<div>\n",
       "<style scoped>\n",
       "    .dataframe tbody tr th:only-of-type {\n",
       "        vertical-align: middle;\n",
       "    }\n",
       "\n",
       "    .dataframe tbody tr th {\n",
       "        vertical-align: top;\n",
       "    }\n",
       "\n",
       "    .dataframe thead th {\n",
       "        text-align: right;\n",
       "    }\n",
       "</style>\n",
       "<table border=\"1\" class=\"dataframe\">\n",
       "  <thead>\n",
       "    <tr style=\"text-align: right;\">\n",
       "      <th></th>\n",
       "      <th>Price</th>\n",
       "      <th>Rating</th>\n",
       "      <th>Rearcam(MP)</th>\n",
       "      <th>FrontCam(MP)</th>\n",
       "      <th>Battery</th>\n",
       "      <th>Screensize</th>\n",
       "    </tr>\n",
       "  </thead>\n",
       "  <tbody>\n",
       "    <tr>\n",
       "      <th>Price</th>\n",
       "      <td>1.000000</td>\n",
       "      <td>0.513887</td>\n",
       "      <td>0.745077</td>\n",
       "      <td>0.722334</td>\n",
       "      <td>0.740160</td>\n",
       "      <td>0.709451</td>\n",
       "    </tr>\n",
       "    <tr>\n",
       "      <th>Rating</th>\n",
       "      <td>0.513887</td>\n",
       "      <td>1.000000</td>\n",
       "      <td>0.414198</td>\n",
       "      <td>0.388000</td>\n",
       "      <td>0.509329</td>\n",
       "      <td>0.383811</td>\n",
       "    </tr>\n",
       "    <tr>\n",
       "      <th>Rearcam(MP)</th>\n",
       "      <td>0.745077</td>\n",
       "      <td>0.414198</td>\n",
       "      <td>1.000000</td>\n",
       "      <td>0.715205</td>\n",
       "      <td>0.619961</td>\n",
       "      <td>0.596418</td>\n",
       "    </tr>\n",
       "    <tr>\n",
       "      <th>FrontCam(MP)</th>\n",
       "      <td>0.722334</td>\n",
       "      <td>0.388000</td>\n",
       "      <td>0.715205</td>\n",
       "      <td>1.000000</td>\n",
       "      <td>0.642376</td>\n",
       "      <td>0.625940</td>\n",
       "    </tr>\n",
       "    <tr>\n",
       "      <th>Battery</th>\n",
       "      <td>0.740160</td>\n",
       "      <td>0.509329</td>\n",
       "      <td>0.619961</td>\n",
       "      <td>0.642376</td>\n",
       "      <td>1.000000</td>\n",
       "      <td>0.923291</td>\n",
       "    </tr>\n",
       "    <tr>\n",
       "      <th>Screensize</th>\n",
       "      <td>0.709451</td>\n",
       "      <td>0.383811</td>\n",
       "      <td>0.596418</td>\n",
       "      <td>0.625940</td>\n",
       "      <td>0.923291</td>\n",
       "      <td>1.000000</td>\n",
       "    </tr>\n",
       "  </tbody>\n",
       "</table>\n",
       "</div>"
      ],
      "text/plain": [
       "                 Price    Rating  Rearcam(MP)  FrontCam(MP)   Battery  \\\n",
       "Price         1.000000  0.513887     0.745077      0.722334  0.740160   \n",
       "Rating        0.513887  1.000000     0.414198      0.388000  0.509329   \n",
       "Rearcam(MP)   0.745077  0.414198     1.000000      0.715205  0.619961   \n",
       "FrontCam(MP)  0.722334  0.388000     0.715205      1.000000  0.642376   \n",
       "Battery       0.740160  0.509329     0.619961      0.642376  1.000000   \n",
       "Screensize    0.709451  0.383811     0.596418      0.625940  0.923291   \n",
       "\n",
       "              Screensize  \n",
       "Price           0.709451  \n",
       "Rating          0.383811  \n",
       "Rearcam(MP)     0.596418  \n",
       "FrontCam(MP)    0.625940  \n",
       "Battery         0.923291  \n",
       "Screensize      1.000000  "
      ]
     },
     "execution_count": 123,
     "metadata": {},
     "output_type": "execute_result"
    }
   ],
   "source": [
    "corr"
   ]
  },
  {
   "cell_type": "code",
   "execution_count": 124,
   "metadata": {},
   "outputs": [
    {
     "data": {
      "text/plain": [
       "<AxesSubplot:>"
      ]
     },
     "execution_count": 124,
     "metadata": {},
     "output_type": "execute_result"
    },
    {
     "data": {
      "image/png": "[encoded data removed]",
      "text/plain": [
       "<Figure size 432x288 with 2 Axes>"
      ]
     },
     "metadata": {
      "needs_background": "light"
     },
     "output_type": "display_data"
    }
   ],
   "source": [
    "sns.heatmap(corr,annot=True)"
   ]
  },
  {
   "cell_type": "markdown",
   "metadata": {},
   "source": [
    "### Observation: Only battery and Screensize columns are related."
   ]
  },
  {
   "cell_type": "markdown",
   "metadata": {},
   "source": [
    "### Price vs Rating"
   ]
  },
  {
   "cell_type": "code",
   "execution_count": 125,
   "metadata": {},
   "outputs": [
    {
     "name": "stderr",
     "output_type": "stream",
     "text": [
      "C:\\Users\\admin\\anaconda3\\lib\\site-packages\\seaborn\\_decorators.py:36: FutureWarning:\n",
      "\n",
      "Pass the following variables as keyword args: x, y. From version 0.12, the only valid positional argument will be `data`, and passing other arguments without an explicit keyword will result in an error or misinterpretation.\n",
      "\n"
     ]
    },
    {
     "data": {
      "image/png": "[encoded data removed]",
      "text/plain": [
       "<Figure size 432x288 with 1 Axes>"
      ]
     },
     "metadata": {
      "needs_background": "light"
     },
     "output_type": "display_data"
    }
   ],
   "source": [
    "plt.figure()\n",
    "sns.scatterplot(data[\"Price\"],data[\"Rating\"])\n",
    "plt.show()"
   ]
  },
  {
   "cell_type": "markdown",
   "metadata": {},
   "source": [
    "### Observation:Ratings are more for mobiles of price 10k to 25k.and maximum ratings are in between 4 to 4.5"
   ]
  },
  {
   "cell_type": "markdown",
   "metadata": {},
   "source": [
    "### Price vs Rearcamera"
   ]
  },
  {
   "cell_type": "code",
   "execution_count": 126,
   "metadata": {},
   "outputs": [
    {
     "name": "stderr",
     "output_type": "stream",
     "text": [
      "C:\\Users\\admin\\anaconda3\\lib\\site-packages\\seaborn\\_decorators.py:36: FutureWarning:\n",
      "\n",
      "Pass the following variables as keyword args: x, y. From version 0.12, the only valid positional argument will be `data`, and passing other arguments without an explicit keyword will result in an error or misinterpretation.\n",
      "\n"
     ]
    },
    {
     "data": {
      "text/plain": [
       "<AxesSubplot:xlabel='Rearcam(MP)', ylabel='Price'>"
      ]
     },
     "execution_count": 126,
     "metadata": {},
     "output_type": "execute_result"
    },
    {
     "data": {
      "image/png": "[encoded data removed]",
      "text/plain": [
       "<Figure size 432x288 with 1 Axes>"
      ]
     },
     "metadata": {
      "needs_background": "light"
     },
     "output_type": "display_data"
    }
   ],
   "source": [
    "sns.scatterplot(data[\"Rearcam(MP)\"],data[\"Price\"])"
   ]
  },
  {
   "cell_type": "markdown",
   "metadata": {},
   "source": [
    "### Observation:Mobiles with Rearcamear 12MP are under 20k and mobiles with around 50MP are ranging from 10k to 25k and some mobiles with greater than 50MP are ranging from 10k to 30k."
   ]
  },
  {
   "cell_type": "code",
   "execution_count": 127,
   "metadata": {},
   "outputs": [
    {
     "data": {
      "image/png": "[encoded data removed]",
      "text/plain": [
       "<Figure size 1728x576 with 1 Axes>"
      ]
     },
     "metadata": {
      "needs_background": "light"
     },
     "output_type": "display_data"
    }
   ],
   "source": [
    "plt.figure(figsize=(24,8))\n",
    "sns.barplot(x=\"Rearcam(MP)\",y=\"Price\",data=data)\n",
    "plt.xlabel(\"Rearcamera(MP)\",fontsize=25)\n",
    "plt.ylabel(\"Price\",fontsize=25)\n",
    "plt.show()"
   ]
  },
  {
   "cell_type": "markdown",
   "metadata": {},
   "source": [
    "### Price vs Frontcamera"
   ]
  },
  {
   "cell_type": "code",
   "execution_count": 128,
   "metadata": {},
   "outputs": [
    {
     "name": "stderr",
     "output_type": "stream",
     "text": [
      "C:\\Users\\admin\\anaconda3\\lib\\site-packages\\seaborn\\_decorators.py:36: FutureWarning:\n",
      "\n",
      "Pass the following variables as keyword args: x, y. From version 0.12, the only valid positional argument will be `data`, and passing other arguments without an explicit keyword will result in an error or misinterpretation.\n",
      "\n"
     ]
    },
    {
     "data": {
      "text/plain": [
       "<AxesSubplot:xlabel='FrontCam(MP)', ylabel='Price'>"
      ]
     },
     "execution_count": 128,
     "metadata": {},
     "output_type": "execute_result"
    },
    {
     "data": {
      "image/png": "[encoded data removed]",
      "text/plain": [
       "<Figure size 432x288 with 1 Axes>"
      ]
     },
     "metadata": {
      "needs_background": "light"
     },
     "output_type": "display_data"
    }
   ],
   "source": [
    "sns.scatterplot(data[\"FrontCam(MP)\"],data[\"Price\"])"
   ]
  },
  {
   "cell_type": "markdown",
   "metadata": {},
   "source": [
    "### Observation:Most of the mobiles dont have Front camera.Mobiles having 8MP and 18MP are ranging from 8k to 30k price.There are mobiles which are having 32MP and price ranging from 15 to25k"
   ]
  },
  {
   "cell_type": "code",
   "execution_count": 129,
   "metadata": {},
   "outputs": [
    {
     "data": {
      "image/png": "[encoded data removed]",
      "text/plain": [
       "<Figure size 432x288 with 1 Axes>"
      ]
     },
     "metadata": {
      "needs_background": "light"
     },
     "output_type": "display_data"
    }
   ],
   "source": [
    "plt.figure()\n",
    "sns.barplot(x=\"FrontCam(MP)\",y=\"Price\",data=data)\n",
    "plt.xlabel(\"Frontcamera(MP)\",fontsize=20)\n",
    "plt.ylabel(\"Price\",fontsize=20)\n",
    "plt.show()"
   ]
  },
  {
   "cell_type": "markdown",
   "metadata": {},
   "source": [
    "### Price vs Battery"
   ]
  },
  {
   "cell_type": "code",
   "execution_count": 131,
   "metadata": {},
   "outputs": [
    {
     "name": "stderr",
     "output_type": "stream",
     "text": [
      "C:\\Users\\admin\\anaconda3\\lib\\site-packages\\seaborn\\_decorators.py:36: FutureWarning:\n",
      "\n",
      "Pass the following variables as keyword args: x, y. From version 0.12, the only valid positional argument will be `data`, and passing other arguments without an explicit keyword will result in an error or misinterpretation.\n",
      "\n"
     ]
    },
    {
     "data": {
      "text/plain": [
       "<AxesSubplot:xlabel='Battery', ylabel='Price'>"
      ]
     },
     "execution_count": 131,
     "metadata": {},
     "output_type": "execute_result"
    },
    {
     "data": {
      "image/png": "[encoded data removed]",
      "text/plain": [
       "<Figure size 432x288 with 1 Axes>"
      ]
     },
     "metadata": {
      "needs_background": "light"
     },
     "output_type": "display_data"
    }
   ],
   "source": [
    "sns.scatterplot(data[\"Battery\"],data[\"Price\"])"
   ]
  },
  {
   "cell_type": "markdown",
   "metadata": {},
   "source": [
    "### Observation:Mobiles with 5000  and 6000 battery  are more and their price vary from 5k to 20k and 6k to 20k"
   ]
  },
  {
   "cell_type": "markdown",
   "metadata": {},
   "source": [
    "### Price vs Screensize"
   ]
  },
  {
   "cell_type": "code",
   "execution_count": 132,
   "metadata": {},
   "outputs": [
    {
     "name": "stderr",
     "output_type": "stream",
     "text": [
      "C:\\Users\\admin\\anaconda3\\lib\\site-packages\\seaborn\\_decorators.py:36: FutureWarning:\n",
      "\n",
      "Pass the following variables as keyword args: x, y. From version 0.12, the only valid positional argument will be `data`, and passing other arguments without an explicit keyword will result in an error or misinterpretation.\n",
      "\n"
     ]
    },
    {
     "data": {
      "text/plain": [
       "<AxesSubplot:xlabel='Screensize', ylabel='Price'>"
      ]
     },
     "execution_count": 132,
     "metadata": {},
     "output_type": "execute_result"
    },
    {
     "data": {
      "image/png": "[encoded data removed]",
      "text/plain": [
       "<Figure size 432x288 with 1 Axes>"
      ]
     },
     "metadata": {
      "needs_background": "light"
     },
     "output_type": "display_data"
    }
   ],
   "source": [
    "sns.scatterplot(data[\"Screensize\"],data[\"Price\"])"
   ]
  },
  {
   "cell_type": "markdown",
   "metadata": {},
   "source": [
    "### Observation: More number of mobiles are having Screensize in between 6 to 7 inches and their price vary from 5k to 30k.As the Screensize increases price also increases."
   ]
  },
  {
   "cell_type": "markdown",
   "metadata": {},
   "source": [
    "### Categorial column"
   ]
  },
  {
   "cell_type": "code",
   "execution_count": 133,
   "metadata": {},
   "outputs": [],
   "source": [
    "count_col=data.select_dtypes([\"object\"])"
   ]
  },
  {
   "cell_type": "code",
   "execution_count": 134,
   "metadata": {},
   "outputs": [
    {
     "data": {
      "text/html": [
       "<div>\n",
       "<style scoped>\n",
       "    .dataframe tbody tr th:only-of-type {\n",
       "        vertical-align: middle;\n",
       "    }\n",
       "\n",
       "    .dataframe tbody tr th {\n",
       "        vertical-align: top;\n",
       "    }\n",
       "\n",
       "    .dataframe thead th {\n",
       "        text-align: right;\n",
       "    }\n",
       "</style>\n",
       "<table border=\"1\" class=\"dataframe\">\n",
       "  <thead>\n",
       "    <tr style=\"text-align: right;\">\n",
       "      <th></th>\n",
       "      <th>Mobile_name</th>\n",
       "      <th>RAM</th>\n",
       "      <th>ROM</th>\n",
       "      <th>Brand</th>\n",
       "      <th>Colour</th>\n",
       "      <th>Processor</th>\n",
       "    </tr>\n",
       "  </thead>\n",
       "  <tbody>\n",
       "    <tr>\n",
       "      <th>0</th>\n",
       "      <td>realme C20 (Cool Grey, 32 GB)</td>\n",
       "      <td>2 GB</td>\n",
       "      <td>32 GB</td>\n",
       "      <td>realme</td>\n",
       "      <td>Cool Grey</td>\n",
       "      <td>['MediaTek Helio G35']</td>\n",
       "    </tr>\n",
       "    <tr>\n",
       "      <th>1</th>\n",
       "      <td>REDMI Note 9 (Aqua Green, 64 GB)</td>\n",
       "      <td>4 GB</td>\n",
       "      <td>64 GB</td>\n",
       "      <td>REDMI</td>\n",
       "      <td>Aqua Green</td>\n",
       "      <td>['MediaTek Helio G85']</td>\n",
       "    </tr>\n",
       "    <tr>\n",
       "      <th>2</th>\n",
       "      <td>realme C20 (Cool Blue, 32 GB)</td>\n",
       "      <td>2 GB</td>\n",
       "      <td>32 GB</td>\n",
       "      <td>realme</td>\n",
       "      <td>Cool Blue</td>\n",
       "      <td>['MediaTek Helio G35']</td>\n",
       "    </tr>\n",
       "    <tr>\n",
       "      <th>3</th>\n",
       "      <td>I Kall K4 (Red, 16 GB)</td>\n",
       "      <td>2 GB</td>\n",
       "      <td>16 GB</td>\n",
       "      <td>I</td>\n",
       "      <td>Red</td>\n",
       "      <td>not specified</td>\n",
       "    </tr>\n",
       "    <tr>\n",
       "      <th>4</th>\n",
       "      <td>POCO M3 (Power Black, 128 GB)</td>\n",
       "      <td>6 GB</td>\n",
       "      <td>128 GB</td>\n",
       "      <td>POCO</td>\n",
       "      <td>Power Black</td>\n",
       "      <td>['Qualcomm Snapdragon 662']</td>\n",
       "    </tr>\n",
       "    <tr>\n",
       "      <th>...</th>\n",
       "      <td>...</td>\n",
       "      <td>...</td>\n",
       "      <td>...</td>\n",
       "      <td>...</td>\n",
       "      <td>...</td>\n",
       "      <td>...</td>\n",
       "    </tr>\n",
       "    <tr>\n",
       "      <th>571</th>\n",
       "      <td>I Kall K 18 NEW</td>\n",
       "      <td>32 MB</td>\n",
       "      <td>64 MB</td>\n",
       "      <td>I</td>\n",
       "      <td>Black</td>\n",
       "      <td>not specified</td>\n",
       "    </tr>\n",
       "    <tr>\n",
       "      <th>572</th>\n",
       "      <td>Redmi Note 9 Pro (Glacier White, 64 GB)</td>\n",
       "      <td>4 GB</td>\n",
       "      <td>64 GB</td>\n",
       "      <td>Redmi</td>\n",
       "      <td>Glacier White</td>\n",
       "      <td>not specified</td>\n",
       "    </tr>\n",
       "    <tr>\n",
       "      <th>573</th>\n",
       "      <td>Good One 5605N</td>\n",
       "      <td>32 MB</td>\n",
       "      <td>32 MB</td>\n",
       "      <td>Good</td>\n",
       "      <td>Black</td>\n",
       "      <td>not specified</td>\n",
       "    </tr>\n",
       "    <tr>\n",
       "      <th>574</th>\n",
       "      <td>Itel Ace Young</td>\n",
       "      <td>4 MB</td>\n",
       "      <td>4 MB</td>\n",
       "      <td>Itel</td>\n",
       "      <td>Black</td>\n",
       "      <td>not specified</td>\n",
       "    </tr>\n",
       "    <tr>\n",
       "      <th>575</th>\n",
       "      <td>Itel Ace Young</td>\n",
       "      <td>4 MB</td>\n",
       "      <td>4 MB</td>\n",
       "      <td>Itel</td>\n",
       "      <td>Black</td>\n",
       "      <td>not specified</td>\n",
       "    </tr>\n",
       "  </tbody>\n",
       "</table>\n",
       "<p>576 rows × 6 columns</p>\n",
       "</div>"
      ],
      "text/plain": [
       "                                 Mobile_name     RAM      ROM   Brand  \\\n",
       "0              realme C20 (Cool Grey, 32 GB)   2 GB    32 GB   realme   \n",
       "1           REDMI Note 9 (Aqua Green, 64 GB)   4 GB    64 GB    REDMI   \n",
       "2              realme C20 (Cool Blue, 32 GB)   2 GB    32 GB   realme   \n",
       "3                     I Kall K4 (Red, 16 GB)   2 GB    16 GB        I   \n",
       "4              POCO M3 (Power Black, 128 GB)   6 GB   128 GB     POCO   \n",
       "..                                       ...     ...      ...     ...   \n",
       "571                          I Kall K 18 NEW  32 MB    64 MB        I   \n",
       "572  Redmi Note 9 Pro (Glacier White, 64 GB)   4 GB    64 GB    Redmi   \n",
       "573                           Good One 5605N  32 MB    32 MB     Good   \n",
       "574                           Itel Ace Young   4 MB     4 MB     Itel   \n",
       "575                           Itel Ace Young   4 MB     4 MB     Itel   \n",
       "\n",
       "            Colour                    Processor  \n",
       "0        Cool Grey       ['MediaTek Helio G35']  \n",
       "1       Aqua Green       ['MediaTek Helio G85']  \n",
       "2        Cool Blue       ['MediaTek Helio G35']  \n",
       "3              Red                not specified  \n",
       "4      Power Black  ['Qualcomm Snapdragon 662']  \n",
       "..             ...                          ...  \n",
       "571          Black                not specified  \n",
       "572  Glacier White                not specified  \n",
       "573          Black                not specified  \n",
       "574          Black                not specified  \n",
       "575          Black                not specified  \n",
       "\n",
       "[576 rows x 6 columns]"
      ]
     },
     "execution_count": 134,
     "metadata": {},
     "output_type": "execute_result"
    }
   ],
   "source": [
    "count_col"
   ]
  },
  {
   "cell_type": "markdown",
   "metadata": {},
   "source": [
    "### Price vs Brand"
   ]
  },
  {
   "cell_type": "markdown",
   "metadata": {},
   "source": [
    "### Maximum price of each Brand"
   ]
  },
  {
   "cell_type": "code",
   "execution_count": 135,
   "metadata": {},
   "outputs": [
    {
     "data": {
      "text/plain": [
       "<AxesSubplot:xlabel='Brand'>"
      ]
     },
     "execution_count": 135,
     "metadata": {},
     "output_type": "execute_result"
    },
    {
     "data": {
      "image/png": "[encoded data removed]",
      "text/plain": [
       "<Figure size 432x288 with 1 Axes>"
      ]
     },
     "metadata": {
      "needs_background": "light"
     },
     "output_type": "display_data"
    }
   ],
   "source": [
    "data.groupby(\"Brand\").agg({\"Price\":\"max\"}).plot.bar()"
   ]
  },
  {
   "cell_type": "markdown",
   "metadata": {},
   "source": [
    "### Observation:Apple and Asus mobiles maximum price is 50k and next comes Vivo with max price 35k and realme mobiles max price is 30k."
   ]
  },
  {
   "cell_type": "code",
   "execution_count": 136,
   "metadata": {},
   "outputs": [
    {
     "data": {
      "application/vnd.plotly.v1+json": {
       "config": {
        "plotlyServerURL": "https://plot.ly"
       },
       "data": [
        {
         "alignmentgroup": "True",
         "hovertemplate": "Brand=realme<br>Price=%{x}<extra></extra>",
         "legendgroup": "realme",
         "marker": {
          "color": "#636efa"
         },
         "name": "realme",
         "notched": false,
         "offsetgroup": "realme",
         "orientation": "h",
         "showlegend": true,
         "type": "box",
         "x": [
          6799,
          6799,
          8999,
          8999,
          7999,
          8249,
          9999,
          13999,
          10499,
          13999,
          8999,
          10499,
          11499,
          8999,
          10999,
          9999,
          9999,
          11499,
          14999,
          16999,
          14999,
          16999,
          14999,
          14999,
          10499,
          10499,
          9999,
          15999,
          14999,
          13999,
          14999,
          14999,
          19999,
          7999,
          8249,
          15999,
          13999,
          17999,
          7499,
          7499,
          17999,
          17999,
          17999,
          17999,
          19999,
          17999,
          19999,
          17999,
          8999,
          17999,
          17999,
          8499,
          15999,
          17999,
          14999,
          26999,
          10499,
          26999,
          29999,
          9499,
          23999,
          26999,
          29999,
          29999,
          23999,
          16999,
          23999
         ],
         "x0": " ",
         "xaxis": "x",
         "y0": " ",
         "yaxis": "y"
        },
        {
         "alignmentgroup": "True",
         "hovertemplate": "Brand=REDMI<br>Price=%{x}<extra></extra>",
         "legendgroup": "REDMI",
         "marker": {
          "color": "#EF553B"
         },
         "name": "REDMI",
         "notched": false,
         "offsetgroup": "REDMI",
         "orientation": "h",
         "showlegend": true,
         "type": "box",
         "x": [
          10999,
          7999,
          10499,
          9846,
          12900,
          9999,
          10499,
          7999,
          10999,
          12999,
          10999,
          9299,
          10499,
          11999,
          12999,
          12999,
          9999,
          9985,
          12999,
          11999,
          9985,
          12999,
          17101,
          20450,
          16495,
          9999,
          10999,
          16099,
          16495,
          10999,
          9999,
          16099,
          16499
         ],
         "x0": " ",
         "xaxis": "x",
         "y0": " ",
         "yaxis": "y"
        },
        {
         "alignmentgroup": "True",
         "hovertemplate": "Brand=I<br>Price=%{x}<extra></extra>",
         "legendgroup": "I",
         "marker": {
          "color": "#00cc96"
         },
         "name": "I",
         "notched": false,
         "offsetgroup": "I",
         "orientation": "h",
         "showlegend": true,
         "type": "box",
         "x": [
          4399,
          6599,
          1599,
          1599,
          4399,
          6599,
          1599,
          1599,
          1599,
          4399,
          6599,
          1599,
          1599,
          4399,
          6599,
          1599,
          1599,
          1599,
          4399,
          6599,
          1599,
          1599,
          1599,
          4399,
          6599,
          1599,
          1599,
          4399,
          6599,
          1599,
          1599,
          999,
          4399,
          6599,
          1599,
          1599,
          1599,
          999,
          1599,
          719,
          1599,
          1599,
          1599,
          669,
          4399,
          6599,
          1599,
          1599,
          4399,
          6599,
          1599,
          669,
          1599,
          4399,
          6599,
          1599,
          1599,
          1599,
          4399,
          669,
          6599,
          1599,
          1599,
          4399,
          6599,
          1599,
          1599,
          4399,
          6599,
          1599,
          1599,
          999
         ],
         "x0": " ",
         "xaxis": "x",
         "y0": " ",
         "yaxis": "y"
        },
        {
         "alignmentgroup": "True",
         "hovertemplate": "Brand=POCO<br>Price=%{x}<extra></extra>",
         "legendgroup": "POCO",
         "marker": {
          "color": "#ab63fa"
         },
         "name": "POCO",
         "notched": false,
         "offsetgroup": "POCO",
         "orientation": "h",
         "showlegend": true,
         "type": "box",
         "x": [
          11999,
          10499,
          10499,
          9499,
          8499,
          8499,
          10499,
          9499,
          18999,
          18999,
          16999,
          7499,
          20999,
          16999,
          15999,
          8499,
          20999,
          20999,
          20999,
          13999,
          7499,
          12999,
          7499,
          15999,
          7499,
          15999,
          15999,
          15999
         ],
         "x0": " ",
         "xaxis": "x",
         "y0": " ",
         "yaxis": "y"
        },
        {
         "alignmentgroup": "True",
         "hovertemplate": "Brand=Infinix<br>Price=%{x}<extra></extra>",
         "legendgroup": "Infinix",
         "marker": {
          "color": "#FFA15A"
         },
         "name": "Infinix",
         "notched": false,
         "offsetgroup": "Infinix",
         "orientation": "h",
         "showlegend": true,
         "type": "box",
         "x": [
          9499,
          9499,
          9499,
          6499,
          6499,
          6499,
          7199,
          7199,
          7199,
          7199,
          9499,
          9499,
          7499,
          7499,
          7499,
          9499,
          9499,
          9499,
          10999,
          10499,
          11999,
          11999,
          10999,
          14999,
          14999,
          16999,
          16999
         ],
         "x0": " ",
         "xaxis": "x",
         "y0": " ",
         "yaxis": "y"
        },
        {
         "alignmentgroup": "True",
         "hovertemplate": "Brand=OPPO<br>Price=%{x}<extra></extra>",
         "legendgroup": "OPPO",
         "marker": {
          "color": "#19d3f3"
         },
         "name": "OPPO",
         "notched": false,
         "offsetgroup": "OPPO",
         "orientation": "h",
         "showlegend": true,
         "type": "box",
         "x": [
          12990,
          14990,
          8990,
          8490,
          7490,
          8990,
          16990,
          16990,
          14990,
          7490,
          12990,
          11490,
          17990,
          11490,
          11895,
          11490,
          19990,
          11895,
          9990,
          9899,
          10999,
          19990,
          19990,
          13490,
          13490,
          10990,
          13490,
          14490,
          14490,
          14490,
          15990,
          11989,
          11688,
          9990,
          19990,
          19990,
          10999,
          9899,
          10990,
          12180,
          13490,
          9990,
          17990,
          17990,
          25990,
          18348,
          15990,
          9498,
          15990,
          15990,
          23990,
          21490,
          8490,
          9494
         ],
         "x0": " ",
         "xaxis": "x",
         "y0": " ",
         "yaxis": "y"
        },
        {
         "alignmentgroup": "True",
         "hovertemplate": "Brand=MOTOROLA<br>Price=%{x}<extra></extra>",
         "legendgroup": "MOTOROLA",
         "marker": {
          "color": "#FF6692"
         },
         "name": "MOTOROLA",
         "notched": false,
         "offsetgroup": "MOTOROLA",
         "orientation": "h",
         "showlegend": true,
         "type": "box",
         "x": [
          7999,
          9499,
          9499,
          7999,
          14499,
          10999,
          14499,
          17999,
          14499
         ],
         "x0": " ",
         "xaxis": "x",
         "y0": " ",
         "yaxis": "y"
        },
        {
         "alignmentgroup": "True",
         "hovertemplate": "Brand=Nokia<br>Price=%{x}<extra></extra>",
         "legendgroup": "Nokia",
         "marker": {
          "color": "#B6E880"
         },
         "name": "Nokia",
         "notched": false,
         "offsetgroup": "Nokia",
         "orientation": "h",
         "showlegend": true,
         "type": "box",
         "x": [
          1209,
          1349,
          1198,
          1198,
          1219,
          2518,
          1664,
          1664,
          3559,
          2799,
          3670,
          1358,
          2245,
          3740,
          3670,
          3699,
          4399,
          6749,
          9999
         ],
         "x0": " ",
         "xaxis": "x",
         "y0": " ",
         "yaxis": "y"
        },
        {
         "alignmentgroup": "True",
         "hovertemplate": "Brand=GIONEE<br>Price=%{x}<extra></extra>",
         "legendgroup": "GIONEE",
         "marker": {
          "color": "#FF97FF"
         },
         "name": "GIONEE",
         "notched": false,
         "offsetgroup": "GIONEE",
         "orientation": "h",
         "showlegend": true,
         "type": "box",
         "x": [
          5999,
          5999,
          6499,
          5399,
          6499,
          6599,
          6499
         ],
         "x0": " ",
         "xaxis": "x",
         "y0": " ",
         "yaxis": "y"
        },
        {
         "alignmentgroup": "True",
         "hovertemplate": "Brand=SAMSUNG<br>Price=%{x}<extra></extra>",
         "legendgroup": "SAMSUNG",
         "marker": {
          "color": "#FECB52"
         },
         "name": "SAMSUNG",
         "notched": false,
         "offsetgroup": "SAMSUNG",
         "orientation": "h",
         "showlegend": true,
         "type": "box",
         "x": [
          10999,
          11999,
          11999,
          10999,
          8999,
          18299,
          10999,
          19980,
          16999,
          9972,
          20448,
          1662,
          1449,
          15979,
          1608,
          14990,
          12999,
          25999,
          14490,
          15979,
          12999,
          14490,
          20663,
          25999,
          25999,
          12999,
          17490,
          22499,
          12999,
          24990,
          2299,
          10284,
          9974,
          18299,
          20499,
          16290,
          17490,
          8499,
          21752,
          8939,
          23999,
          22490,
          8999,
          1410,
          16999,
          23999,
          8999,
          13999,
          24480,
          1410
         ],
         "x0": " ",
         "xaxis": "x",
         "y0": " ",
         "yaxis": "y"
        },
        {
         "alignmentgroup": "True",
         "hovertemplate": "Brand=LAVA<br>Price=%{x}<extra></extra>",
         "legendgroup": "LAVA",
         "marker": {
          "color": "#636efa"
         },
         "name": "LAVA",
         "notched": false,
         "offsetgroup": "LAVA",
         "orientation": "h",
         "showlegend": true,
         "type": "box",
         "x": [
          1073,
          955,
          1100,
          955,
          1100,
          1752,
          1752,
          1899,
          988,
          988,
          988,
          988,
          988,
          988,
          1159,
          1159,
          6388,
          1149,
          1399,
          1149,
          1120,
          5199,
          6388,
          1699,
          1599,
          1349,
          1399,
          1399,
          1349,
          1199
         ],
         "x0": " ",
         "xaxis": "x",
         "y0": " ",
         "yaxis": "y"
        },
        {
         "alignmentgroup": "True",
         "hovertemplate": "Brand=Panasonic<br>Price=%{x}<extra></extra>",
         "legendgroup": "Panasonic",
         "marker": {
          "color": "#EF553B"
         },
         "name": "Panasonic",
         "notched": false,
         "offsetgroup": "Panasonic",
         "orientation": "h",
         "showlegend": true,
         "type": "box",
         "x": [
          5001,
          5299,
          6999,
          6999
         ],
         "x0": " ",
         "xaxis": "x",
         "y0": " ",
         "yaxis": "y"
        },
        {
         "alignmentgroup": "True",
         "hovertemplate": "Brand=ViVO<br>Price=%{x}<extra></extra>",
         "legendgroup": "ViVO",
         "marker": {
          "color": "#00cc96"
         },
         "name": "ViVO",
         "notched": false,
         "offsetgroup": "ViVO",
         "orientation": "h",
         "showlegend": true,
         "type": "box",
         "x": [
          12990,
          13990,
          14990,
          12990,
          13990,
          12990,
          14990,
          10490,
          9490,
          20990,
          17990,
          14990,
          20990,
          14990,
          16490,
          10490,
          7990,
          7990,
          7990,
          16990,
          29990,
          17990,
          32990,
          17990,
          17990
         ],
         "x0": " ",
         "xaxis": "x",
         "y0": " ",
         "yaxis": "y"
        },
        {
         "alignmentgroup": "True",
         "hovertemplate": "Brand=Redmi<br>Price=%{x}<extra></extra>",
         "legendgroup": "Redmi",
         "marker": {
          "color": "#ab63fa"
         },
         "name": "Redmi",
         "notched": false,
         "offsetgroup": "Redmi",
         "orientation": "h",
         "showlegend": true,
         "type": "box",
         "x": [
          10997,
          10997,
          9299,
          9145,
          7326,
          7305,
          7320,
          8299,
          8299,
          9189,
          7899,
          24999,
          7399,
          10299,
          15990
         ],
         "x0": " ",
         "xaxis": "x",
         "y0": " ",
         "yaxis": "y"
        },
        {
         "alignmentgroup": "True",
         "hovertemplate": "Brand=KARBONN<br>Price=%{x}<extra></extra>",
         "legendgroup": "KARBONN",
         "marker": {
          "color": "#FFA15A"
         },
         "name": "KARBONN",
         "notched": false,
         "offsetgroup": "KARBONN",
         "orientation": "h",
         "showlegend": true,
         "type": "box",
         "x": [
          1299,
          890,
          1299,
          1399,
          1449,
          1399,
          888,
          4990,
          825,
          1049,
          1049,
          999,
          949
         ],
         "x0": " ",
         "xaxis": "x",
         "y0": " ",
         "yaxis": "y"
        },
        {
         "alignmentgroup": "True",
         "hovertemplate": "Brand=Itel<br>Price=%{x}<extra></extra>",
         "legendgroup": "Itel",
         "marker": {
          "color": "#19d3f3"
         },
         "name": "Itel",
         "notched": false,
         "offsetgroup": "Itel",
         "orientation": "h",
         "showlegend": true,
         "type": "box",
         "x": [
          775,
          5965,
          5960,
          6992,
          924,
          1399,
          925,
          6992,
          1399,
          1249,
          1249,
          917,
          1399,
          925,
          949,
          6549,
          5960,
          924,
          1399,
          1125,
          1119,
          1119,
          924,
          6899,
          899,
          1399,
          749,
          749
         ],
         "x0": " ",
         "xaxis": "x",
         "y0": " ",
         "yaxis": "y"
        },
        {
         "alignmentgroup": "True",
         "hovertemplate": "Brand=GFive<br>Price=%{x}<extra></extra>",
         "legendgroup": "GFive",
         "marker": {
          "color": "#FF6692"
         },
         "name": "GFive",
         "notched": false,
         "offsetgroup": "GFive",
         "orientation": "h",
         "showlegend": true,
         "type": "box",
         "x": [
          799,
          1299,
          1259,
          1259,
          679,
          839,
          679,
          1259
         ],
         "x0": " ",
         "xaxis": "x",
         "y0": " ",
         "yaxis": "y"
        },
        {
         "alignmentgroup": "True",
         "hovertemplate": "Brand=Tecno<br>Price=%{x}<extra></extra>",
         "legendgroup": "Tecno",
         "marker": {
          "color": "#B6E880"
         },
         "name": "Tecno",
         "notched": false,
         "offsetgroup": "Tecno",
         "orientation": "h",
         "showlegend": true,
         "type": "box",
         "x": [
          8699,
          8699,
          10499,
          12499,
          10499
         ],
         "x0": " ",
         "xaxis": "x",
         "y0": " ",
         "yaxis": "y"
        },
        {
         "alignmentgroup": "True",
         "hovertemplate": "Brand=APPLE<br>Price=%{x}<extra></extra>",
         "legendgroup": "APPLE",
         "marker": {
          "color": "#FF97FF"
         },
         "name": "APPLE",
         "notched": false,
         "offsetgroup": "APPLE",
         "orientation": "h",
         "showlegend": true,
         "type": "box",
         "x": [
          49999,
          31999,
          31999,
          31999,
          49999
         ],
         "x0": " ",
         "xaxis": "x",
         "y0": " ",
         "yaxis": "y"
        },
        {
         "alignmentgroup": "True",
         "hovertemplate": "Brand=MU<br>Price=%{x}<extra></extra>",
         "legendgroup": "MU",
         "marker": {
          "color": "#FECB52"
         },
         "name": "MU",
         "notched": false,
         "offsetgroup": "MU",
         "orientation": "h",
         "showlegend": true,
         "type": "box",
         "x": [
          1150
         ],
         "x0": " ",
         "xaxis": "x",
         "y0": " ",
         "yaxis": "y"
        },
        {
         "alignmentgroup": "True",
         "hovertemplate": "Brand=BlackZone<br>Price=%{x}<extra></extra>",
         "legendgroup": "BlackZone",
         "marker": {
          "color": "#636efa"
         },
         "name": "BlackZone",
         "notched": false,
         "offsetgroup": "BlackZone",
         "orientation": "h",
         "showlegend": true,
         "type": "box",
         "x": [
          729,
          1029
         ],
         "x0": " ",
         "xaxis": "x",
         "y0": " ",
         "yaxis": "y"
        },
        {
         "alignmentgroup": "True",
         "hovertemplate": "Brand=Micromax<br>Price=%{x}<extra></extra>",
         "legendgroup": "Micromax",
         "marker": {
          "color": "#EF553B"
         },
         "name": "Micromax",
         "notched": false,
         "offsetgroup": "Micromax",
         "orientation": "h",
         "showlegend": true,
         "type": "box",
         "x": [
          887,
          1399,
          1499,
          915,
          915,
          887,
          1399,
          989,
          1450,
          1420,
          1298,
          1269,
          1099,
          1099,
          1050,
          929,
          1358,
          929,
          8934
         ],
         "x0": " ",
         "xaxis": "x",
         "y0": " ",
         "yaxis": "y"
        },
        {
         "alignmentgroup": "True",
         "hovertemplate": "Brand=Kechaoda<br>Price=%{x}<extra></extra>",
         "legendgroup": "Kechaoda",
         "marker": {
          "color": "#00cc96"
         },
         "name": "Kechaoda",
         "notched": false,
         "offsetgroup": "Kechaoda",
         "orientation": "h",
         "showlegend": true,
         "type": "box",
         "x": [
          1374,
          975,
          975,
          1399,
          1028,
          990,
          955,
          969,
          1028,
          990,
          999,
          1039,
          1021,
          1019,
          995,
          950,
          999,
          999,
          1270,
          1270,
          1045,
          990,
          999,
          1130,
          1019,
          995
         ],
         "x0": " ",
         "xaxis": "x",
         "y0": " ",
         "yaxis": "y"
        },
        {
         "alignmentgroup": "True",
         "hovertemplate": "Brand=Snexian<br>Price=%{x}<extra></extra>",
         "legendgroup": "Snexian",
         "marker": {
          "color": "#ab63fa"
         },
         "name": "Snexian",
         "notched": false,
         "offsetgroup": "Snexian",
         "orientation": "h",
         "showlegend": true,
         "type": "box",
         "x": [
          1199,
          1199,
          1299,
          1399
         ],
         "x0": " ",
         "xaxis": "x",
         "y0": " ",
         "yaxis": "y"
        },
        {
         "alignmentgroup": "True",
         "hovertemplate": "Brand=Grabo<br>Price=%{x}<extra></extra>",
         "legendgroup": "Grabo",
         "marker": {
          "color": "#FFA15A"
         },
         "name": "Grabo",
         "notched": false,
         "offsetgroup": "Grabo",
         "orientation": "h",
         "showlegend": true,
         "type": "box",
         "x": [
          705
         ],
         "x0": " ",
         "xaxis": "x",
         "y0": " ",
         "yaxis": "y"
        },
        {
         "alignmentgroup": "True",
         "hovertemplate": "Brand=Good<br>Price=%{x}<extra></extra>",
         "legendgroup": "Good",
         "marker": {
          "color": "#19d3f3"
         },
         "name": "Good",
         "notched": false,
         "offsetgroup": "Good",
         "orientation": "h",
         "showlegend": true,
         "type": "box",
         "x": [
          1499,
          1499,
          1499,
          1399,
          1399,
          849,
          1399,
          1399,
          849
         ],
         "x0": " ",
         "xaxis": "x",
         "y0": " ",
         "yaxis": "y"
        },
        {
         "alignmentgroup": "True",
         "hovertemplate": "Brand=GREENBERRI<br>Price=%{x}<extra></extra>",
         "legendgroup": "GREENBERRI",
         "marker": {
          "color": "#FF6692"
         },
         "name": "GREENBERRI",
         "notched": false,
         "offsetgroup": "GREENBERRI",
         "orientation": "h",
         "showlegend": true,
         "type": "box",
         "x": [
          1999
         ],
         "x0": " ",
         "xaxis": "x",
         "y0": " ",
         "yaxis": "y"
        },
        {
         "alignmentgroup": "True",
         "hovertemplate": "Brand=Salora<br>Price=%{x}<extra></extra>",
         "legendgroup": "Salora",
         "marker": {
          "color": "#B6E880"
         },
         "name": "Salora",
         "notched": false,
         "offsetgroup": "Salora",
         "orientation": "h",
         "showlegend": true,
         "type": "box",
         "x": [
          738,
          899,
          899,
          899
         ],
         "x0": " ",
         "xaxis": "x",
         "y0": " ",
         "yaxis": "y"
        },
        {
         "alignmentgroup": "True",
         "hovertemplate": "Brand=Jmax<br>Price=%{x}<extra></extra>",
         "legendgroup": "Jmax",
         "marker": {
          "color": "#FF97FF"
         },
         "name": "Jmax",
         "notched": false,
         "offsetgroup": "Jmax",
         "orientation": "h",
         "showlegend": true,
         "type": "box",
         "x": [
          699,
          699,
          699
         ],
         "x0": " ",
         "xaxis": "x",
         "y0": " ",
         "yaxis": "y"
        },
        {
         "alignmentgroup": "True",
         "hovertemplate": "Brand=DETEL<br>Price=%{x}<extra></extra>",
         "legendgroup": "DETEL",
         "marker": {
          "color": "#FECB52"
         },
         "name": "DETEL",
         "notched": false,
         "offsetgroup": "DETEL",
         "orientation": "h",
         "showlegend": true,
         "type": "box",
         "x": [
          725
         ],
         "x0": " ",
         "xaxis": "x",
         "y0": " ",
         "yaxis": "y"
        },
        {
         "alignmentgroup": "True",
         "hovertemplate": "Brand=Ismart<br>Price=%{x}<extra></extra>",
         "legendgroup": "Ismart",
         "marker": {
          "color": "#636efa"
         },
         "name": "Ismart",
         "notched": false,
         "offsetgroup": "Ismart",
         "orientation": "h",
         "showlegend": true,
         "type": "box",
         "x": [
          1390,
          1390
         ],
         "x0": " ",
         "xaxis": "x",
         "y0": " ",
         "yaxis": "y"
        },
        {
         "alignmentgroup": "True",
         "hovertemplate": "Brand=ASUS<br>Price=%{x}<extra></extra>",
         "legendgroup": "ASUS",
         "marker": {
          "color": "#EF553B"
         },
         "name": "ASUS",
         "notched": false,
         "offsetgroup": "ASUS",
         "orientation": "h",
         "showlegend": true,
         "type": "box",
         "x": [
          49999,
          49999
         ],
         "x0": " ",
         "xaxis": "x",
         "y0": " ",
         "yaxis": "y"
        },
        {
         "alignmentgroup": "True",
         "hovertemplate": "Brand=Mi<br>Price=%{x}<extra></extra>",
         "legendgroup": "Mi",
         "marker": {
          "color": "#00cc96"
         },
         "name": "Mi",
         "notched": false,
         "offsetgroup": "Mi",
         "orientation": "h",
         "showlegend": true,
         "type": "box",
         "x": [
          23486,
          23486
         ],
         "x0": " ",
         "xaxis": "x",
         "y0": " ",
         "yaxis": "y"
        }
       ],
       "layout": {
        "boxmode": "group",
        "legend": {
         "title": {
          "text": "Brand"
         },
         "tracegroupgap": 0
        },
        "margin": {
         "t": 60
        },
        "template": {
         "data": {
          "bar": [
           {
            "error_x": {
             "color": "#2a3f5f"
            },
            "error_y": {
             "color": "#2a3f5f"
            },
            "marker": {
             "line": {
              "color": "#E5ECF6",
              "width": 0.5
             }
            },
            "type": "bar"
           }
          ],
          "barpolar": [
           {
            "marker": {
             "line": {
              "color": "#E5ECF6",
              "width": 0.5
             }
            },
            "type": "barpolar"
           }
          ],
          "carpet": [
           {
            "aaxis": {
             "endlinecolor": "#2a3f5f",
             "gridcolor": "white",
             "linecolor": "white",
             "minorgridcolor": "white",
             "startlinecolor": "#2a3f5f"
            },
            "baxis": {
             "endlinecolor": "#2a3f5f",
             "gridcolor": "white",
             "linecolor": "white",
             "minorgridcolor": "white",
             "startlinecolor": "#2a3f5f"
            },
            "type": "carpet"
           }
          ],
          "choropleth": [
           {
            "colorbar": {
             "outlinewidth": 0,
             "ticks": ""
            },
            "type": "choropleth"
           }
          ],
          "contour": [
           {
            "colorbar": {
             "outlinewidth": 0,
             "ticks": ""
            },
            "colorscale": [
             [
              0,
              "#0d0887"
             ],
             [
              0.1111111111111111,
              "#46039f"
             ],
             [
              0.2222222222222222,
              "#7201a8"
             ],
             [
              0.3333333333333333,
              "#9c179e"
             ],
             [
              0.4444444444444444,
              "#bd3786"
             ],
             [
              0.5555555555555556,
              "#d8576b"
             ],
             [
              0.6666666666666666,
              "#ed7953"
             ],
             [
              0.7777777777777778,
              "#fb9f3a"
             ],
             [
              0.8888888888888888,
              "#fdca26"
             ],
             [
              1,
              "#f0f921"
             ]
            ],
            "type": "contour"
           }
          ],
          "contourcarpet": [
           {
            "colorbar": {
             "outlinewidth": 0,
             "ticks": ""
            },
            "type": "contourcarpet"
           }
          ],
          "heatmap": [
           {
            "colorbar": {
             "outlinewidth": 0,
             "ticks": ""
            },
            "colorscale": [
             [
              0,
              "#0d0887"
             ],
             [
              0.1111111111111111,
              "#46039f"
             ],
             [
              0.2222222222222222,
              "#7201a8"
             ],
             [
              0.3333333333333333,
              "#9c179e"
             ],
             [
              0.4444444444444444,
              "#bd3786"
             ],
             [
              0.5555555555555556,
              "#d8576b"
             ],
             [
              0.6666666666666666,
              "#ed7953"
             ],
             [
              0.7777777777777778,
              "#fb9f3a"
             ],
             [
              0.8888888888888888,
              "#fdca26"
             ],
             [
              1,
              "#f0f921"
             ]
            ],
            "type": "heatmap"
           }
          ],
          "heatmapgl": [
           {
            "colorbar": {
             "outlinewidth": 0,
             "ticks": ""
            },
            "colorscale": [
             [
              0,
              "#0d0887"
             ],
             [
              0.1111111111111111,
              "#46039f"
             ],
             [
              0.2222222222222222,
              "#7201a8"
             ],
             [
              0.3333333333333333,
              "#9c179e"
             ],
             [
              0.4444444444444444,
              "#bd3786"
             ],
             [
              0.5555555555555556,
              "#d8576b"
             ],
             [
              0.6666666666666666,
              "#ed7953"
             ],
             [
              0.7777777777777778,
              "#fb9f3a"
             ],
             [
              0.8888888888888888,
              "#fdca26"
             ],
             [
              1,
              "#f0f921"
             ]
            ],
            "type": "heatmapgl"
           }
          ],
          "histogram": [
           {
            "marker": {
             "colorbar": {
              "outlinewidth": 0,
              "ticks": ""
             }
            },
            "type": "histogram"
           }
          ],
          "histogram2d": [
           {
            "colorbar": {
             "outlinewidth": 0,
             "ticks": ""
            },
            "colorscale": [
             [
              0,
              "#0d0887"
             ],
             [
              0.1111111111111111,
              "#46039f"
             ],
             [
              0.2222222222222222,
              "#7201a8"
             ],
             [
              0.3333333333333333,
              "#9c179e"
             ],
             [
              0.4444444444444444,
              "#bd3786"
             ],
             [
              0.5555555555555556,
              "#d8576b"
             ],
             [
              0.6666666666666666,
              "#ed7953"
             ],
             [
              0.7777777777777778,
              "#fb9f3a"
             ],
             [
              0.8888888888888888,
              "#fdca26"
             ],
             [
              1,
              "#f0f921"
             ]
            ],
            "type": "histogram2d"
           }
          ],
          "histogram2dcontour": [
           {
            "colorbar": {
             "outlinewidth": 0,
             "ticks": ""
            },
            "colorscale": [
             [
              0,
              "#0d0887"
             ],
             [
              0.1111111111111111,
              "#46039f"
             ],
             [
              0.2222222222222222,
              "#7201a8"
             ],
             [
              0.3333333333333333,
              "#9c179e"
             ],
             [
              0.4444444444444444,
              "#bd3786"
             ],
             [
              0.5555555555555556,
              "#d8576b"
             ],
             [
              0.6666666666666666,
              "#ed7953"
             ],
             [
              0.7777777777777778,
              "#fb9f3a"
             ],
             [
              0.8888888888888888,
              "#fdca26"
             ],
             [
              1,
              "#f0f921"
             ]
            ],
            "type": "histogram2dcontour"
           }
          ],
          "mesh3d": [
           {
            "colorbar": {
             "outlinewidth": 0,
             "ticks": ""
            },
            "type": "mesh3d"
           }
          ],
          "parcoords": [
           {
            "line": {
             "colorbar": {
              "outlinewidth": 0,
              "ticks": ""
             }
            },
            "type": "parcoords"
           }
          ],
          "pie": [
           {
            "automargin": true,
            "type": "pie"
           }
          ],
          "scatter": [
           {
            "marker": {
             "colorbar": {
              "outlinewidth": 0,
              "ticks": ""
             }
            },
            "type": "scatter"
           }
          ],
          "scatter3d": [
           {
            "line": {
             "colorbar": {
              "outlinewidth": 0,
              "ticks": ""
             }
            },
            "marker": {
             "colorbar": {
              "outlinewidth": 0,
              "ticks": ""
             }
            },
            "type": "scatter3d"
           }
          ],
          "scattercarpet": [
           {
            "marker": {
             "colorbar": {
              "outlinewidth": 0,
              "ticks": ""
             }
            },
            "type": "scattercarpet"
           }
          ],
          "scattergeo": [
           {
            "marker": {
             "colorbar": {
              "outlinewidth": 0,
              "ticks": ""
             }
            },
            "type": "scattergeo"
           }
          ],
          "scattergl": [
           {
            "marker": {
             "colorbar": {
              "outlinewidth": 0,
              "ticks": ""
             }
            },
            "type": "scattergl"
           }
          ],
          "scattermapbox": [
           {
            "marker": {
             "colorbar": {
              "outlinewidth": 0,
              "ticks": ""
             }
            },
            "type": "scattermapbox"
           }
          ],
          "scatterpolar": [
           {
            "marker": {
             "colorbar": {
              "outlinewidth": 0,
              "ticks": ""
             }
            },
            "type": "scatterpolar"
           }
          ],
          "scatterpolargl": [
           {
            "marker": {
             "colorbar": {
              "outlinewidth": 0,
              "ticks": ""
             }
            },
            "type": "scatterpolargl"
           }
          ],
          "scatterternary": [
           {
            "marker": {
             "colorbar": {
              "outlinewidth": 0,
              "ticks": ""
             }
            },
            "type": "scatterternary"
           }
          ],
          "surface": [
           {
            "colorbar": {
             "outlinewidth": 0,
             "ticks": ""
            },
            "colorscale": [
             [
              0,
              "#0d0887"
             ],
             [
              0.1111111111111111,
              "#46039f"
             ],
             [
              0.2222222222222222,
              "#7201a8"
             ],
             [
              0.3333333333333333,
              "#9c179e"
             ],
             [
              0.4444444444444444,
              "#bd3786"
             ],
             [
              0.5555555555555556,
              "#d8576b"
             ],
             [
              0.6666666666666666,
              "#ed7953"
             ],
             [
              0.7777777777777778,
              "#fb9f3a"
             ],
             [
              0.8888888888888888,
              "#fdca26"
             ],
             [
              1,
              "#f0f921"
             ]
            ],
            "type": "surface"
           }
          ],
          "table": [
           {
            "cells": {
             "fill": {
              "color": "#EBF0F8"
             },
             "line": {
              "color": "white"
             }
            },
            "header": {
             "fill": {
              "color": "#C8D4E3"
             },
             "line": {
              "color": "white"
             }
            },
            "type": "table"
           }
          ]
         },
         "layout": {
          "annotationdefaults": {
           "arrowcolor": "#2a3f5f",
           "arrowhead": 0,
           "arrowwidth": 1
          },
          "autotypenumbers": "strict",
          "coloraxis": {
           "colorbar": {
            "outlinewidth": 0,
            "ticks": ""
           }
          },
          "colorscale": {
           "diverging": [
            [
             0,
             "#8e0152"
            ],
            [
             0.1,
             "#c51b7d"
            ],
            [
             0.2,
             "#de77ae"
            ],
            [
             0.3,
             "#f1b6da"
            ],
            [
             0.4,
             "#fde0ef"
            ],
            [
             0.5,
             "#f7f7f7"
            ],
            [
             0.6,
             "#e6f5d0"
            ],
            [
             0.7,
             "#b8e186"
            ],
            [
             0.8,
             "#7fbc41"
            ],
            [
             0.9,
             "#4d9221"
            ],
            [
             1,
             "#276419"
            ]
           ],
           "sequential": [
            [
             0,
             "#0d0887"
            ],
            [
             0.1111111111111111,
             "#46039f"
            ],
            [
             0.2222222222222222,
             "#7201a8"
            ],
            [
             0.3333333333333333,
             "#9c179e"
            ],
            [
             0.4444444444444444,
             "#bd3786"
            ],
            [
             0.5555555555555556,
             "#d8576b"
            ],
            [
             0.6666666666666666,
             "#ed7953"
            ],
            [
             0.7777777777777778,
             "#fb9f3a"
            ],
            [
             0.8888888888888888,
             "#fdca26"
            ],
            [
             1,
             "#f0f921"
            ]
           ],
           "sequentialminus": [
            [
             0,
             "#0d0887"
            ],
            [
             0.1111111111111111,
             "#46039f"
            ],
            [
             0.2222222222222222,
             "#7201a8"
            ],
            [
             0.3333333333333333,
             "#9c179e"
            ],
            [
             0.4444444444444444,
             "#bd3786"
            ],
            [
             0.5555555555555556,
             "#d8576b"
            ],
            [
             0.6666666666666666,
             "#ed7953"
            ],
            [
             0.7777777777777778,
             "#fb9f3a"
            ],
            [
             0.8888888888888888,
             "#fdca26"
            ],
            [
             1,
             "#f0f921"
            ]
           ]
          },
          "colorway": [
           "#636efa",
           "#EF553B",
           "#00cc96",
           "#ab63fa",
           "#FFA15A",
           "#19d3f3",
           "#FF6692",
           "#B6E880",
           "#FF97FF",
           "#FECB52"
          ],
          "font": {
           "color": "#2a3f5f"
          },
          "geo": {
           "bgcolor": "white",
           "lakecolor": "white",
           "landcolor": "#E5ECF6",
           "showlakes": true,
           "showland": true,
           "subunitcolor": "white"
          },
          "hoverlabel": {
           "align": "left"
          },
          "hovermode": "closest",
          "mapbox": {
           "style": "light"
          },
          "paper_bgcolor": "white",
          "plot_bgcolor": "#E5ECF6",
          "polar": {
           "angularaxis": {
            "gridcolor": "white",
            "linecolor": "white",
            "ticks": ""
           },
           "bgcolor": "#E5ECF6",
           "radialaxis": {
            "gridcolor": "white",
            "linecolor": "white",
            "ticks": ""
           }
          },
          "scene": {
           "xaxis": {
            "backgroundcolor": "#E5ECF6",
            "gridcolor": "white",
            "gridwidth": 2,
            "linecolor": "white",
            "showbackground": true,
            "ticks": "",
            "zerolinecolor": "white"
           },
           "yaxis": {
            "backgroundcolor": "#E5ECF6",
            "gridcolor": "white",
            "gridwidth": 2,
            "linecolor": "white",
            "showbackground": true,
            "ticks": "",
            "zerolinecolor": "white"
           },
           "zaxis": {
            "backgroundcolor": "#E5ECF6",
            "gridcolor": "white",
            "gridwidth": 2,
            "linecolor": "white",
            "showbackground": true,
            "ticks": "",
            "zerolinecolor": "white"
           }
          },
          "shapedefaults": {
           "line": {
            "color": "#2a3f5f"
           }
          },
          "ternary": {
           "aaxis": {
            "gridcolor": "white",
            "linecolor": "white",
            "ticks": ""
           },
           "baxis": {
            "gridcolor": "white",
            "linecolor": "white",
            "ticks": ""
           },
           "bgcolor": "#E5ECF6",
           "caxis": {
            "gridcolor": "white",
            "linecolor": "white",
            "ticks": ""
           }
          },
          "title": {
           "x": 0.05
          },
          "xaxis": {
           "automargin": true,
           "gridcolor": "white",
           "linecolor": "white",
           "ticks": "",
           "title": {
            "standoff": 15
           },
           "zerolinecolor": "white",
           "zerolinewidth": 2
          },
          "yaxis": {
           "automargin": true,
           "gridcolor": "white",
           "linecolor": "white",
           "ticks": "",
           "title": {
            "standoff": 15
           },
           "zerolinecolor": "white",
           "zerolinewidth": 2
          }
         }
        },
        "xaxis": {
         "anchor": "y",
         "domain": [
          0,
          1
         ],
         "title": {
          "text": "Price"
         }
        },
        "yaxis": {
         "anchor": "x",
         "domain": [
          0,
          1
         ]
        }
       }
      },
      "text/html": [
       "<div>                            <div id=\"1df95e5d-8cc2-426b-9d9d-d63dfd4d3af8\" class=\"plotly-graph-div\" style=\"height:525px; width:100%;\"></div>            <script type=\"text/javascript\">                require([\"plotly\"], function(Plotly) {                    window.PLOTLYENV=window.PLOTLYENV || {};                                    if (document.getElementById(\"1df95e5d-8cc2-426b-9d9d-d63dfd4d3af8\")) {                    Plotly.newPlot(                        \"1df95e5d-8cc2-426b-9d9d-d63dfd4d3af8\",                        [{\"alignmentgroup\": \"True\", \"hovertemplate\": \"Brand=realme<br>Price=%{x}<extra></extra>\", \"legendgroup\": \"realme\", \"marker\": {\"color\": \"#636efa\"}, \"name\": \"realme\", \"notched\": false, \"offsetgroup\": \"realme\", \"orientation\": \"h\", \"showlegend\": true, \"type\": \"box\", \"x\": [6799, 6799, 8999, 8999, 7999, 8249, 9999, 13999, 10499, 13999, 8999, 10499, 11499, 8999, 10999, 9999, 9999, 11499, 14999, 16999, 14999, 16999, 14999, 14999, 10499, 10499, 9999, 15999, 14999, 13999, 14999, 14999, 19999, 7999, 8249, 15999, 13999, 17999, 7499, 7499, 17999, 17999, 17999, 17999, 19999, 17999, 19999, 17999, 8999, 17999, 17999, 8499, 15999, 17999, 14999, 26999, 10499, 26999, 29999, 9499, 23999, 26999, 29999, 29999, 23999, 16999, 23999], \"x0\": \" \", \"xaxis\": \"x\", \"y0\": \" \", \"yaxis\": \"y\"}, {\"alignmentgroup\": \"True\", \"hovertemplate\": \"Brand=REDMI<br>Price=%{x}<extra></extra>\", \"legendgroup\": \"REDMI\", \"marker\": {\"color\": \"#EF553B\"}, \"name\": \"REDMI\", \"notched\": false, \"offsetgroup\": \"REDMI\", \"orientation\": \"h\", \"showlegend\": true, \"type\": \"box\", \"x\": [10999, 7999, 10499, 9846, 12900, 9999, 10499, 7999, 10999, 12999, 10999, 9299, 10499, 11999, 12999, 12999, 9999, 9985, 12999, 11999, 9985, 12999, 17101, 20450, 16495, 9999, 10999, 16099, 16495, 10999, 9999, 16099, 16499], \"x0\": \" \", \"xaxis\": \"x\", \"y0\": \" \", \"yaxis\": \"y\"}, {\"alignmentgroup\": \"True\", \"hovertemplate\": \"Brand=I<br>Price=%{x}<extra></extra>\", \"legendgroup\": \"I\", \"marker\": {\"color\": \"#00cc96\"}, \"name\": \"I\", \"notched\": false, \"offsetgroup\": \"I\", \"orientation\": \"h\", \"showlegend\": true, \"type\": \"box\", \"x\": [4399, 6599, 1599, 1599, 4399, 6599, 1599, 1599, 1599, 4399, 6599, 1599, 1599, 4399, 6599, 1599, 1599, 1599, 4399, 6599, 1599, 1599, 1599, 4399, 6599, 1599, 1599, 4399, 6599, 1599, 1599, 999, 4399, 6599, 1599, 1599, 1599, 999, 1599, 719, 1599, 1599, 1599, 669, 4399, 6599, 1599, 1599, 4399, 6599, 1599, 669, 1599, 4399, 6599, 1599, 1599, 1599, 4399, 669, 6599, 1599, 1599, 4399, 6599, 1599, 1599, 4399, 6599, 1599, 1599, 999], \"x0\": \" \", \"xaxis\": \"x\", \"y0\": \" \", \"yaxis\": \"y\"}, {\"alignmentgroup\": \"True\", \"hovertemplate\": \"Brand=POCO<br>Price=%{x}<extra></extra>\", \"legendgroup\": \"POCO\", \"marker\": {\"color\": \"#ab63fa\"}, \"name\": \"POCO\", \"notched\": false, \"offsetgroup\": \"POCO\", \"orientation\": \"h\", \"showlegend\": true, \"type\": \"box\", \"x\": [11999, 10499, 10499, 9499, 8499, 8499, 10499, 9499, 18999, 18999, 16999, 7499, 20999, 16999, 15999, 8499, 20999, 20999, 20999, 13999, 7499, 12999, 7499, 15999, 7499, 15999, 15999, 15999], \"x0\": \" \", \"xaxis\": \"x\", \"y0\": \" \", \"yaxis\": \"y\"}, {\"alignmentgroup\": \"True\", \"hovertemplate\": \"Brand=Infinix<br>Price=%{x}<extra></extra>\", \"legendgroup\": \"Infinix\", \"marker\": {\"color\": \"#FFA15A\"}, \"name\": \"Infinix\", \"notched\": false, \"offsetgroup\": \"Infinix\", \"orientation\": \"h\", \"showlegend\": true, \"type\": \"box\", \"x\": [9499, 9499, 9499, 6499, 6499, 6499, 7199, 7199, 7199, 7199, 9499, 9499, 7499, 7499, 7499, 9499, 9499, 9499, 10999, 10499, 11999, 11999, 10999, 14999, 14999, 16999, 16999], \"x0\": \" \", \"xaxis\": \"x\", \"y0\": \" \", \"yaxis\": \"y\"}, {\"alignmentgroup\": \"True\", \"hovertemplate\": \"Brand=OPPO<br>Price=%{x}<extra></extra>\", \"legendgroup\": \"OPPO\", \"marker\": {\"color\": \"#19d3f3\"}, \"name\": \"OPPO\", \"notched\": false, \"offsetgroup\": \"OPPO\", \"orientation\": \"h\", \"showlegend\": true, \"type\": \"box\", \"x\": [12990, 14990, 8990, 8490, 7490, 8990, 16990, 16990, 14990, 7490, 12990, 11490, 17990, 11490, 11895, 11490, 19990, 11895, 9990, 9899, 10999, 19990, 19990, 13490, 13490, 10990, 13490, 14490, 14490, 14490, 15990, 11989, 11688, 9990, 19990, 19990, 10999, 9899, 10990, 12180, 13490, 9990, 17990, 17990, 25990, 18348, 15990, 9498, 15990, 15990, 23990, 21490, 8490, 9494], \"x0\": \" \", \"xaxis\": \"x\", \"y0\": \" \", \"yaxis\": \"y\"}, {\"alignmentgroup\": \"True\", \"hovertemplate\": \"Brand=MOTOROLA<br>Price=%{x}<extra></extra>\", \"legendgroup\": \"MOTOROLA\", \"marker\": {\"color\": \"#FF6692\"}, \"name\": \"MOTOROLA\", \"notched\": false, \"offsetgroup\": \"MOTOROLA\", \"orientation\": \"h\", \"showlegend\": true, \"type\": \"box\", \"x\": [7999, 9499, 9499, 7999, 14499, 10999, 14499, 17999, 14499], \"x0\": \" \", \"xaxis\": \"x\", \"y0\": \" \", \"yaxis\": \"y\"}, {\"alignmentgroup\": \"True\", \"hovertemplate\": \"Brand=Nokia<br>Price=%{x}<extra></extra>\", \"legendgroup\": \"Nokia\", \"marker\": {\"color\": \"#B6E880\"}, \"name\": \"Nokia\", \"notched\": false, \"offsetgroup\": \"Nokia\", \"orientation\": \"h\", \"showlegend\": true, \"type\": \"box\", \"x\": [1209, 1349, 1198, 1198, 1219, 2518, 1664, 1664, 3559, 2799, 3670, 1358, 2245, 3740, 3670, 3699, 4399, 6749, 9999], \"x0\": \" \", \"xaxis\": \"x\", \"y0\": \" \", \"yaxis\": \"y\"}, {\"alignmentgroup\": \"True\", \"hovertemplate\": \"Brand=GIONEE<br>Price=%{x}<extra></extra>\", \"legendgroup\": \"GIONEE\", \"marker\": {\"color\": \"#FF97FF\"}, \"name\": \"GIONEE\", \"notched\": false, \"offsetgroup\": \"GIONEE\", \"orientation\": \"h\", \"showlegend\": true, \"type\": \"box\", \"x\": [5999, 5999, 6499, 5399, 6499, 6599, 6499], \"x0\": \" \", \"xaxis\": \"x\", \"y0\": \" \", \"yaxis\": \"y\"}, {\"alignmentgroup\": \"True\", \"hovertemplate\": \"Brand=SAMSUNG<br>Price=%{x}<extra></extra>\", \"legendgroup\": \"SAMSUNG\", \"marker\": {\"color\": \"#FECB52\"}, \"name\": \"SAMSUNG\", \"notched\": false, \"offsetgroup\": \"SAMSUNG\", \"orientation\": \"h\", \"showlegend\": true, \"type\": \"box\", \"x\": [10999, 11999, 11999, 10999, 8999, 18299, 10999, 19980, 16999, 9972, 20448, 1662, 1449, 15979, 1608, 14990, 12999, 25999, 14490, 15979, 12999, 14490, 20663, 25999, 25999, 12999, 17490, 22499, 12999, 24990, 2299, 10284, 9974, 18299, 20499, 16290, 17490, 8499, 21752, 8939, 23999, 22490, 8999, 1410, 16999, 23999, 8999, 13999, 24480, 1410], \"x0\": \" \", \"xaxis\": \"x\", \"y0\": \" \", \"yaxis\": \"y\"}, {\"alignmentgroup\": \"True\", \"hovertemplate\": \"Brand=LAVA<br>Price=%{x}<extra></extra>\", \"legendgroup\": \"LAVA\", \"marker\": {\"color\": \"#636efa\"}, \"name\": \"LAVA\", \"notched\": false, \"offsetgroup\": \"LAVA\", \"orientation\": \"h\", \"showlegend\": true, \"type\": \"box\", \"x\": [1073, 955, 1100, 955, 1100, 1752, 1752, 1899, 988, 988, 988, 988, 988, 988, 1159, 1159, 6388, 1149, 1399, 1149, 1120, 5199, 6388, 1699, 1599, 1349, 1399, 1399, 1349, 1199], \"x0\": \" \", \"xaxis\": \"x\", \"y0\": \" \", \"yaxis\": \"y\"}, {\"alignmentgroup\": \"True\", \"hovertemplate\": \"Brand=Panasonic<br>Price=%{x}<extra></extra>\", \"legendgroup\": \"Panasonic\", \"marker\": {\"color\": \"#EF553B\"}, \"name\": \"Panasonic\", \"notched\": false, \"offsetgroup\": \"Panasonic\", \"orientation\": \"h\", \"showlegend\": true, \"type\": \"box\", \"x\": [5001, 5299, 6999, 6999], \"x0\": \" \", \"xaxis\": \"x\", \"y0\": \" \", \"yaxis\": \"y\"}, {\"alignmentgroup\": \"True\", \"hovertemplate\": \"Brand=ViVO<br>Price=%{x}<extra></extra>\", \"legendgroup\": \"ViVO\", \"marker\": {\"color\": \"#00cc96\"}, \"name\": \"ViVO\", \"notched\": false, \"offsetgroup\": \"ViVO\", \"orientation\": \"h\", \"showlegend\": true, \"type\": \"box\", \"x\": [12990, 13990, 14990, 12990, 13990, 12990, 14990, 10490, 9490, 20990, 17990, 14990, 20990, 14990, 16490, 10490, 7990, 7990, 7990, 16990, 29990, 17990, 32990, 17990, 17990], \"x0\": \" \", \"xaxis\": \"x\", \"y0\": \" \", \"yaxis\": \"y\"}, {\"alignmentgroup\": \"True\", \"hovertemplate\": \"Brand=Redmi<br>Price=%{x}<extra></extra>\", \"legendgroup\": \"Redmi\", \"marker\": {\"color\": \"#ab63fa\"}, \"name\": \"Redmi\", \"notched\": false, \"offsetgroup\": \"Redmi\", \"orientation\": \"h\", \"showlegend\": true, \"type\": \"box\", \"x\": [10997, 10997, 9299, 9145, 7326, 7305, 7320, 8299, 8299, 9189, 7899, 24999, 7399, 10299, 15990], \"x0\": \" \", \"xaxis\": \"x\", \"y0\": \" \", \"yaxis\": \"y\"}, {\"alignmentgroup\": \"True\", \"hovertemplate\": \"Brand=KARBONN<br>Price=%{x}<extra></extra>\", \"legendgroup\": \"KARBONN\", \"marker\": {\"color\": \"#FFA15A\"}, \"name\": \"KARBONN\", \"notched\": false, \"offsetgroup\": \"KARBONN\", \"orientation\": \"h\", \"showlegend\": true, \"type\": \"box\", \"x\": [1299, 890, 1299, 1399, 1449, 1399, 888, 4990, 825, 1049, 1049, 999, 949], \"x0\": \" \", \"xaxis\": \"x\", \"y0\": \" \", \"yaxis\": \"y\"}, {\"alignmentgroup\": \"True\", \"hovertemplate\": \"Brand=Itel<br>Price=%{x}<extra></extra>\", \"legendgroup\": \"Itel\", \"marker\": {\"color\": \"#19d3f3\"}, \"name\": \"Itel\", \"notched\": false, \"offsetgroup\": \"Itel\", \"orientation\": \"h\", \"showlegend\": true, \"type\": \"box\", \"x\": [775, 5965, 5960, 6992, 924, 1399, 925, 6992, 1399, 1249, 1249, 917, 1399, 925, 949, 6549, 5960, 924, 1399, 1125, 1119, 1119, 924, 6899, 899, 1399, 749, 749], \"x0\": \" \", \"xaxis\": \"x\", \"y0\": \" \", \"yaxis\": \"y\"}, {\"alignmentgroup\": \"True\", \"hovertemplate\": \"Brand=GFive<br>Price=%{x}<extra></extra>\", \"legendgroup\": \"GFive\", \"marker\": {\"color\": \"#FF6692\"}, \"name\": \"GFive\", \"notched\": false, \"offsetgroup\": \"GFive\", \"orientation\": \"h\", \"showlegend\": true, \"type\": \"box\", \"x\": [799, 1299, 1259, 1259, 679, 839, 679, 1259], \"x0\": \" \", \"xaxis\": \"x\", \"y0\": \" \", \"yaxis\": \"y\"}, {\"alignmentgroup\": \"True\", \"hovertemplate\": \"Brand=Tecno<br>Price=%{x}<extra></extra>\", \"legendgroup\": \"Tecno\", \"marker\": {\"color\": \"#B6E880\"}, \"name\": \"Tecno\", \"notched\": false, \"offsetgroup\": \"Tecno\", \"orientation\": \"h\", \"showlegend\": true, \"type\": \"box\", \"x\": [8699, 8699, 10499, 12499, 10499], \"x0\": \" \", \"xaxis\": \"x\", \"y0\": \" \", \"yaxis\": \"y\"}, {\"alignmentgroup\": \"True\", \"hovertemplate\": \"Brand=APPLE<br>Price=%{x}<extra></extra>\", \"legendgroup\": \"APPLE\", \"marker\": {\"color\": \"#FF97FF\"}, \"name\": \"APPLE\", \"notched\": false, \"offsetgroup\": \"APPLE\", \"orientation\": \"h\", \"showlegend\": true, \"type\": \"box\", \"x\": [49999, 31999, 31999, 31999, 49999], \"x0\": \" \", \"xaxis\": \"x\", \"y0\": \" \", \"yaxis\": \"y\"}, {\"alignmentgroup\": \"True\", \"hovertemplate\": \"Brand=MU<br>Price=%{x}<extra></extra>\", \"legendgroup\": \"MU\", \"marker\": {\"color\": \"#FECB52\"}, \"name\": \"MU\", \"notched\": false, \"offsetgroup\": \"MU\", \"orientation\": \"h\", \"showlegend\": true, \"type\": \"box\", \"x\": [1150], \"x0\": \" \", \"xaxis\": \"x\", \"y0\": \" \", \"yaxis\": \"y\"}, {\"alignmentgroup\": \"True\", \"hovertemplate\": \"Brand=BlackZone<br>Price=%{x}<extra></extra>\", \"legendgroup\": \"BlackZone\", \"marker\": {\"color\": \"#636efa\"}, \"name\": \"BlackZone\", \"notched\": false, \"offsetgroup\": \"BlackZone\", \"orientation\": \"h\", \"showlegend\": true, \"type\": \"box\", \"x\": [729, 1029], \"x0\": \" \", \"xaxis\": \"x\", \"y0\": \" \", \"yaxis\": \"y\"}, {\"alignmentgroup\": \"True\", \"hovertemplate\": \"Brand=Micromax<br>Price=%{x}<extra></extra>\", \"legendgroup\": \"Micromax\", \"marker\": {\"color\": \"#EF553B\"}, \"name\": \"Micromax\", \"notched\": false, \"offsetgroup\": \"Micromax\", \"orientation\": \"h\", \"showlegend\": true, \"type\": \"box\", \"x\": [887, 1399, 1499, 915, 915, 887, 1399, 989, 1450, 1420, 1298, 1269, 1099, 1099, 1050, 929, 1358, 929, 8934], \"x0\": \" \", \"xaxis\": \"x\", \"y0\": \" \", \"yaxis\": \"y\"}, {\"alignmentgroup\": \"True\", \"hovertemplate\": \"Brand=Kechaoda<br>Price=%{x}<extra></extra>\", \"legendgroup\": \"Kechaoda\", \"marker\": {\"color\": \"#00cc96\"}, \"name\": \"Kechaoda\", \"notched\": false, \"offsetgroup\": \"Kechaoda\", \"orientation\": \"h\", \"showlegend\": true, \"type\": \"box\", \"x\": [1374, 975, 975, 1399, 1028, 990, 955, 969, 1028, 990, 999, 1039, 1021, 1019, 995, 950, 999, 999, 1270, 1270, 1045, 990, 999, 1130, 1019, 995], \"x0\": \" \", \"xaxis\": \"x\", \"y0\": \" \", \"yaxis\": \"y\"}, {\"alignmentgroup\": \"True\", \"hovertemplate\": \"Brand=Snexian<br>Price=%{x}<extra></extra>\", \"legendgroup\": \"Snexian\", \"marker\": {\"color\": \"#ab63fa\"}, \"name\": \"Snexian\", \"notched\": false, \"offsetgroup\": \"Snexian\", \"orientation\": \"h\", \"showlegend\": true, \"type\": \"box\", \"x\": [1199, 1199, 1299, 1399], \"x0\": \" \", \"xaxis\": \"x\", \"y0\": \" \", \"yaxis\": \"y\"}, {\"alignmentgroup\": \"True\", \"hovertemplate\": \"Brand=Grabo<br>Price=%{x}<extra></extra>\", \"legendgroup\": \"Grabo\", \"marker\": {\"color\": \"#FFA15A\"}, \"name\": \"Grabo\", \"notched\": false, \"offsetgroup\": \"Grabo\", \"orientation\": \"h\", \"showlegend\": true, \"type\": \"box\", \"x\": [705], \"x0\": \" \", \"xaxis\": \"x\", \"y0\": \" \", \"yaxis\": \"y\"}, {\"alignmentgroup\": \"True\", \"hovertemplate\": \"Brand=Good<br>Price=%{x}<extra></extra>\", \"legendgroup\": \"Good\", \"marker\": {\"color\": \"#19d3f3\"}, \"name\": \"Good\", \"notched\": false, \"offsetgroup\": \"Good\", \"orientation\": \"h\", \"showlegend\": true, \"type\": \"box\", \"x\": [1499, 1499, 1499, 1399, 1399, 849, 1399, 1399, 849], \"x0\": \" \", \"xaxis\": \"x\", \"y0\": \" \", \"yaxis\": \"y\"}, {\"alignmentgroup\": \"True\", \"hovertemplate\": \"Brand=GREENBERRI<br>Price=%{x}<extra></extra>\", \"legendgroup\": \"GREENBERRI\", \"marker\": {\"color\": \"#FF6692\"}, \"name\": \"GREENBERRI\", \"notched\": false, \"offsetgroup\": \"GREENBERRI\", \"orientation\": \"h\", \"showlegend\": true, \"type\": \"box\", \"x\": [1999], \"x0\": \" \", \"xaxis\": \"x\", \"y0\": \" \", \"yaxis\": \"y\"}, {\"alignmentgroup\": \"True\", \"hovertemplate\": \"Brand=Salora<br>Price=%{x}<extra></extra>\", \"legendgroup\": \"Salora\", \"marker\": {\"color\": \"#B6E880\"}, \"name\": \"Salora\", \"notched\": false, \"offsetgroup\": \"Salora\", \"orientation\": \"h\", \"showlegend\": true, \"type\": \"box\", \"x\": [738, 899, 899, 899], \"x0\": \" \", \"xaxis\": \"x\", \"y0\": \" \", \"yaxis\": \"y\"}, {\"alignmentgroup\": \"True\", \"hovertemplate\": \"Brand=Jmax<br>Price=%{x}<extra></extra>\", \"legendgroup\": \"Jmax\", \"marker\": {\"color\": \"#FF97FF\"}, \"name\": \"Jmax\", \"notched\": false, \"offsetgroup\": \"Jmax\", \"orientation\": \"h\", \"showlegend\": true, \"type\": \"box\", \"x\": [699, 699, 699], \"x0\": \" \", \"xaxis\": \"x\", \"y0\": \" \", \"yaxis\": \"y\"}, {\"alignmentgroup\": \"True\", \"hovertemplate\": \"Brand=DETEL<br>Price=%{x}<extra></extra>\", \"legendgroup\": \"DETEL\", \"marker\": {\"color\": \"#FECB52\"}, \"name\": \"DETEL\", \"notched\": false, \"offsetgroup\": \"DETEL\", \"orientation\": \"h\", \"showlegend\": true, \"type\": \"box\", \"x\": [725], \"x0\": \" \", \"xaxis\": \"x\", \"y0\": \" \", \"yaxis\": \"y\"}, {\"alignmentgroup\": \"True\", \"hovertemplate\": \"Brand=Ismart<br>Price=%{x}<extra></extra>\", \"legendgroup\": \"Ismart\", \"marker\": {\"color\": \"#636efa\"}, \"name\": \"Ismart\", \"notched\": false, \"offsetgroup\": \"Ismart\", \"orientation\": \"h\", \"showlegend\": true, \"type\": \"box\", \"x\": [1390, 1390], \"x0\": \" \", \"xaxis\": \"x\", \"y0\": \" \", \"yaxis\": \"y\"}, {\"alignmentgroup\": \"True\", \"hovertemplate\": \"Brand=ASUS<br>Price=%{x}<extra></extra>\", \"legendgroup\": \"ASUS\", \"marker\": {\"color\": \"#EF553B\"}, \"name\": \"ASUS\", \"notched\": false, \"offsetgroup\": \"ASUS\", \"orientation\": \"h\", \"showlegend\": true, \"type\": \"box\", \"x\": [49999, 49999], \"x0\": \" \", \"xaxis\": \"x\", \"y0\": \" \", \"yaxis\": \"y\"}, {\"alignmentgroup\": \"True\", \"hovertemplate\": \"Brand=Mi<br>Price=%{x}<extra></extra>\", \"legendgroup\": \"Mi\", \"marker\": {\"color\": \"#00cc96\"}, \"name\": \"Mi\", \"notched\": false, \"offsetgroup\": \"Mi\", \"orientation\": \"h\", \"showlegend\": true, \"type\": \"box\", \"x\": [23486, 23486], \"x0\": \" \", \"xaxis\": \"x\", \"y0\": \" \", \"yaxis\": \"y\"}],                        {\"boxmode\": \"group\", \"legend\": {\"title\": {\"text\": \"Brand\"}, \"tracegroupgap\": 0}, \"margin\": {\"t\": 60}, \"template\": {\"data\": {\"bar\": [{\"error_x\": {\"color\": \"#2a3f5f\"}, \"error_y\": {\"color\": \"#2a3f5f\"}, \"marker\": {\"line\": {\"color\": \"#E5ECF6\", \"width\": 0.5}}, \"type\": \"bar\"}], \"barpolar\": [{\"marker\": {\"line\": {\"color\": \"#E5ECF6\", \"width\": 0.5}}, \"type\": \"barpolar\"}], \"carpet\": [{\"aaxis\": {\"endlinecolor\": \"#2a3f5f\", \"gridcolor\": \"white\", \"linecolor\": \"white\", \"minorgridcolor\": \"white\", \"startlinecolor\": \"#2a3f5f\"}, \"baxis\": {\"endlinecolor\": \"#2a3f5f\", \"gridcolor\": \"white\", \"linecolor\": \"white\", \"minorgridcolor\": \"white\", \"startlinecolor\": \"#2a3f5f\"}, \"type\": \"carpet\"}], \"choropleth\": [{\"colorbar\": {\"outlinewidth\": 0, \"ticks\": \"\"}, \"type\": \"choropleth\"}], \"contour\": [{\"colorbar\": {\"outlinewidth\": 0, \"ticks\": \"\"}, \"colorscale\": [[0.0, \"#0d0887\"], [0.1111111111111111, \"#46039f\"], [0.2222222222222222, \"#7201a8\"], [0.3333333333333333, \"#9c179e\"], [0.4444444444444444, \"#bd3786\"], [0.5555555555555556, \"#d8576b\"], [0.6666666666666666, \"#ed7953\"], [0.7777777777777778, \"#fb9f3a\"], [0.8888888888888888, \"#fdca26\"], [1.0, \"#f0f921\"]], \"type\": \"contour\"}], \"contourcarpet\": [{\"colorbar\": {\"outlinewidth\": 0, \"ticks\": \"\"}, \"type\": \"contourcarpet\"}], \"heatmap\": [{\"colorbar\": {\"outlinewidth\": 0, \"ticks\": \"\"}, \"colorscale\": [[0.0, \"#0d0887\"], [0.1111111111111111, \"#46039f\"], [0.2222222222222222, \"#7201a8\"], [0.3333333333333333, \"#9c179e\"], [0.4444444444444444, \"#bd3786\"], [0.5555555555555556, \"#d8576b\"], [0.6666666666666666, \"#ed7953\"], [0.7777777777777778, \"#fb9f3a\"], [0.8888888888888888, \"#fdca26\"], [1.0, \"#f0f921\"]], \"type\": \"heatmap\"}], \"heatmapgl\": [{\"colorbar\": {\"outlinewidth\": 0, \"ticks\": \"\"}, \"colorscale\": [[0.0, \"#0d0887\"], [0.1111111111111111, \"#46039f\"], [0.2222222222222222, \"#7201a8\"], [0.3333333333333333, \"#9c179e\"], [0.4444444444444444, \"#bd3786\"], [0.5555555555555556, \"#d8576b\"], [0.6666666666666666, \"#ed7953\"], [0.7777777777777778, \"#fb9f3a\"], [0.8888888888888888, \"#fdca26\"], [1.0, \"#f0f921\"]], \"type\": \"heatmapgl\"}], \"histogram\": [{\"marker\": {\"colorbar\": {\"outlinewidth\": 0, \"ticks\": \"\"}}, \"type\": \"histogram\"}], \"histogram2d\": [{\"colorbar\": {\"outlinewidth\": 0, \"ticks\": \"\"}, \"colorscale\": [[0.0, \"#0d0887\"], [0.1111111111111111, \"#46039f\"], [0.2222222222222222, \"#7201a8\"], [0.3333333333333333, \"#9c179e\"], [0.4444444444444444, \"#bd3786\"], [0.5555555555555556, \"#d8576b\"], [0.6666666666666666, \"#ed7953\"], [0.7777777777777778, \"#fb9f3a\"], [0.8888888888888888, \"#fdca26\"], [1.0, \"#f0f921\"]], \"type\": \"histogram2d\"}], \"histogram2dcontour\": [{\"colorbar\": {\"outlinewidth\": 0, \"ticks\": \"\"}, \"colorscale\": [[0.0, \"#0d0887\"], [0.1111111111111111, \"#46039f\"], [0.2222222222222222, \"#7201a8\"], [0.3333333333333333, \"#9c179e\"], [0.4444444444444444, \"#bd3786\"], [0.5555555555555556, \"#d8576b\"], [0.6666666666666666, \"#ed7953\"], [0.7777777777777778, \"#fb9f3a\"], [0.8888888888888888, \"#fdca26\"], [1.0, \"#f0f921\"]], \"type\": \"histogram2dcontour\"}], \"mesh3d\": [{\"colorbar\": {\"outlinewidth\": 0, \"ticks\": \"\"}, \"type\": \"mesh3d\"}], \"parcoords\": [{\"line\": {\"colorbar\": {\"outlinewidth\": 0, \"ticks\": \"\"}}, \"type\": \"parcoords\"}], \"pie\": [{\"automargin\": true, \"type\": \"pie\"}], \"scatter\": [{\"marker\": {\"colorbar\": {\"outlinewidth\": 0, \"ticks\": \"\"}}, \"type\": \"scatter\"}], \"scatter3d\": [{\"line\": {\"colorbar\": {\"outlinewidth\": 0, \"ticks\": \"\"}}, \"marker\": {\"colorbar\": {\"outlinewidth\": 0, \"ticks\": \"\"}}, \"type\": \"scatter3d\"}], \"scattercarpet\": [{\"marker\": {\"colorbar\": {\"outlinewidth\": 0, \"ticks\": \"\"}}, \"type\": \"scattercarpet\"}], \"scattergeo\": [{\"marker\": {\"colorbar\": {\"outlinewidth\": 0, \"ticks\": \"\"}}, \"type\": \"scattergeo\"}], \"scattergl\": [{\"marker\": {\"colorbar\": {\"outlinewidth\": 0, \"ticks\": \"\"}}, \"type\": \"scattergl\"}], \"scattermapbox\": [{\"marker\": {\"colorbar\": {\"outlinewidth\": 0, \"ticks\": \"\"}}, \"type\": \"scattermapbox\"}], \"scatterpolar\": [{\"marker\": {\"colorbar\": {\"outlinewidth\": 0, \"ticks\": \"\"}}, \"type\": \"scatterpolar\"}], \"scatterpolargl\": [{\"marker\": {\"colorbar\": {\"outlinewidth\": 0, \"ticks\": \"\"}}, \"type\": \"scatterpolargl\"}], \"scatterternary\": [{\"marker\": {\"colorbar\": {\"outlinewidth\": 0, \"ticks\": \"\"}}, \"type\": \"scatterternary\"}], \"surface\": [{\"colorbar\": {\"outlinewidth\": 0, \"ticks\": \"\"}, \"colorscale\": [[0.0, \"#0d0887\"], [0.1111111111111111, \"#46039f\"], [0.2222222222222222, \"#7201a8\"], [0.3333333333333333, \"#9c179e\"], [0.4444444444444444, \"#bd3786\"], [0.5555555555555556, \"#d8576b\"], [0.6666666666666666, \"#ed7953\"], [0.7777777777777778, \"#fb9f3a\"], [0.8888888888888888, \"#fdca26\"], [1.0, \"#f0f921\"]], \"type\": \"surface\"}], \"table\": [{\"cells\": {\"fill\": {\"color\": \"#EBF0F8\"}, \"line\": {\"color\": \"white\"}}, \"header\": {\"fill\": {\"color\": \"#C8D4E3\"}, \"line\": {\"color\": \"white\"}}, \"type\": \"table\"}]}, \"layout\": {\"annotationdefaults\": {\"arrowcolor\": \"#2a3f5f\", \"arrowhead\": 0, \"arrowwidth\": 1}, \"autotypenumbers\": \"strict\", \"coloraxis\": {\"colorbar\": {\"outlinewidth\": 0, \"ticks\": \"\"}}, \"colorscale\": {\"diverging\": [[0, \"#8e0152\"], [0.1, \"#c51b7d\"], [0.2, \"#de77ae\"], [0.3, \"#f1b6da\"], [0.4, \"#fde0ef\"], [0.5, \"#f7f7f7\"], [0.6, \"#e6f5d0\"], [0.7, \"#b8e186\"], [0.8, \"#7fbc41\"], [0.9, \"#4d9221\"], [1, \"#276419\"]], \"sequential\": [[0.0, \"#0d0887\"], [0.1111111111111111, \"#46039f\"], [0.2222222222222222, \"#7201a8\"], [0.3333333333333333, \"#9c179e\"], [0.4444444444444444, \"#bd3786\"], [0.5555555555555556, \"#d8576b\"], [0.6666666666666666, \"#ed7953\"], [0.7777777777777778, \"#fb9f3a\"], [0.8888888888888888, \"#fdca26\"], [1.0, \"#f0f921\"]], \"sequentialminus\": [[0.0, \"#0d0887\"], [0.1111111111111111, \"#46039f\"], [0.2222222222222222, \"#7201a8\"], [0.3333333333333333, \"#9c179e\"], [0.4444444444444444, \"#bd3786\"], [0.5555555555555556, \"#d8576b\"], [0.6666666666666666, \"#ed7953\"], [0.7777777777777778, \"#fb9f3a\"], [0.8888888888888888, \"#fdca26\"], [1.0, \"#f0f921\"]]}, \"colorway\": [\"#636efa\", \"#EF553B\", \"#00cc96\", \"#ab63fa\", \"#FFA15A\", \"#19d3f3\", \"#FF6692\", \"#B6E880\", \"#FF97FF\", \"#FECB52\"], \"font\": {\"color\": \"#2a3f5f\"}, \"geo\": {\"bgcolor\": \"white\", \"lakecolor\": \"white\", \"landcolor\": \"#E5ECF6\", \"showlakes\": true, \"showland\": true, \"subunitcolor\": \"white\"}, \"hoverlabel\": {\"align\": \"left\"}, \"hovermode\": \"closest\", \"mapbox\": {\"style\": \"light\"}, \"paper_bgcolor\": \"white\", \"plot_bgcolor\": \"#E5ECF6\", \"polar\": {\"angularaxis\": {\"gridcolor\": \"white\", \"linecolor\": \"white\", \"ticks\": \"\"}, \"bgcolor\": \"#E5ECF6\", \"radialaxis\": {\"gridcolor\": \"white\", \"linecolor\": \"white\", \"ticks\": \"\"}}, \"scene\": {\"xaxis\": {\"backgroundcolor\": \"#E5ECF6\", \"gridcolor\": \"white\", \"gridwidth\": 2, \"linecolor\": \"white\", \"showbackground\": true, \"ticks\": \"\", \"zerolinecolor\": \"white\"}, \"yaxis\": {\"backgroundcolor\": \"#E5ECF6\", \"gridcolor\": \"white\", \"gridwidth\": 2, \"linecolor\": \"white\", \"showbackground\": true, \"ticks\": \"\", \"zerolinecolor\": \"white\"}, \"zaxis\": {\"backgroundcolor\": \"#E5ECF6\", \"gridcolor\": \"white\", \"gridwidth\": 2, \"linecolor\": \"white\", \"showbackground\": true, \"ticks\": \"\", \"zerolinecolor\": \"white\"}}, \"shapedefaults\": {\"line\": {\"color\": \"#2a3f5f\"}}, \"ternary\": {\"aaxis\": {\"gridcolor\": \"white\", \"linecolor\": \"white\", \"ticks\": \"\"}, \"baxis\": {\"gridcolor\": \"white\", \"linecolor\": \"white\", \"ticks\": \"\"}, \"bgcolor\": \"#E5ECF6\", \"caxis\": {\"gridcolor\": \"white\", \"linecolor\": \"white\", \"ticks\": \"\"}}, \"title\": {\"x\": 0.05}, \"xaxis\": {\"automargin\": true, \"gridcolor\": \"white\", \"linecolor\": \"white\", \"ticks\": \"\", \"title\": {\"standoff\": 15}, \"zerolinecolor\": \"white\", \"zerolinewidth\": 2}, \"yaxis\": {\"automargin\": true, \"gridcolor\": \"white\", \"linecolor\": \"white\", \"ticks\": \"\", \"title\": {\"standoff\": 15}, \"zerolinecolor\": \"white\", \"zerolinewidth\": 2}}}, \"xaxis\": {\"anchor\": \"y\", \"domain\": [0.0, 1.0], \"title\": {\"text\": \"Price\"}}, \"yaxis\": {\"anchor\": \"x\", \"domain\": [0.0, 1.0]}},                        {\"responsive\": true}                    ).then(function(){\n",
       "                            \n",
       "var gd = document.getElementById('1df95e5d-8cc2-426b-9d9d-d63dfd4d3af8');\n",
       "var x = new MutationObserver(function (mutations, observer) {{\n",
       "        var display = window.getComputedStyle(gd).display;\n",
       "        if (!display || display === 'none') {{\n",
       "            console.log([gd, 'removed!']);\n",
       "            Plotly.purge(gd);\n",
       "            observer.disconnect();\n",
       "        }}\n",
       "}});\n",
       "\n",
       "// Listen for the removal of the full notebook cells\n",
       "var notebookContainer = gd.closest('#notebook-container');\n",
       "if (notebookContainer) {{\n",
       "    x.observe(notebookContainer, {childList: true});\n",
       "}}\n",
       "\n",
       "// Listen for the clearing of the current output cell\n",
       "var outputEl = gd.closest('.output');\n",
       "if (outputEl) {{\n",
       "    x.observe(outputEl, {childList: true});\n",
       "}}\n",
       "\n",
       "                        })                };                });            </script>        </div>"
      ]
     },
     "metadata": {},
     "output_type": "display_data"
    }
   ],
   "source": [
    "px.box(data,x=\"Price\",color=\"Brand\")"
   ]
  },
  {
   "cell_type": "markdown",
   "metadata": {},
   "source": [
    "### Observation:Redmi mobiles  price vary from 7k to 22k and Apple phone is having maximum price around 50k and Samsung mobiles vary from 2k to 30k and so on ."
   ]
  },
  {
   "cell_type": "markdown",
   "metadata": {},
   "source": [
    "### Price vs Processor"
   ]
  },
  {
   "cell_type": "code",
   "execution_count": 137,
   "metadata": {},
   "outputs": [
    {
     "data": {
      "application/vnd.plotly.v1+json": {
       "config": {
        "plotlyServerURL": "https://plot.ly"
       },
       "data": [
        {
         "alignmentgroup": "True",
         "hovertemplate": "Processor=['MediaTek Helio G35']<br>Price=%{x}<extra></extra>",
         "legendgroup": "['MediaTek Helio G35']",
         "marker": {
          "color": "#636efa"
         },
         "name": "['MediaTek Helio G35']",
         "notched": false,
         "offsetgroup": "['MediaTek Helio G35']",
         "orientation": "h",
         "showlegend": true,
         "type": "box",
         "x": [
          6799,
          6799,
          8999,
          8999,
          7999,
          7999,
          10997,
          10997,
          9299,
          9145,
          9189
         ],
         "x0": " ",
         "xaxis": "x",
         "y0": " ",
         "yaxis": "y"
        },
        {
         "alignmentgroup": "True",
         "hovertemplate": "Processor=['MediaTek Helio G85']<br>Price=%{x}<extra></extra>",
         "legendgroup": "['MediaTek Helio G85']",
         "marker": {
          "color": "#EF553B"
         },
         "name": "['MediaTek Helio G85']",
         "notched": false,
         "offsetgroup": "['MediaTek Helio G85']",
         "orientation": "h",
         "showlegend": true,
         "type": "box",
         "x": [
          10999,
          8249,
          9999,
          10499,
          12900,
          10499,
          11499,
          11499,
          10999,
          10999,
          10499,
          10499,
          9499,
          9499,
          8249,
          9499,
          9499,
          10499,
          12999,
          12999,
          11999,
          11999,
          10999
         ],
         "x0": " ",
         "xaxis": "x",
         "y0": " ",
         "yaxis": "y"
        },
        {
         "alignmentgroup": "True",
         "hovertemplate": "Processor=not specified<br>Price=%{x}<extra></extra>",
         "legendgroup": "not specified",
         "marker": {
          "color": "#00cc96"
         },
         "name": "not specified",
         "notched": false,
         "offsetgroup": "not specified",
         "orientation": "h",
         "showlegend": true,
         "type": "box",
         "x": [
          4399,
          6599,
          1599,
          1599,
          13999,
          13999,
          1209,
          1073,
          4399,
          6599,
          1599,
          14999,
          1599,
          16999,
          12999,
          14999,
          1349,
          1599,
          16999,
          14999,
          14999,
          1198,
          955,
          1100,
          1198,
          4399,
          6599,
          955,
          1100,
          1599,
          1599,
          1219,
          4399,
          8999,
          6599,
          1599,
          1599,
          1299,
          1664,
          1599,
          988,
          988,
          988,
          11490,
          799,
          4399,
          6599,
          12999,
          1599,
          1599,
          988,
          988,
          988,
          14990,
          1664,
          1599,
          890,
          1159,
          11490,
          49999,
          11895,
          14990,
          7326,
          7305,
          7320,
          16999,
          4399,
          11490,
          9972,
          6599,
          1150,
          1599,
          11895,
          20448,
          1599,
          729,
          1662,
          1449,
          1299,
          887,
          4399,
          9990,
          6599,
          1159,
          1599,
          9899,
          10999,
          1599,
          1374,
          6388,
          1608,
          999,
          1149,
          1399,
          4399,
          1399,
          6599,
          1499,
          3670,
          1399,
          1599,
          1599,
          31999,
          975,
          975,
          14490,
          1199,
          915,
          1449,
          12999,
          1599,
          1149,
          1120,
          31999,
          915,
          705,
          6599,
          999,
          887,
          9990,
          1399,
          1399,
          1599,
          10999,
          9899,
          925,
          719,
          12999,
          14490,
          989,
          1450,
          1199,
          31999,
          1499,
          1499,
          1358,
          1299,
          1599,
          1420,
          1259,
          888,
          6388,
          12999,
          17490,
          1699,
          3740,
          1399,
          1599,
          1298,
          1269,
          1099,
          8499,
          825,
          1099,
          1299,
          1259,
          9990,
          24990,
          925,
          1028,
          990,
          1599,
          1999,
          955,
          969,
          3670,
          1050,
          669,
          3699,
          9974,
          1049,
          4399,
          1599,
          20499,
          6599,
          10499,
          1599,
          17490,
          1029,
          1599,
          1499,
          18348,
          679,
          738,
          699,
          23999,
          4399,
          839,
          6599,
          725,
          1599,
          669,
          1390,
          1028,
          1599,
          990,
          999,
          49999,
          23486,
          1039,
          4399,
          1021,
          1399,
          1399,
          6599,
          929,
          23999,
          1599,
          16999,
          1599,
          8999,
          1019,
          995,
          699,
          1049,
          999,
          1599,
          849,
          1358,
          1399,
          49999,
          9498,
          950,
          999,
          999,
          679,
          4399,
          1270,
          1270,
          1349,
          1045,
          16999,
          990,
          999,
          4399,
          669,
          1390,
          6599,
          1399,
          23486,
          1599,
          49999,
          1599,
          1130,
          1119,
          1119,
          7399,
          1259,
          1399,
          1399,
          929,
          4399,
          23999,
          6599,
          1599,
          1019,
          995,
          699,
          1599,
          8999,
          1399,
          1349,
          13999,
          17990,
          4399,
          23990,
          21490,
          6899,
          6599,
          24480,
          1599,
          9494,
          8934,
          1599,
          949,
          1199,
          999,
          15990,
          849,
          749,
          749
         ],
         "x0": " ",
         "xaxis": "x",
         "y0": " ",
         "yaxis": "y"
        },
        {
         "alignmentgroup": "True",
         "hovertemplate": "Processor=['Qualcomm Snapdragon 662']<br>Price=%{x}<extra></extra>",
         "legendgroup": "['Qualcomm Snapdragon 662']",
         "marker": {
          "color": "#ab63fa"
         },
         "name": "['Qualcomm Snapdragon 662']",
         "notched": false,
         "offsetgroup": "['Qualcomm Snapdragon 662']",
         "orientation": "h",
         "showlegend": true,
         "type": "box",
         "x": [
          11999,
          10499,
          10499,
          10499,
          10499,
          10499,
          10499,
          11999,
          17990,
          17990,
          11999,
          16490,
          17990,
          17990
         ],
         "x0": " ",
         "xaxis": "x",
         "y0": " ",
         "yaxis": "y"
        },
        {
         "alignmentgroup": "True",
         "hovertemplate": "Processor=['MediaTek Helio G25']<br>Price=%{x}<extra></extra>",
         "legendgroup": "['MediaTek Helio G25']",
         "marker": {
          "color": "#FFA15A"
         },
         "name": "['MediaTek Helio G25']",
         "notched": false,
         "offsetgroup": "['MediaTek Helio G25']",
         "orientation": "h",
         "showlegend": true,
         "type": "box",
         "x": [
          7999,
          7999,
          9846,
          7999,
          7199,
          7199,
          7199,
          7199,
          9299,
          7999,
          9985,
          9985,
          7899
         ],
         "x0": " ",
         "xaxis": "x",
         "y0": " ",
         "yaxis": "y"
        },
        {
         "alignmentgroup": "True",
         "hovertemplate": "Processor=['MediaTek Helio G70']<br>Price=%{x}<extra></extra>",
         "legendgroup": "['MediaTek Helio G70']",
         "marker": {
          "color": "#19d3f3"
         },
         "name": "['MediaTek Helio G70']",
         "notched": false,
         "offsetgroup": "['MediaTek Helio G70']",
         "orientation": "h",
         "showlegend": true,
         "type": "box",
         "x": [
          9499,
          9499,
          9499,
          10999,
          9999,
          9499,
          10999
         ],
         "x0": " ",
         "xaxis": "x",
         "y0": " ",
         "yaxis": "y"
        },
        {
         "alignmentgroup": "True",
         "hovertemplate": "Processor=['Qualcomm Snapdragon 460']<br>Price=%{x}<extra></extra>",
         "legendgroup": "['Qualcomm Snapdragon 460']",
         "marker": {
          "color": "#FF6692"
         },
         "name": "['Qualcomm Snapdragon 460']",
         "notched": false,
         "offsetgroup": "['Qualcomm Snapdragon 460']",
         "orientation": "h",
         "showlegend": true,
         "type": "box",
         "x": [
          12990,
          8990,
          8990,
          9999,
          9999,
          12990,
          10990,
          10990,
          12180
         ],
         "x0": " ",
         "xaxis": "x",
         "y0": " ",
         "yaxis": "y"
        },
        {
         "alignmentgroup": "True",
         "hovertemplate": "Processor=['MediaTek Dimensity 700']<br>Price=%{x}<extra></extra>",
         "legendgroup": "['MediaTek Dimensity 700']",
         "marker": {
          "color": "#B6E880"
         },
         "name": "['MediaTek Dimensity 700']",
         "notched": false,
         "offsetgroup": "['MediaTek Dimensity 700']",
         "orientation": "h",
         "showlegend": true,
         "type": "box",
         "x": [
          14990,
          16990,
          16990,
          14990,
          15999,
          13999
         ],
         "x0": " ",
         "xaxis": "x",
         "y0": " ",
         "yaxis": "y"
        },
        {
         "alignmentgroup": "True",
         "hovertemplate": "Processor=['MediaTek Helio G80']<br>Price=%{x}<extra></extra>",
         "legendgroup": "['MediaTek Helio G80']",
         "marker": {
          "color": "#FF97FF"
         },
         "name": "['MediaTek Helio G80']",
         "notched": false,
         "offsetgroup": "['MediaTek Helio G80']",
         "orientation": "h",
         "showlegend": true,
         "type": "box",
         "x": [
          9499,
          9999,
          9499,
          12990,
          14990,
          12990,
          12990,
          14990,
          9999,
          10499,
          9999,
          10999,
          10999,
          9999,
          12499,
          10499
         ],
         "x0": " ",
         "xaxis": "x",
         "y0": " ",
         "yaxis": "y"
        },
        {
         "alignmentgroup": "True",
         "hovertemplate": "Processor=['MediaTek Helio P35']<br>Price=%{x}<extra></extra>",
         "legendgroup": "['MediaTek Helio P35']",
         "marker": {
          "color": "#FECB52"
         },
         "name": "['MediaTek Helio P35']",
         "notched": false,
         "offsetgroup": "['MediaTek Helio P35']",
         "orientation": "h",
         "showlegend": true,
         "type": "box",
         "x": [
          8490,
          7490,
          7490,
          13990,
          13990,
          13490,
          13490,
          13490,
          14490,
          14490,
          14490,
          15990,
          13490,
          16990,
          15990,
          15990,
          15990
         ],
         "x0": " ",
         "xaxis": "x",
         "y0": " ",
         "yaxis": "y"
        },
        {
         "alignmentgroup": "True",
         "hovertemplate": "Processor=['Mediatek Helio G35']<br>Price=%{x}<extra></extra>",
         "legendgroup": "['Mediatek Helio G35']",
         "marker": {
          "color": "#636efa"
         },
         "name": "['Mediatek Helio G35']",
         "notched": false,
         "offsetgroup": "['Mediatek Helio G35']",
         "orientation": "h",
         "showlegend": true,
         "type": "box",
         "x": [
          8999,
          8999,
          8499,
          8499,
          7499,
          7499,
          7499,
          8499,
          8999,
          7499,
          7499,
          7499
         ],
         "x0": " ",
         "xaxis": "x",
         "y0": " ",
         "yaxis": "y"
        },
        {
         "alignmentgroup": "True",
         "hovertemplate": "Processor=['Octa Core']<br>Price=%{x}<extra></extra>",
         "legendgroup": "['Octa Core']",
         "marker": {
          "color": "#EF553B"
         },
         "name": "['Octa Core']",
         "notched": false,
         "offsetgroup": "['Octa Core']",
         "orientation": "h",
         "showlegend": true,
         "type": "box",
         "x": [
          5999,
          5999,
          6499,
          6499,
          6499,
          4990
         ],
         "x0": " ",
         "xaxis": "x",
         "y0": " ",
         "yaxis": "y"
        },
        {
         "alignmentgroup": "True",
         "hovertemplate": "Processor=['Exynos 850']<br>Price=%{x}<extra></extra>",
         "legendgroup": "['Exynos 850']",
         "marker": {
          "color": "#00cc96"
         },
         "name": "['Exynos 850']",
         "notched": false,
         "offsetgroup": "['Exynos 850']",
         "orientation": "h",
         "showlegend": true,
         "type": "box",
         "x": [
          10999,
          11999,
          11999,
          10999,
          10999
         ],
         "x0": " ",
         "xaxis": "x",
         "y0": " ",
         "yaxis": "y"
        },
        {
         "alignmentgroup": "True",
         "hovertemplate": "Processor=['Snapdragon 460']<br>Price=%{x}<extra></extra>",
         "legendgroup": "['Snapdragon 460']",
         "marker": {
          "color": "#ab63fa"
         },
         "name": "['Snapdragon 460']",
         "notched": false,
         "offsetgroup": "['Snapdragon 460']",
         "orientation": "h",
         "showlegend": true,
         "type": "box",
         "x": [
          9499,
          9499
         ],
         "x0": " ",
         "xaxis": "x",
         "y0": " ",
         "yaxis": "y"
        },
        {
         "alignmentgroup": "True",
         "hovertemplate": "Processor=['MediaTek Helio A20']<br>Price=%{x}<extra></extra>",
         "legendgroup": "['MediaTek Helio A20']",
         "marker": {
          "color": "#FFA15A"
         },
         "name": "['MediaTek Helio A20']",
         "notched": false,
         "offsetgroup": "['MediaTek Helio A20']",
         "orientation": "h",
         "showlegend": true,
         "type": "box",
         "x": [
          6499,
          6499,
          6499,
          5199
         ],
         "x0": " ",
         "xaxis": "x",
         "y0": " ",
         "yaxis": "y"
        },
        {
         "alignmentgroup": "True",
         "hovertemplate": "Processor=['Qualcomm Snapdragon 860']<br>Price=%{x}<extra></extra>",
         "legendgroup": "['Qualcomm Snapdragon 860']",
         "marker": {
          "color": "#19d3f3"
         },
         "name": "['Qualcomm Snapdragon 860']",
         "notched": false,
         "offsetgroup": "['Qualcomm Snapdragon 860']",
         "orientation": "h",
         "showlegend": true,
         "type": "box",
         "x": [
          18999,
          18999,
          20999,
          20999,
          20999,
          20999
         ],
         "x0": " ",
         "xaxis": "x",
         "y0": " ",
         "yaxis": "y"
        },
        {
         "alignmentgroup": "True",
         "hovertemplate": "Processor=['MediaTek Helio G95']<br>Price=%{x}<extra></extra>",
         "legendgroup": "['MediaTek Helio G95']",
         "marker": {
          "color": "#FF6692"
         },
         "name": "['MediaTek Helio G95']",
         "notched": false,
         "offsetgroup": "['MediaTek Helio G95']",
         "orientation": "h",
         "showlegend": true,
         "type": "box",
         "x": [
          15999,
          14999,
          13999,
          15999,
          13999,
          20990,
          20990,
          17101,
          16999,
          16999,
          14999,
          16099,
          16099
         ],
         "x0": " ",
         "xaxis": "x",
         "y0": " ",
         "yaxis": "y"
        },
        {
         "alignmentgroup": "True",
         "hovertemplate": "Processor=['MediaTek Dimensity 800U']<br>Price=%{x}<extra></extra>",
         "legendgroup": "['MediaTek Dimensity 800U']",
         "marker": {
          "color": "#B6E880"
         },
         "name": "['MediaTek Dimensity 800U']",
         "notched": false,
         "offsetgroup": "['MediaTek Dimensity 800U']",
         "orientation": "h",
         "showlegend": true,
         "type": "box",
         "x": [
          14999,
          14999,
          17999,
          17999,
          29990,
          25990,
          32990
         ],
         "x0": " ",
         "xaxis": "x",
         "y0": " ",
         "yaxis": "y"
        },
        {
         "alignmentgroup": "True",
         "hovertemplate": "Processor=['MediaTek']<br>Price=%{x}<extra></extra>",
         "legendgroup": "['MediaTek']",
         "marker": {
          "color": "#FF97FF"
         },
         "name": "['MediaTek']",
         "notched": false,
         "offsetgroup": "['MediaTek']",
         "orientation": "h",
         "showlegend": true,
         "type": "box",
         "x": [
          5001,
          2518,
          2245
         ],
         "x0": " ",
         "xaxis": "x",
         "y0": " ",
         "yaxis": "y"
        },
        {
         "alignmentgroup": "True",
         "hovertemplate": "Processor=['Qualcomm Snapdragon 732G']<br>Price=%{x}<extra></extra>",
         "legendgroup": "['Qualcomm Snapdragon 732G']",
         "marker": {
          "color": "#FECB52"
         },
         "name": "['Qualcomm Snapdragon 732G']",
         "notched": false,
         "offsetgroup": "['Qualcomm Snapdragon 732G']",
         "orientation": "h",
         "showlegend": true,
         "type": "box",
         "x": [
          16999,
          16999,
          14499,
          14499,
          17999,
          14499
         ],
         "x0": " ",
         "xaxis": "x",
         "y0": " ",
         "yaxis": "y"
        },
        {
         "alignmentgroup": "True",
         "hovertemplate": "Processor=['Qualcomm Snapdragon 720G']<br>Price=%{x}<extra></extra>",
         "legendgroup": "['Qualcomm Snapdragon 720G']",
         "marker": {
          "color": "#636efa"
         },
         "name": "['Qualcomm Snapdragon 720G']",
         "notched": false,
         "offsetgroup": "['Qualcomm Snapdragon 720G']",
         "orientation": "h",
         "showlegend": true,
         "type": "box",
         "x": [
          19999,
          17999,
          17999,
          17999,
          19999,
          17999,
          19999,
          17999,
          17999,
          12999,
          17999,
          15999,
          17999,
          20450,
          15999,
          15999,
          15999,
          15999
         ],
         "x0": " ",
         "xaxis": "x",
         "y0": " ",
         "yaxis": "y"
        },
        {
         "alignmentgroup": "True",
         "hovertemplate": "Processor=['Mediatek Helio A25']<br>Price=%{x}<extra></extra>",
         "legendgroup": "['Mediatek Helio A25']",
         "marker": {
          "color": "#EF553B"
         },
         "name": "['Mediatek Helio A25']",
         "notched": false,
         "offsetgroup": "['Mediatek Helio A25']",
         "orientation": "h",
         "showlegend": true,
         "type": "box",
         "x": [
          7499,
          7499,
          7499
         ],
         "x0": " ",
         "xaxis": "x",
         "y0": " ",
         "yaxis": "y"
        },
        {
         "alignmentgroup": "True",
         "hovertemplate": "Processor=['Samsung Exynos 9 Octa 9611']<br>Price=%{x}<extra></extra>",
         "legendgroup": "['Samsung Exynos 9 Octa 9611']",
         "marker": {
          "color": "#00cc96"
         },
         "name": "['Samsung Exynos 9 Octa 9611']",
         "notched": false,
         "offsetgroup": "['Samsung Exynos 9 Octa 9611']",
         "orientation": "h",
         "showlegend": true,
         "type": "box",
         "x": [
          18299,
          19980,
          15979,
          15979,
          18299,
          16290
         ],
         "x0": " ",
         "xaxis": "x",
         "y0": " ",
         "yaxis": "y"
        },
        {
         "alignmentgroup": "True",
         "hovertemplate": "Processor=['MTK6261D']<br>Price=%{x}<extra></extra>",
         "legendgroup": "['MTK6261D']",
         "marker": {
          "color": "#ab63fa"
         },
         "name": "['MTK6261D']",
         "notched": false,
         "offsetgroup": "['MTK6261D']",
         "orientation": "h",
         "showlegend": true,
         "type": "box",
         "x": [
          1752,
          1752,
          1899
         ],
         "x0": " ",
         "xaxis": "x",
         "y0": " ",
         "yaxis": "y"
        },
        {
         "alignmentgroup": "True",
         "hovertemplate": "Processor=['Unisoc SC9863']<br>Price=%{x}<extra></extra>",
         "legendgroup": "['Unisoc SC9863']",
         "marker": {
          "color": "#FFA15A"
         },
         "name": "['Unisoc SC9863']",
         "notched": false,
         "offsetgroup": "['Unisoc SC9863']",
         "orientation": "h",
         "showlegend": true,
         "type": "box",
         "x": [
          5399
         ],
         "x0": " ",
         "xaxis": "x",
         "y0": " ",
         "yaxis": "y"
        },
        {
         "alignmentgroup": "True",
         "hovertemplate": "Processor=['SC6531E']<br>Price=%{x}<extra></extra>",
         "legendgroup": "['SC6531E']",
         "marker": {
          "color": "#19d3f3"
         },
         "name": "['SC6531E']",
         "notched": false,
         "offsetgroup": "['SC6531E']",
         "orientation": "h",
         "showlegend": true,
         "type": "box",
         "x": [
          775,
          924,
          1249,
          1249,
          917,
          949,
          924,
          1125,
          924,
          899
         ],
         "x0": " ",
         "xaxis": "x",
         "y0": " ",
         "yaxis": "y"
        },
        {
         "alignmentgroup": "True",
         "hovertemplate": "Processor=['Snapdragon 439']<br>Price=%{x}<extra></extra>",
         "legendgroup": "['Snapdragon 439']",
         "marker": {
          "color": "#FF6692"
         },
         "name": "['Snapdragon 439']",
         "notched": false,
         "offsetgroup": "['Snapdragon 439']",
         "orientation": "h",
         "showlegend": true,
         "type": "box",
         "x": [
          10490,
          10490
         ],
         "x0": " ",
         "xaxis": "x",
         "y0": " ",
         "yaxis": "y"
        },
        {
         "alignmentgroup": "True",
         "hovertemplate": "Processor=['SDM439']<br>Price=%{x}<extra></extra>",
         "legendgroup": "['SDM439']",
         "marker": {
          "color": "#B6E880"
         },
         "name": "['SDM439']",
         "notched": false,
         "offsetgroup": "['SDM439']",
         "orientation": "h",
         "showlegend": true,
         "type": "box",
         "x": [
          9490
         ],
         "x0": " ",
         "xaxis": "x",
         "y0": " ",
         "yaxis": "y"
        },
        {
         "alignmentgroup": "True",
         "hovertemplate": "Processor=['Quad Core']<br>Price=%{x}<extra></extra>",
         "legendgroup": "['Quad Core']",
         "marker": {
          "color": "#FF97FF"
         },
         "name": "['Quad Core']",
         "notched": false,
         "offsetgroup": "['Quad Core']",
         "orientation": "h",
         "showlegend": true,
         "type": "box",
         "x": [
          5965,
          5960,
          5960
         ],
         "x0": " ",
         "xaxis": "x",
         "y0": " ",
         "yaxis": "y"
        },
        {
         "alignmentgroup": "True",
         "hovertemplate": "Processor=['MediaTek Helio A25']<br>Price=%{x}<extra></extra>",
         "legendgroup": "['MediaTek Helio A25']",
         "marker": {
          "color": "#FECB52"
         },
         "name": "['MediaTek Helio A25']",
         "notched": false,
         "offsetgroup": "['MediaTek Helio A25']",
         "orientation": "h",
         "showlegend": true,
         "type": "box",
         "x": [
          8699,
          8699
         ],
         "x0": " ",
         "xaxis": "x",
         "y0": " ",
         "yaxis": "y"
        },
        {
         "alignmentgroup": "True",
         "hovertemplate": "Processor=['MediaTek Helio P95']<br>Price=%{x}<extra></extra>",
         "legendgroup": "['MediaTek Helio P95']",
         "marker": {
          "color": "#636efa"
         },
         "name": "['MediaTek Helio P95']",
         "notched": false,
         "offsetgroup": "['MediaTek Helio P95']",
         "orientation": "h",
         "showlegend": true,
         "type": "box",
         "x": [
          19990,
          19990,
          19990,
          19990,
          19990
         ],
         "x0": " ",
         "xaxis": "x",
         "y0": " ",
         "yaxis": "y"
        },
        {
         "alignmentgroup": "True",
         "hovertemplate": "Processor=['MT6260A']<br>Price=%{x}<extra></extra>",
         "legendgroup": "['MT6260A']",
         "marker": {
          "color": "#EF553B"
         },
         "name": "['MT6260A']",
         "notched": false,
         "offsetgroup": "['MT6260A']",
         "orientation": "h",
         "showlegend": true,
         "type": "box",
         "x": [
          3559
         ],
         "x0": " ",
         "xaxis": "x",
         "y0": " ",
         "yaxis": "y"
        },
        {
         "alignmentgroup": "True",
         "hovertemplate": "Processor=['MediaTek Quad Core']<br>Price=%{x}<extra></extra>",
         "legendgroup": "['MediaTek Quad Core']",
         "marker": {
          "color": "#00cc96"
         },
         "name": "['MediaTek Quad Core']",
         "notched": false,
         "offsetgroup": "['MediaTek Quad Core']",
         "orientation": "h",
         "showlegend": true,
         "type": "box",
         "x": [
          5299
         ],
         "x0": " ",
         "xaxis": "x",
         "y0": " ",
         "yaxis": "y"
        },
        {
         "alignmentgroup": "True",
         "hovertemplate": "Processor=['0 0 0 0 Processor']<br>Price=%{x}<extra></extra>",
         "legendgroup": "['0 0 0 0 Processor']",
         "marker": {
          "color": "#ab63fa"
         },
         "name": "['0 0 0 0 Processor']",
         "notched": false,
         "offsetgroup": "['0 0 0 0 Processor']",
         "orientation": "h",
         "showlegend": true,
         "type": "box",
         "x": [
          2799,
          1410,
          1410
         ],
         "x0": " ",
         "xaxis": "x",
         "y0": " ",
         "yaxis": "y"
        },
        {
         "alignmentgroup": "True",
         "hovertemplate": "Processor=['Snapdragon 662']<br>Price=%{x}<extra></extra>",
         "legendgroup": "['Snapdragon 662']",
         "marker": {
          "color": "#FFA15A"
         },
         "name": "['Snapdragon 662']",
         "notched": false,
         "offsetgroup": "['Snapdragon 662']",
         "orientation": "h",
         "showlegend": true,
         "type": "box",
         "x": [
          10999
         ],
         "x0": " ",
         "xaxis": "x",
         "y0": " ",
         "yaxis": "y"
        },
        {
         "alignmentgroup": "True",
         "hovertemplate": "Processor=['Meditek']<br>Price=%{x}<extra></extra>",
         "legendgroup": "['Meditek']",
         "marker": {
          "color": "#19d3f3"
         },
         "name": "['Meditek']",
         "notched": false,
         "offsetgroup": "['Meditek']",
         "orientation": "h",
         "showlegend": true,
         "type": "box",
         "x": [
          6999,
          6999
         ],
         "x0": " ",
         "xaxis": "x",
         "y0": " ",
         "yaxis": "y"
        },
        {
         "alignmentgroup": "True",
         "hovertemplate": "Processor=['MediaTek Helio G90T']<br>Price=%{x}<extra></extra>",
         "legendgroup": "['MediaTek Helio G90T']",
         "marker": {
          "color": "#FF6692"
         },
         "name": "['MediaTek Helio G90T']",
         "notched": false,
         "offsetgroup": "['MediaTek Helio G90T']",
         "orientation": "h",
         "showlegend": true,
         "type": "box",
         "x": [
          14999,
          14999
         ],
         "x0": " ",
         "xaxis": "x",
         "y0": " ",
         "yaxis": "y"
        },
        {
         "alignmentgroup": "True",
         "hovertemplate": "Processor=['Exynos 850 Octa Core']<br>Price=%{x}<extra></extra>",
         "legendgroup": "['Exynos 850 Octa Core']",
         "marker": {
          "color": "#B6E880"
         },
         "name": "['Exynos 850 Octa Core']",
         "notched": false,
         "offsetgroup": "['Exynos 850 Octa Core']",
         "orientation": "h",
         "showlegend": true,
         "type": "box",
         "x": [
          14990,
          12999,
          12999
         ],
         "x0": " ",
         "xaxis": "x",
         "y0": " ",
         "yaxis": "y"
        },
        {
         "alignmentgroup": "True",
         "hovertemplate": "Processor=['Exynos 9825']<br>Price=%{x}<extra></extra>",
         "legendgroup": "['Exynos 9825']",
         "marker": {
          "color": "#FF97FF"
         },
         "name": "['Exynos 9825']",
         "notched": false,
         "offsetgroup": "['Exynos 9825']",
         "orientation": "h",
         "showlegend": true,
         "type": "box",
         "x": [
          25999,
          25999,
          25999,
          23999,
          23999
         ],
         "x0": " ",
         "xaxis": "x",
         "y0": " ",
         "yaxis": "y"
        },
        {
         "alignmentgroup": "True",
         "hovertemplate": "Processor=['Qualcomm Snapdragon 439']<br>Price=%{x}<extra></extra>",
         "legendgroup": "['Qualcomm Snapdragon 439']",
         "marker": {
          "color": "#FECB52"
         },
         "name": "['Qualcomm Snapdragon 439']",
         "notched": false,
         "offsetgroup": "['Qualcomm Snapdragon 439']",
         "orientation": "h",
         "showlegend": true,
         "type": "box",
         "x": [
          8299,
          8299,
          10299
         ],
         "x0": " ",
         "xaxis": "x",
         "y0": " ",
         "yaxis": "y"
        },
        {
         "alignmentgroup": "True",
         "hovertemplate": "Processor=['UNISOC SC9863A OCTA CORE']<br>Price=%{x}<extra></extra>",
         "legendgroup": "['UNISOC SC9863A OCTA CORE']",
         "marker": {
          "color": "#636efa"
         },
         "name": "['UNISOC SC9863A OCTA CORE']",
         "notched": false,
         "offsetgroup": "['UNISOC SC9863A OCTA CORE']",
         "orientation": "h",
         "showlegend": true,
         "type": "box",
         "x": [
          6992,
          6992
         ],
         "x0": " ",
         "xaxis": "x",
         "y0": " ",
         "yaxis": "y"
        },
        {
         "alignmentgroup": "True",
         "hovertemplate": "Processor=['MTK Helio P22']<br>Price=%{x}<extra></extra>",
         "legendgroup": "['MTK Helio P22']",
         "marker": {
          "color": "#EF553B"
         },
         "name": "['MTK Helio P22']",
         "notched": false,
         "offsetgroup": "['MTK Helio P22']",
         "orientation": "h",
         "showlegend": true,
         "type": "box",
         "x": [
          7990,
          7990,
          7990
         ],
         "x0": " ",
         "xaxis": "x",
         "y0": " ",
         "yaxis": "y"
        },
        {
         "alignmentgroup": "True",
         "hovertemplate": "Processor=['SC6531C']<br>Price=%{x}<extra></extra>",
         "legendgroup": "['SC6531C']",
         "marker": {
          "color": "#00cc96"
         },
         "name": "['SC6531C']",
         "notched": false,
         "offsetgroup": "['SC6531C']",
         "orientation": "h",
         "showlegend": true,
         "type": "box",
         "x": [
          1399,
          1399,
          1399,
          1399,
          1399
         ],
         "x0": " ",
         "xaxis": "x",
         "y0": " ",
         "yaxis": "y"
        },
        {
         "alignmentgroup": "True",
         "hovertemplate": "Processor=['MediaTek Helio P35 Octa Core']<br>Price=%{x}<extra></extra>",
         "legendgroup": "['MediaTek Helio P35 Octa Core']",
         "marker": {
          "color": "#ab63fa"
         },
         "name": "['MediaTek Helio P35 Octa Core']",
         "notched": false,
         "offsetgroup": "['MediaTek Helio P35 Octa Core']",
         "orientation": "h",
         "showlegend": true,
         "type": "box",
         "x": [
          11989,
          11688,
          8490
         ],
         "x0": " ",
         "xaxis": "x",
         "y0": " ",
         "yaxis": "y"
        },
        {
         "alignmentgroup": "True",
         "hovertemplate": "Processor=['Exynos 9611 octa core processor']<br>Price=%{x}<extra></extra>",
         "legendgroup": "['Exynos 9611 octa core processor']",
         "marker": {
          "color": "#FFA15A"
         },
         "name": "['Exynos 9611 octa core processor']",
         "notched": false,
         "offsetgroup": "['Exynos 9611 octa core processor']",
         "orientation": "h",
         "showlegend": true,
         "type": "box",
         "x": [
          20663
         ],
         "x0": " ",
         "xaxis": "x",
         "y0": " ",
         "yaxis": "y"
        },
        {
         "alignmentgroup": "True",
         "hovertemplate": "Processor=['Exynos 9611']<br>Price=%{x}<extra></extra>",
         "legendgroup": "['Exynos 9611']",
         "marker": {
          "color": "#19d3f3"
         },
         "name": "['Exynos 9611']",
         "notched": false,
         "offsetgroup": "['Exynos 9611']",
         "orientation": "h",
         "showlegend": true,
         "type": "box",
         "x": [
          22499
         ],
         "x0": " ",
         "xaxis": "x",
         "y0": " ",
         "yaxis": "y"
        },
        {
         "alignmentgroup": "True",
         "hovertemplate": "Processor=['NA']<br>Price=%{x}<extra></extra>",
         "legendgroup": "['NA']",
         "marker": {
          "color": "#FF6692"
         },
         "name": "['NA']",
         "notched": false,
         "offsetgroup": "['NA']",
         "orientation": "h",
         "showlegend": true,
         "type": "box",
         "x": [
          2299
         ],
         "x0": " ",
         "xaxis": "x",
         "y0": " ",
         "yaxis": "y"
        },
        {
         "alignmentgroup": "True",
         "hovertemplate": "Processor=['Qualcomm Snapdragon 450']<br>Price=%{x}<extra></extra>",
         "legendgroup": "['Qualcomm Snapdragon 450']",
         "marker": {
          "color": "#B6E880"
         },
         "name": "['Qualcomm Snapdragon 450']",
         "notched": false,
         "offsetgroup": "['Qualcomm Snapdragon 450']",
         "orientation": "h",
         "showlegend": true,
         "type": "box",
         "x": [
          10284,
          8939
         ],
         "x0": " ",
         "xaxis": "x",
         "y0": " ",
         "yaxis": "y"
        },
        {
         "alignmentgroup": "True",
         "hovertemplate": "Processor=['Unisoc SC9863A Octa Core']<br>Price=%{x}<extra></extra>",
         "legendgroup": "['Unisoc SC9863A Octa Core']",
         "marker": {
          "color": "#FF97FF"
         },
         "name": "['Unisoc SC9863A Octa Core']",
         "notched": false,
         "offsetgroup": "['Unisoc SC9863A Octa Core']",
         "orientation": "h",
         "showlegend": true,
         "type": "box",
         "x": [
          6549
         ],
         "x0": " ",
         "xaxis": "x",
         "y0": " ",
         "yaxis": "y"
        },
        {
         "alignmentgroup": "True",
         "hovertemplate": "Processor=['MediaTek Dimensity 1200']<br>Price=%{x}<extra></extra>",
         "legendgroup": "['MediaTek Dimensity 1200']",
         "marker": {
          "color": "#FECB52"
         },
         "name": "['MediaTek Dimensity 1200']",
         "notched": false,
         "offsetgroup": "['MediaTek Dimensity 1200']",
         "orientation": "h",
         "showlegend": true,
         "type": "box",
         "x": [
          26999,
          26999,
          29999,
          26999,
          29999,
          29999
         ],
         "x0": " ",
         "xaxis": "x",
         "y0": " ",
         "yaxis": "y"
        },
        {
         "alignmentgroup": "True",
         "hovertemplate": "Processor=['Qualcomm Snapdragon 665']<br>Price=%{x}<extra></extra>",
         "legendgroup": "['Qualcomm Snapdragon 665']",
         "marker": {
          "color": "#636efa"
         },
         "name": "['Qualcomm Snapdragon 665']",
         "notched": false,
         "offsetgroup": "['Qualcomm Snapdragon 665']",
         "orientation": "h",
         "showlegend": true,
         "type": "box",
         "x": [
          9499,
          17990,
          17990
         ],
         "x0": " ",
         "xaxis": "x",
         "y0": " ",
         "yaxis": "y"
        },
        {
         "alignmentgroup": "True",
         "hovertemplate": "Processor=['MediaTek MT6739']<br>Price=%{x}<extra></extra>",
         "legendgroup": "['MediaTek MT6739']",
         "marker": {
          "color": "#EF553B"
         },
         "name": "['MediaTek MT6739']",
         "notched": false,
         "offsetgroup": "['MediaTek MT6739']",
         "orientation": "h",
         "showlegend": true,
         "type": "box",
         "x": [
          8499
         ],
         "x0": " ",
         "xaxis": "x",
         "y0": " ",
         "yaxis": "y"
        },
        {
         "alignmentgroup": "True",
         "hovertemplate": "Processor=['Qualcomm Snapdragon 750G octa core']<br>Price=%{x}<extra></extra>",
         "legendgroup": "['Qualcomm Snapdragon 750G octa core']",
         "marker": {
          "color": "#00cc96"
         },
         "name": "['Qualcomm Snapdragon 750G octa core']",
         "notched": false,
         "offsetgroup": "['Qualcomm Snapdragon 750G octa core']",
         "orientation": "h",
         "showlegend": true,
         "type": "box",
         "x": [
          21752,
          22490
         ],
         "x0": " ",
         "xaxis": "x",
         "y0": " ",
         "yaxis": "y"
        },
        {
         "alignmentgroup": "True",
         "hovertemplate": "Processor=['Spreadtrum']<br>Price=%{x}<extra></extra>",
         "legendgroup": "['Spreadtrum']",
         "marker": {
          "color": "#ab63fa"
         },
         "name": "['Spreadtrum']",
         "notched": false,
         "offsetgroup": "['Spreadtrum']",
         "orientation": "h",
         "showlegend": true,
         "type": "box",
         "x": [
          899,
          899,
          899
         ],
         "x0": " ",
         "xaxis": "x",
         "y0": " ",
         "yaxis": "y"
        },
        {
         "alignmentgroup": "True",
         "hovertemplate": "Processor=['Qualcomm Snapdragon 678']<br>Price=%{x}<extra></extra>",
         "legendgroup": "['Qualcomm Snapdragon 678']",
         "marker": {
          "color": "#FFA15A"
         },
         "name": "['Qualcomm Snapdragon 678']",
         "notched": false,
         "offsetgroup": "['Qualcomm Snapdragon 678']",
         "orientation": "h",
         "showlegend": true,
         "type": "box",
         "x": [
          16495,
          16495,
          16499
         ],
         "x0": " ",
         "xaxis": "x",
         "y0": " ",
         "yaxis": "y"
        },
        {
         "alignmentgroup": "True",
         "hovertemplate": "Processor=['Qualcomm Snapdragon 730']<br>Price=%{x}<extra></extra>",
         "legendgroup": "['Qualcomm Snapdragon 730']",
         "marker": {
          "color": "#19d3f3"
         },
         "name": "['Qualcomm Snapdragon 730']",
         "notched": false,
         "offsetgroup": "['Qualcomm Snapdragon 730']",
         "orientation": "h",
         "showlegend": true,
         "type": "box",
         "x": [
          24999
         ],
         "x0": " ",
         "xaxis": "x",
         "y0": " ",
         "yaxis": "y"
        },
        {
         "alignmentgroup": "True",
         "hovertemplate": "Processor=['SC9863A Octa Core']<br>Price=%{x}<extra></extra>",
         "legendgroup": "['SC9863A Octa Core']",
         "marker": {
          "color": "#FF6692"
         },
         "name": "['SC9863A Octa Core']",
         "notched": false,
         "offsetgroup": "['SC9863A Octa Core']",
         "orientation": "h",
         "showlegend": true,
         "type": "box",
         "x": [
          6749
         ],
         "x0": " ",
         "xaxis": "x",
         "y0": " ",
         "yaxis": "y"
        },
        {
         "alignmentgroup": "True",
         "hovertemplate": "Processor=['MediaTek Helio P22']<br>Price=%{x}<extra></extra>",
         "legendgroup": "['MediaTek Helio P22']",
         "marker": {
          "color": "#B6E880"
         },
         "name": "['MediaTek Helio P22']",
         "notched": false,
         "offsetgroup": "['MediaTek Helio P22']",
         "orientation": "h",
         "showlegend": true,
         "type": "box",
         "x": [
          9999
         ],
         "x0": " ",
         "xaxis": "x",
         "y0": " ",
         "yaxis": "y"
        }
       ],
       "layout": {
        "boxmode": "group",
        "legend": {
         "title": {
          "text": "Processor"
         },
         "tracegroupgap": 0
        },
        "margin": {
         "t": 60
        },
        "template": {
         "data": {
          "bar": [
           {
            "error_x": {
             "color": "#2a3f5f"
            },
            "error_y": {
             "color": "#2a3f5f"
            },
            "marker": {
             "line": {
              "color": "#E5ECF6",
              "width": 0.5
             }
            },
            "type": "bar"
           }
          ],
          "barpolar": [
           {
            "marker": {
             "line": {
              "color": "#E5ECF6",
              "width": 0.5
             }
            },
            "type": "barpolar"
           }
          ],
          "carpet": [
           {
            "aaxis": {
             "endlinecolor": "#2a3f5f",
             "gridcolor": "white",
             "linecolor": "white",
             "minorgridcolor": "white",
             "startlinecolor": "#2a3f5f"
            },
            "baxis": {
             "endlinecolor": "#2a3f5f",
             "gridcolor": "white",
             "linecolor": "white",
             "minorgridcolor": "white",
             "startlinecolor": "#2a3f5f"
            },
            "type": "carpet"
           }
          ],
          "choropleth": [
           {
            "colorbar": {
             "outlinewidth": 0,
             "ticks": ""
            },
            "type": "choropleth"
           }
          ],
          "contour": [
           {
            "colorbar": {
             "outlinewidth": 0,
             "ticks": ""
            },
            "colorscale": [
             [
              0,
              "#0d0887"
             ],
             [
              0.1111111111111111,
              "#46039f"
             ],
             [
              0.2222222222222222,
              "#7201a8"
             ],
             [
              0.3333333333333333,
              "#9c179e"
             ],
             [
              0.4444444444444444,
              "#bd3786"
             ],
             [
              0.5555555555555556,
              "#d8576b"
             ],
             [
              0.6666666666666666,
              "#ed7953"
             ],
             [
              0.7777777777777778,
              "#fb9f3a"
             ],
             [
              0.8888888888888888,
              "#fdca26"
             ],
             [
              1,
              "#f0f921"
             ]
            ],
            "type": "contour"
           }
          ],
          "contourcarpet": [
           {
            "colorbar": {
             "outlinewidth": 0,
             "ticks": ""
            },
            "type": "contourcarpet"
           }
          ],
          "heatmap": [
           {
            "colorbar": {
             "outlinewidth": 0,
             "ticks": ""
            },
            "colorscale": [
             [
              0,
              "#0d0887"
             ],
             [
              0.1111111111111111,
              "#46039f"
             ],
             [
              0.2222222222222222,
              "#7201a8"
             ],
             [
              0.3333333333333333,
              "#9c179e"
             ],
             [
              0.4444444444444444,
              "#bd3786"
             ],
             [
              0.5555555555555556,
              "#d8576b"
             ],
             [
              0.6666666666666666,
              "#ed7953"
             ],
             [
              0.7777777777777778,
              "#fb9f3a"
             ],
             [
              0.8888888888888888,
              "#fdca26"
             ],
             [
              1,
              "#f0f921"
             ]
            ],
            "type": "heatmap"
           }
          ],
          "heatmapgl": [
           {
            "colorbar": {
             "outlinewidth": 0,
             "ticks": ""
            },
            "colorscale": [
             [
              0,
              "#0d0887"
             ],
             [
              0.1111111111111111,
              "#46039f"
             ],
             [
              0.2222222222222222,
              "#7201a8"
             ],
             [
              0.3333333333333333,
              "#9c179e"
             ],
             [
              0.4444444444444444,
              "#bd3786"
             ],
             [
              0.5555555555555556,
              "#d8576b"
             ],
             [
              0.6666666666666666,
              "#ed7953"
             ],
             [
              0.7777777777777778,
              "#fb9f3a"
             ],
             [
              0.8888888888888888,
              "#fdca26"
             ],
             [
              1,
              "#f0f921"
             ]
            ],
            "type": "heatmapgl"
           }
          ],
          "histogram": [
           {
            "marker": {
             "colorbar": {
              "outlinewidth": 0,
              "ticks": ""
             }
            },
            "type": "histogram"
           }
          ],
          "histogram2d": [
           {
            "colorbar": {
             "outlinewidth": 0,
             "ticks": ""
            },
            "colorscale": [
             [
              0,
              "#0d0887"
             ],
             [
              0.1111111111111111,
              "#46039f"
             ],
             [
              0.2222222222222222,
              "#7201a8"
             ],
             [
              0.3333333333333333,
              "#9c179e"
             ],
             [
              0.4444444444444444,
              "#bd3786"
             ],
             [
              0.5555555555555556,
              "#d8576b"
             ],
             [
              0.6666666666666666,
              "#ed7953"
             ],
             [
              0.7777777777777778,
              "#fb9f3a"
             ],
             [
              0.8888888888888888,
              "#fdca26"
             ],
             [
              1,
              "#f0f921"
             ]
            ],
            "type": "histogram2d"
           }
          ],
          "histogram2dcontour": [
           {
            "colorbar": {
             "outlinewidth": 0,
             "ticks": ""
            },
            "colorscale": [
             [
              0,
              "#0d0887"
             ],
             [
              0.1111111111111111,
              "#46039f"
             ],
             [
              0.2222222222222222,
              "#7201a8"
             ],
             [
              0.3333333333333333,
              "#9c179e"
             ],
             [
              0.4444444444444444,
              "#bd3786"
             ],
             [
              0.5555555555555556,
              "#d8576b"
             ],
             [
              0.6666666666666666,
              "#ed7953"
             ],
             [
              0.7777777777777778,
              "#fb9f3a"
             ],
             [
              0.8888888888888888,
              "#fdca26"
             ],
             [
              1,
              "#f0f921"
             ]
            ],
            "type": "histogram2dcontour"
           }
          ],
          "mesh3d": [
           {
            "colorbar": {
             "outlinewidth": 0,
             "ticks": ""
            },
            "type": "mesh3d"
           }
          ],
          "parcoords": [
           {
            "line": {
             "colorbar": {
              "outlinewidth": 0,
              "ticks": ""
             }
            },
            "type": "parcoords"
           }
          ],
          "pie": [
           {
            "automargin": true,
            "type": "pie"
           }
          ],
          "scatter": [
           {
            "marker": {
             "colorbar": {
              "outlinewidth": 0,
              "ticks": ""
             }
            },
            "type": "scatter"
           }
          ],
          "scatter3d": [
           {
            "line": {
             "colorbar": {
              "outlinewidth": 0,
              "ticks": ""
             }
            },
            "marker": {
             "colorbar": {
              "outlinewidth": 0,
              "ticks": ""
             }
            },
            "type": "scatter3d"
           }
          ],
          "scattercarpet": [
           {
            "marker": {
             "colorbar": {
              "outlinewidth": 0,
              "ticks": ""
             }
            },
            "type": "scattercarpet"
           }
          ],
          "scattergeo": [
           {
            "marker": {
             "colorbar": {
              "outlinewidth": 0,
              "ticks": ""
             }
            },
            "type": "scattergeo"
           }
          ],
          "scattergl": [
           {
            "marker": {
             "colorbar": {
              "outlinewidth": 0,
              "ticks": ""
             }
            },
            "type": "scattergl"
           }
          ],
          "scattermapbox": [
           {
            "marker": {
             "colorbar": {
              "outlinewidth": 0,
              "ticks": ""
             }
            },
            "type": "scattermapbox"
           }
          ],
          "scatterpolar": [
           {
            "marker": {
             "colorbar": {
              "outlinewidth": 0,
              "ticks": ""
             }
            },
            "type": "scatterpolar"
           }
          ],
          "scatterpolargl": [
           {
            "marker": {
             "colorbar": {
              "outlinewidth": 0,
              "ticks": ""
             }
            },
            "type": "scatterpolargl"
           }
          ],
          "scatterternary": [
           {
            "marker": {
             "colorbar": {
              "outlinewidth": 0,
              "ticks": ""
             }
            },
            "type": "scatterternary"
           }
          ],
          "surface": [
           {
            "colorbar": {
             "outlinewidth": 0,
             "ticks": ""
            },
            "colorscale": [
             [
              0,
              "#0d0887"
             ],
             [
              0.1111111111111111,
              "#46039f"
             ],
             [
              0.2222222222222222,
              "#7201a8"
             ],
             [
              0.3333333333333333,
              "#9c179e"
             ],
             [
              0.4444444444444444,
              "#bd3786"
             ],
             [
              0.5555555555555556,
              "#d8576b"
             ],
             [
              0.6666666666666666,
              "#ed7953"
             ],
             [
              0.7777777777777778,
              "#fb9f3a"
             ],
             [
              0.8888888888888888,
              "#fdca26"
             ],
             [
              1,
              "#f0f921"
             ]
            ],
            "type": "surface"
           }
          ],
          "table": [
           {
            "cells": {
             "fill": {
              "color": "#EBF0F8"
             },
             "line": {
              "color": "white"
             }
            },
            "header": {
             "fill": {
              "color": "#C8D4E3"
             },
             "line": {
              "color": "white"
             }
            },
            "type": "table"
           }
          ]
         },
         "layout": {
          "annotationdefaults": {
           "arrowcolor": "#2a3f5f",
           "arrowhead": 0,
           "arrowwidth": 1
          },
          "autotypenumbers": "strict",
          "coloraxis": {
           "colorbar": {
            "outlinewidth": 0,
            "ticks": ""
           }
          },
          "colorscale": {
           "diverging": [
            [
             0,
             "#8e0152"
            ],
            [
             0.1,
             "#c51b7d"
            ],
            [
             0.2,
             "#de77ae"
            ],
            [
             0.3,
             "#f1b6da"
            ],
            [
             0.4,
             "#fde0ef"
            ],
            [
             0.5,
             "#f7f7f7"
            ],
            [
             0.6,
             "#e6f5d0"
            ],
            [
             0.7,
             "#b8e186"
            ],
            [
             0.8,
             "#7fbc41"
            ],
            [
             0.9,
             "#4d9221"
            ],
            [
             1,
             "#276419"
            ]
           ],
           "sequential": [
            [
             0,
             "#0d0887"
            ],
            [
             0.1111111111111111,
             "#46039f"
            ],
            [
             0.2222222222222222,
             "#7201a8"
            ],
            [
             0.3333333333333333,
             "#9c179e"
            ],
            [
             0.4444444444444444,
             "#bd3786"
            ],
            [
             0.5555555555555556,
             "#d8576b"
            ],
            [
             0.6666666666666666,
             "#ed7953"
            ],
            [
             0.7777777777777778,
             "#fb9f3a"
            ],
            [
             0.8888888888888888,
             "#fdca26"
            ],
            [
             1,
             "#f0f921"
            ]
           ],
           "sequentialminus": [
            [
             0,
             "#0d0887"
            ],
            [
             0.1111111111111111,
             "#46039f"
            ],
            [
             0.2222222222222222,
             "#7201a8"
            ],
            [
             0.3333333333333333,
             "#9c179e"
            ],
            [
             0.4444444444444444,
             "#bd3786"
            ],
            [
             0.5555555555555556,
             "#d8576b"
            ],
            [
             0.6666666666666666,
             "#ed7953"
            ],
            [
             0.7777777777777778,
             "#fb9f3a"
            ],
            [
             0.8888888888888888,
             "#fdca26"
            ],
            [
             1,
             "#f0f921"
            ]
           ]
          },
          "colorway": [
           "#636efa",
           "#EF553B",
           "#00cc96",
           "#ab63fa",
           "#FFA15A",
           "#19d3f3",
           "#FF6692",
           "#B6E880",
           "#FF97FF",
           "#FECB52"
          ],
          "font": {
           "color": "#2a3f5f"
          },
          "geo": {
           "bgcolor": "white",
           "lakecolor": "white",
           "landcolor": "#E5ECF6",
           "showlakes": true,
           "showland": true,
           "subunitcolor": "white"
          },
          "hoverlabel": {
           "align": "left"
          },
          "hovermode": "closest",
          "mapbox": {
           "style": "light"
          },
          "paper_bgcolor": "white",
          "plot_bgcolor": "#E5ECF6",
          "polar": {
           "angularaxis": {
            "gridcolor": "white",
            "linecolor": "white",
            "ticks": ""
           },
           "bgcolor": "#E5ECF6",
           "radialaxis": {
            "gridcolor": "white",
            "linecolor": "white",
            "ticks": ""
           }
          },
          "scene": {
           "xaxis": {
            "backgroundcolor": "#E5ECF6",
            "gridcolor": "white",
            "gridwidth": 2,
            "linecolor": "white",
            "showbackground": true,
            "ticks": "",
            "zerolinecolor": "white"
           },
           "yaxis": {
            "backgroundcolor": "#E5ECF6",
            "gridcolor": "white",
            "gridwidth": 2,
            "linecolor": "white",
            "showbackground": true,
            "ticks": "",
            "zerolinecolor": "white"
           },
           "zaxis": {
            "backgroundcolor": "#E5ECF6",
            "gridcolor": "white",
            "gridwidth": 2,
            "linecolor": "white",
            "showbackground": true,
            "ticks": "",
            "zerolinecolor": "white"
           }
          },
          "shapedefaults": {
           "line": {
            "color": "#2a3f5f"
           }
          },
          "ternary": {
           "aaxis": {
            "gridcolor": "white",
            "linecolor": "white",
            "ticks": ""
           },
           "baxis": {
            "gridcolor": "white",
            "linecolor": "white",
            "ticks": ""
           },
           "bgcolor": "#E5ECF6",
           "caxis": {
            "gridcolor": "white",
            "linecolor": "white",
            "ticks": ""
           }
          },
          "title": {
           "x": 0.05
          },
          "xaxis": {
           "automargin": true,
           "gridcolor": "white",
           "linecolor": "white",
           "ticks": "",
           "title": {
            "standoff": 15
           },
           "zerolinecolor": "white",
           "zerolinewidth": 2
          },
          "yaxis": {
           "automargin": true,
           "gridcolor": "white",
           "linecolor": "white",
           "ticks": "",
           "title": {
            "standoff": 15
           },
           "zerolinecolor": "white",
           "zerolinewidth": 2
          }
         }
        },
        "xaxis": {
         "anchor": "y",
         "domain": [
          0,
          1
         ],
         "title": {
          "text": "Price"
         }
        },
        "yaxis": {
         "anchor": "x",
         "domain": [
          0,
          1
         ]
        }
       }
      },
      "text/html": [
       "<div>                            <div id=\"3f0cace4-f286-4563-b284-fc7330a830c6\" class=\"plotly-graph-div\" style=\"height:525px; width:100%;\"></div>            <script type=\"text/javascript\">                require([\"plotly\"], function(Plotly) {                    window.PLOTLYENV=window.PLOTLYENV || {};                                    if (document.getElementById(\"3f0cace4-f286-4563-b284-fc7330a830c6\")) {                    Plotly.newPlot(                        \"3f0cace4-f286-4563-b284-fc7330a830c6\",                        [{\"alignmentgroup\": \"True\", \"hovertemplate\": \"Processor=['MediaTek Helio G35']<br>Price=%{x}<extra></extra>\", \"legendgroup\": \"['MediaTek Helio G35']\", \"marker\": {\"color\": \"#636efa\"}, \"name\": \"['MediaTek Helio G35']\", \"notched\": false, \"offsetgroup\": \"['MediaTek Helio G35']\", \"orientation\": \"h\", \"showlegend\": true, \"type\": \"box\", \"x\": [6799, 6799, 8999, 8999, 7999, 7999, 10997, 10997, 9299, 9145, 9189], \"x0\": \" \", \"xaxis\": \"x\", \"y0\": \" \", \"yaxis\": \"y\"}, {\"alignmentgroup\": \"True\", \"hovertemplate\": \"Processor=['MediaTek Helio G85']<br>Price=%{x}<extra></extra>\", \"legendgroup\": \"['MediaTek Helio G85']\", \"marker\": {\"color\": \"#EF553B\"}, \"name\": \"['MediaTek Helio G85']\", \"notched\": false, \"offsetgroup\": \"['MediaTek Helio G85']\", \"orientation\": \"h\", \"showlegend\": true, \"type\": \"box\", \"x\": [10999, 8249, 9999, 10499, 12900, 10499, 11499, 11499, 10999, 10999, 10499, 10499, 9499, 9499, 8249, 9499, 9499, 10499, 12999, 12999, 11999, 11999, 10999], \"x0\": \" \", \"xaxis\": \"x\", \"y0\": \" \", \"yaxis\": \"y\"}, {\"alignmentgroup\": \"True\", \"hovertemplate\": \"Processor=not specified<br>Price=%{x}<extra></extra>\", \"legendgroup\": \"not specified\", \"marker\": {\"color\": \"#00cc96\"}, \"name\": \"not specified\", \"notched\": false, \"offsetgroup\": \"not specified\", \"orientation\": \"h\", \"showlegend\": true, \"type\": \"box\", \"x\": [4399, 6599, 1599, 1599, 13999, 13999, 1209, 1073, 4399, 6599, 1599, 14999, 1599, 16999, 12999, 14999, 1349, 1599, 16999, 14999, 14999, 1198, 955, 1100, 1198, 4399, 6599, 955, 1100, 1599, 1599, 1219, 4399, 8999, 6599, 1599, 1599, 1299, 1664, 1599, 988, 988, 988, 11490, 799, 4399, 6599, 12999, 1599, 1599, 988, 988, 988, 14990, 1664, 1599, 890, 1159, 11490, 49999, 11895, 14990, 7326, 7305, 7320, 16999, 4399, 11490, 9972, 6599, 1150, 1599, 11895, 20448, 1599, 729, 1662, 1449, 1299, 887, 4399, 9990, 6599, 1159, 1599, 9899, 10999, 1599, 1374, 6388, 1608, 999, 1149, 1399, 4399, 1399, 6599, 1499, 3670, 1399, 1599, 1599, 31999, 975, 975, 14490, 1199, 915, 1449, 12999, 1599, 1149, 1120, 31999, 915, 705, 6599, 999, 887, 9990, 1399, 1399, 1599, 10999, 9899, 925, 719, 12999, 14490, 989, 1450, 1199, 31999, 1499, 1499, 1358, 1299, 1599, 1420, 1259, 888, 6388, 12999, 17490, 1699, 3740, 1399, 1599, 1298, 1269, 1099, 8499, 825, 1099, 1299, 1259, 9990, 24990, 925, 1028, 990, 1599, 1999, 955, 969, 3670, 1050, 669, 3699, 9974, 1049, 4399, 1599, 20499, 6599, 10499, 1599, 17490, 1029, 1599, 1499, 18348, 679, 738, 699, 23999, 4399, 839, 6599, 725, 1599, 669, 1390, 1028, 1599, 990, 999, 49999, 23486, 1039, 4399, 1021, 1399, 1399, 6599, 929, 23999, 1599, 16999, 1599, 8999, 1019, 995, 699, 1049, 999, 1599, 849, 1358, 1399, 49999, 9498, 950, 999, 999, 679, 4399, 1270, 1270, 1349, 1045, 16999, 990, 999, 4399, 669, 1390, 6599, 1399, 23486, 1599, 49999, 1599, 1130, 1119, 1119, 7399, 1259, 1399, 1399, 929, 4399, 23999, 6599, 1599, 1019, 995, 699, 1599, 8999, 1399, 1349, 13999, 17990, 4399, 23990, 21490, 6899, 6599, 24480, 1599, 9494, 8934, 1599, 949, 1199, 999, 15990, 849, 749, 749], \"x0\": \" \", \"xaxis\": \"x\", \"y0\": \" \", \"yaxis\": \"y\"}, {\"alignmentgroup\": \"True\", \"hovertemplate\": \"Processor=['Qualcomm Snapdragon 662']<br>Price=%{x}<extra></extra>\", \"legendgroup\": \"['Qualcomm Snapdragon 662']\", \"marker\": {\"color\": \"#ab63fa\"}, \"name\": \"['Qualcomm Snapdragon 662']\", \"notched\": false, \"offsetgroup\": \"['Qualcomm Snapdragon 662']\", \"orientation\": \"h\", \"showlegend\": true, \"type\": \"box\", \"x\": [11999, 10499, 10499, 10499, 10499, 10499, 10499, 11999, 17990, 17990, 11999, 16490, 17990, 17990], \"x0\": \" \", \"xaxis\": \"x\", \"y0\": \" \", \"yaxis\": \"y\"}, {\"alignmentgroup\": \"True\", \"hovertemplate\": \"Processor=['MediaTek Helio G25']<br>Price=%{x}<extra></extra>\", \"legendgroup\": \"['MediaTek Helio G25']\", \"marker\": {\"color\": \"#FFA15A\"}, \"name\": \"['MediaTek Helio G25']\", \"notched\": false, \"offsetgroup\": \"['MediaTek Helio G25']\", \"orientation\": \"h\", \"showlegend\": true, \"type\": \"box\", \"x\": [7999, 7999, 9846, 7999, 7199, 7199, 7199, 7199, 9299, 7999, 9985, 9985, 7899], \"x0\": \" \", \"xaxis\": \"x\", \"y0\": \" \", \"yaxis\": \"y\"}, {\"alignmentgroup\": \"True\", \"hovertemplate\": \"Processor=['MediaTek Helio G70']<br>Price=%{x}<extra></extra>\", \"legendgroup\": \"['MediaTek Helio G70']\", \"marker\": {\"color\": \"#19d3f3\"}, \"name\": \"['MediaTek Helio G70']\", \"notched\": false, \"offsetgroup\": \"['MediaTek Helio G70']\", \"orientation\": \"h\", \"showlegend\": true, \"type\": \"box\", \"x\": [9499, 9499, 9499, 10999, 9999, 9499, 10999], \"x0\": \" \", \"xaxis\": \"x\", \"y0\": \" \", \"yaxis\": \"y\"}, {\"alignmentgroup\": \"True\", \"hovertemplate\": \"Processor=['Qualcomm Snapdragon 460']<br>Price=%{x}<extra></extra>\", \"legendgroup\": \"['Qualcomm Snapdragon 460']\", \"marker\": {\"color\": \"#FF6692\"}, \"name\": \"['Qualcomm Snapdragon 460']\", \"notched\": false, \"offsetgroup\": \"['Qualcomm Snapdragon 460']\", \"orientation\": \"h\", \"showlegend\": true, \"type\": \"box\", \"x\": [12990, 8990, 8990, 9999, 9999, 12990, 10990, 10990, 12180], \"x0\": \" \", \"xaxis\": \"x\", \"y0\": \" \", \"yaxis\": \"y\"}, {\"alignmentgroup\": \"True\", \"hovertemplate\": \"Processor=['MediaTek Dimensity 700']<br>Price=%{x}<extra></extra>\", \"legendgroup\": \"['MediaTek Dimensity 700']\", \"marker\": {\"color\": \"#B6E880\"}, \"name\": \"['MediaTek Dimensity 700']\", \"notched\": false, \"offsetgroup\": \"['MediaTek Dimensity 700']\", \"orientation\": \"h\", \"showlegend\": true, \"type\": \"box\", \"x\": [14990, 16990, 16990, 14990, 15999, 13999], \"x0\": \" \", \"xaxis\": \"x\", \"y0\": \" \", \"yaxis\": \"y\"}, {\"alignmentgroup\": \"True\", \"hovertemplate\": \"Processor=['MediaTek Helio G80']<br>Price=%{x}<extra></extra>\", \"legendgroup\": \"['MediaTek Helio G80']\", \"marker\": {\"color\": \"#FF97FF\"}, \"name\": \"['MediaTek Helio G80']\", \"notched\": false, \"offsetgroup\": \"['MediaTek Helio G80']\", \"orientation\": \"h\", \"showlegend\": true, \"type\": \"box\", \"x\": [9499, 9999, 9499, 12990, 14990, 12990, 12990, 14990, 9999, 10499, 9999, 10999, 10999, 9999, 12499, 10499], \"x0\": \" \", \"xaxis\": \"x\", \"y0\": \" \", \"yaxis\": \"y\"}, {\"alignmentgroup\": \"True\", \"hovertemplate\": \"Processor=['MediaTek Helio P35']<br>Price=%{x}<extra></extra>\", \"legendgroup\": \"['MediaTek Helio P35']\", \"marker\": {\"color\": \"#FECB52\"}, \"name\": \"['MediaTek Helio P35']\", \"notched\": false, \"offsetgroup\": \"['MediaTek Helio P35']\", \"orientation\": \"h\", \"showlegend\": true, \"type\": \"box\", \"x\": [8490, 7490, 7490, 13990, 13990, 13490, 13490, 13490, 14490, 14490, 14490, 15990, 13490, 16990, 15990, 15990, 15990], \"x0\": \" \", \"xaxis\": \"x\", \"y0\": \" \", \"yaxis\": \"y\"}, {\"alignmentgroup\": \"True\", \"hovertemplate\": \"Processor=['Mediatek Helio G35']<br>Price=%{x}<extra></extra>\", \"legendgroup\": \"['Mediatek Helio G35']\", \"marker\": {\"color\": \"#636efa\"}, \"name\": \"['Mediatek Helio G35']\", \"notched\": false, \"offsetgroup\": \"['Mediatek Helio G35']\", \"orientation\": \"h\", \"showlegend\": true, \"type\": \"box\", \"x\": [8999, 8999, 8499, 8499, 7499, 7499, 7499, 8499, 8999, 7499, 7499, 7499], \"x0\": \" \", \"xaxis\": \"x\", \"y0\": \" \", \"yaxis\": \"y\"}, {\"alignmentgroup\": \"True\", \"hovertemplate\": \"Processor=['Octa Core']<br>Price=%{x}<extra></extra>\", \"legendgroup\": \"['Octa Core']\", \"marker\": {\"color\": \"#EF553B\"}, \"name\": \"['Octa Core']\", \"notched\": false, \"offsetgroup\": \"['Octa Core']\", \"orientation\": \"h\", \"showlegend\": true, \"type\": \"box\", \"x\": [5999, 5999, 6499, 6499, 6499, 4990], \"x0\": \" \", \"xaxis\": \"x\", \"y0\": \" \", \"yaxis\": \"y\"}, {\"alignmentgroup\": \"True\", \"hovertemplate\": \"Processor=['Exynos 850']<br>Price=%{x}<extra></extra>\", \"legendgroup\": \"['Exynos 850']\", \"marker\": {\"color\": \"#00cc96\"}, \"name\": \"['Exynos 850']\", \"notched\": false, \"offsetgroup\": \"['Exynos 850']\", \"orientation\": \"h\", \"showlegend\": true, \"type\": \"box\", \"x\": [10999, 11999, 11999, 10999, 10999], \"x0\": \" \", \"xaxis\": \"x\", \"y0\": \" \", \"yaxis\": \"y\"}, {\"alignmentgroup\": \"True\", \"hovertemplate\": \"Processor=['Snapdragon 460']<br>Price=%{x}<extra></extra>\", \"legendgroup\": \"['Snapdragon 460']\", \"marker\": {\"color\": \"#ab63fa\"}, \"name\": \"['Snapdragon 460']\", \"notched\": false, \"offsetgroup\": \"['Snapdragon 460']\", \"orientation\": \"h\", \"showlegend\": true, \"type\": \"box\", \"x\": [9499, 9499], \"x0\": \" \", \"xaxis\": \"x\", \"y0\": \" \", \"yaxis\": \"y\"}, {\"alignmentgroup\": \"True\", \"hovertemplate\": \"Processor=['MediaTek Helio A20']<br>Price=%{x}<extra></extra>\", \"legendgroup\": \"['MediaTek Helio A20']\", \"marker\": {\"color\": \"#FFA15A\"}, \"name\": \"['MediaTek Helio A20']\", \"notched\": false, \"offsetgroup\": \"['MediaTek Helio A20']\", \"orientation\": \"h\", \"showlegend\": true, \"type\": \"box\", \"x\": [6499, 6499, 6499, 5199], \"x0\": \" \", \"xaxis\": \"x\", \"y0\": \" \", \"yaxis\": \"y\"}, {\"alignmentgroup\": \"True\", \"hovertemplate\": \"Processor=['Qualcomm Snapdragon 860']<br>Price=%{x}<extra></extra>\", \"legendgroup\": \"['Qualcomm Snapdragon 860']\", \"marker\": {\"color\": \"#19d3f3\"}, \"name\": \"['Qualcomm Snapdragon 860']\", \"notched\": false, \"offsetgroup\": \"['Qualcomm Snapdragon 860']\", \"orientation\": \"h\", \"showlegend\": true, \"type\": \"box\", \"x\": [18999, 18999, 20999, 20999, 20999, 20999], \"x0\": \" \", \"xaxis\": \"x\", \"y0\": \" \", \"yaxis\": \"y\"}, {\"alignmentgroup\": \"True\", \"hovertemplate\": \"Processor=['MediaTek Helio G95']<br>Price=%{x}<extra></extra>\", \"legendgroup\": \"['MediaTek Helio G95']\", \"marker\": {\"color\": \"#FF6692\"}, \"name\": \"['MediaTek Helio G95']\", \"notched\": false, \"offsetgroup\": \"['MediaTek Helio G95']\", \"orientation\": \"h\", \"showlegend\": true, \"type\": \"box\", \"x\": [15999, 14999, 13999, 15999, 13999, 20990, 20990, 17101, 16999, 16999, 14999, 16099, 16099], \"x0\": \" \", \"xaxis\": \"x\", \"y0\": \" \", \"yaxis\": \"y\"}, {\"alignmentgroup\": \"True\", \"hovertemplate\": \"Processor=['MediaTek Dimensity 800U']<br>Price=%{x}<extra></extra>\", \"legendgroup\": \"['MediaTek Dimensity 800U']\", \"marker\": {\"color\": \"#B6E880\"}, \"name\": \"['MediaTek Dimensity 800U']\", \"notched\": false, \"offsetgroup\": \"['MediaTek Dimensity 800U']\", \"orientation\": \"h\", \"showlegend\": true, \"type\": \"box\", \"x\": [14999, 14999, 17999, 17999, 29990, 25990, 32990], \"x0\": \" \", \"xaxis\": \"x\", \"y0\": \" \", \"yaxis\": \"y\"}, {\"alignmentgroup\": \"True\", \"hovertemplate\": \"Processor=['MediaTek']<br>Price=%{x}<extra></extra>\", \"legendgroup\": \"['MediaTek']\", \"marker\": {\"color\": \"#FF97FF\"}, \"name\": \"['MediaTek']\", \"notched\": false, \"offsetgroup\": \"['MediaTek']\", \"orientation\": \"h\", \"showlegend\": true, \"type\": \"box\", \"x\": [5001, 2518, 2245], \"x0\": \" \", \"xaxis\": \"x\", \"y0\": \" \", \"yaxis\": \"y\"}, {\"alignmentgroup\": \"True\", \"hovertemplate\": \"Processor=['Qualcomm Snapdragon 732G']<br>Price=%{x}<extra></extra>\", \"legendgroup\": \"['Qualcomm Snapdragon 732G']\", \"marker\": {\"color\": \"#FECB52\"}, \"name\": \"['Qualcomm Snapdragon 732G']\", \"notched\": false, \"offsetgroup\": \"['Qualcomm Snapdragon 732G']\", \"orientation\": \"h\", \"showlegend\": true, \"type\": \"box\", \"x\": [16999, 16999, 14499, 14499, 17999, 14499], \"x0\": \" \", \"xaxis\": \"x\", \"y0\": \" \", \"yaxis\": \"y\"}, {\"alignmentgroup\": \"True\", \"hovertemplate\": \"Processor=['Qualcomm Snapdragon 720G']<br>Price=%{x}<extra></extra>\", \"legendgroup\": \"['Qualcomm Snapdragon 720G']\", \"marker\": {\"color\": \"#636efa\"}, \"name\": \"['Qualcomm Snapdragon 720G']\", \"notched\": false, \"offsetgroup\": \"['Qualcomm Snapdragon 720G']\", \"orientation\": \"h\", \"showlegend\": true, \"type\": \"box\", \"x\": [19999, 17999, 17999, 17999, 19999, 17999, 19999, 17999, 17999, 12999, 17999, 15999, 17999, 20450, 15999, 15999, 15999, 15999], \"x0\": \" \", \"xaxis\": \"x\", \"y0\": \" \", \"yaxis\": \"y\"}, {\"alignmentgroup\": \"True\", \"hovertemplate\": \"Processor=['Mediatek Helio A25']<br>Price=%{x}<extra></extra>\", \"legendgroup\": \"['Mediatek Helio A25']\", \"marker\": {\"color\": \"#EF553B\"}, \"name\": \"['Mediatek Helio A25']\", \"notched\": false, \"offsetgroup\": \"['Mediatek Helio A25']\", \"orientation\": \"h\", \"showlegend\": true, \"type\": \"box\", \"x\": [7499, 7499, 7499], \"x0\": \" \", \"xaxis\": \"x\", \"y0\": \" \", \"yaxis\": \"y\"}, {\"alignmentgroup\": \"True\", \"hovertemplate\": \"Processor=['Samsung Exynos 9 Octa 9611']<br>Price=%{x}<extra></extra>\", \"legendgroup\": \"['Samsung Exynos 9 Octa 9611']\", \"marker\": {\"color\": \"#00cc96\"}, \"name\": \"['Samsung Exynos 9 Octa 9611']\", \"notched\": false, \"offsetgroup\": \"['Samsung Exynos 9 Octa 9611']\", \"orientation\": \"h\", \"showlegend\": true, \"type\": \"box\", \"x\": [18299, 19980, 15979, 15979, 18299, 16290], \"x0\": \" \", \"xaxis\": \"x\", \"y0\": \" \", \"yaxis\": \"y\"}, {\"alignmentgroup\": \"True\", \"hovertemplate\": \"Processor=['MTK6261D']<br>Price=%{x}<extra></extra>\", \"legendgroup\": \"['MTK6261D']\", \"marker\": {\"color\": \"#ab63fa\"}, \"name\": \"['MTK6261D']\", \"notched\": false, \"offsetgroup\": \"['MTK6261D']\", \"orientation\": \"h\", \"showlegend\": true, \"type\": \"box\", \"x\": [1752, 1752, 1899], \"x0\": \" \", \"xaxis\": \"x\", \"y0\": \" \", \"yaxis\": \"y\"}, {\"alignmentgroup\": \"True\", \"hovertemplate\": \"Processor=['Unisoc SC9863']<br>Price=%{x}<extra></extra>\", \"legendgroup\": \"['Unisoc SC9863']\", \"marker\": {\"color\": \"#FFA15A\"}, \"name\": \"['Unisoc SC9863']\", \"notched\": false, \"offsetgroup\": \"['Unisoc SC9863']\", \"orientation\": \"h\", \"showlegend\": true, \"type\": \"box\", \"x\": [5399], \"x0\": \" \", \"xaxis\": \"x\", \"y0\": \" \", \"yaxis\": \"y\"}, {\"alignmentgroup\": \"True\", \"hovertemplate\": \"Processor=['SC6531E']<br>Price=%{x}<extra></extra>\", \"legendgroup\": \"['SC6531E']\", \"marker\": {\"color\": \"#19d3f3\"}, \"name\": \"['SC6531E']\", \"notched\": false, \"offsetgroup\": \"['SC6531E']\", \"orientation\": \"h\", \"showlegend\": true, \"type\": \"box\", \"x\": [775, 924, 1249, 1249, 917, 949, 924, 1125, 924, 899], \"x0\": \" \", \"xaxis\": \"x\", \"y0\": \" \", \"yaxis\": \"y\"}, {\"alignmentgroup\": \"True\", \"hovertemplate\": \"Processor=['Snapdragon 439']<br>Price=%{x}<extra></extra>\", \"legendgroup\": \"['Snapdragon 439']\", \"marker\": {\"color\": \"#FF6692\"}, \"name\": \"['Snapdragon 439']\", \"notched\": false, \"offsetgroup\": \"['Snapdragon 439']\", \"orientation\": \"h\", \"showlegend\": true, \"type\": \"box\", \"x\": [10490, 10490], \"x0\": \" \", \"xaxis\": \"x\", \"y0\": \" \", \"yaxis\": \"y\"}, {\"alignmentgroup\": \"True\", \"hovertemplate\": \"Processor=['SDM439']<br>Price=%{x}<extra></extra>\", \"legendgroup\": \"['SDM439']\", \"marker\": {\"color\": \"#B6E880\"}, \"name\": \"['SDM439']\", \"notched\": false, \"offsetgroup\": \"['SDM439']\", \"orientation\": \"h\", \"showlegend\": true, \"type\": \"box\", \"x\": [9490], \"x0\": \" \", \"xaxis\": \"x\", \"y0\": \" \", \"yaxis\": \"y\"}, {\"alignmentgroup\": \"True\", \"hovertemplate\": \"Processor=['Quad Core']<br>Price=%{x}<extra></extra>\", \"legendgroup\": \"['Quad Core']\", \"marker\": {\"color\": \"#FF97FF\"}, \"name\": \"['Quad Core']\", \"notched\": false, \"offsetgroup\": \"['Quad Core']\", \"orientation\": \"h\", \"showlegend\": true, \"type\": \"box\", \"x\": [5965, 5960, 5960], \"x0\": \" \", \"xaxis\": \"x\", \"y0\": \" \", \"yaxis\": \"y\"}, {\"alignmentgroup\": \"True\", \"hovertemplate\": \"Processor=['MediaTek Helio A25']<br>Price=%{x}<extra></extra>\", \"legendgroup\": \"['MediaTek Helio A25']\", \"marker\": {\"color\": \"#FECB52\"}, \"name\": \"['MediaTek Helio A25']\", \"notched\": false, \"offsetgroup\": \"['MediaTek Helio A25']\", \"orientation\": \"h\", \"showlegend\": true, \"type\": \"box\", \"x\": [8699, 8699], \"x0\": \" \", \"xaxis\": \"x\", \"y0\": \" \", \"yaxis\": \"y\"}, {\"alignmentgroup\": \"True\", \"hovertemplate\": \"Processor=['MediaTek Helio P95']<br>Price=%{x}<extra></extra>\", \"legendgroup\": \"['MediaTek Helio P95']\", \"marker\": {\"color\": \"#636efa\"}, \"name\": \"['MediaTek Helio P95']\", \"notched\": false, \"offsetgroup\": \"['MediaTek Helio P95']\", \"orientation\": \"h\", \"showlegend\": true, \"type\": \"box\", \"x\": [19990, 19990, 19990, 19990, 19990], \"x0\": \" \", \"xaxis\": \"x\", \"y0\": \" \", \"yaxis\": \"y\"}, {\"alignmentgroup\": \"True\", \"hovertemplate\": \"Processor=['MT6260A']<br>Price=%{x}<extra></extra>\", \"legendgroup\": \"['MT6260A']\", \"marker\": {\"color\": \"#EF553B\"}, \"name\": \"['MT6260A']\", \"notched\": false, \"offsetgroup\": \"['MT6260A']\", \"orientation\": \"h\", \"showlegend\": true, \"type\": \"box\", \"x\": [3559], \"x0\": \" \", \"xaxis\": \"x\", \"y0\": \" \", \"yaxis\": \"y\"}, {\"alignmentgroup\": \"True\", \"hovertemplate\": \"Processor=['MediaTek Quad Core']<br>Price=%{x}<extra></extra>\", \"legendgroup\": \"['MediaTek Quad Core']\", \"marker\": {\"color\": \"#00cc96\"}, \"name\": \"['MediaTek Quad Core']\", \"notched\": false, \"offsetgroup\": \"['MediaTek Quad Core']\", \"orientation\": \"h\", \"showlegend\": true, \"type\": \"box\", \"x\": [5299], \"x0\": \" \", \"xaxis\": \"x\", \"y0\": \" \", \"yaxis\": \"y\"}, {\"alignmentgroup\": \"True\", \"hovertemplate\": \"Processor=['0 0 0 0 Processor']<br>Price=%{x}<extra></extra>\", \"legendgroup\": \"['0 0 0 0 Processor']\", \"marker\": {\"color\": \"#ab63fa\"}, \"name\": \"['0 0 0 0 Processor']\", \"notched\": false, \"offsetgroup\": \"['0 0 0 0 Processor']\", \"orientation\": \"h\", \"showlegend\": true, \"type\": \"box\", \"x\": [2799, 1410, 1410], \"x0\": \" \", \"xaxis\": \"x\", \"y0\": \" \", \"yaxis\": \"y\"}, {\"alignmentgroup\": \"True\", \"hovertemplate\": \"Processor=['Snapdragon 662']<br>Price=%{x}<extra></extra>\", \"legendgroup\": \"['Snapdragon 662']\", \"marker\": {\"color\": \"#FFA15A\"}, \"name\": \"['Snapdragon 662']\", \"notched\": false, \"offsetgroup\": \"['Snapdragon 662']\", \"orientation\": \"h\", \"showlegend\": true, \"type\": \"box\", \"x\": [10999], \"x0\": \" \", \"xaxis\": \"x\", \"y0\": \" \", \"yaxis\": \"y\"}, {\"alignmentgroup\": \"True\", \"hovertemplate\": \"Processor=['Meditek']<br>Price=%{x}<extra></extra>\", \"legendgroup\": \"['Meditek']\", \"marker\": {\"color\": \"#19d3f3\"}, \"name\": \"['Meditek']\", \"notched\": false, \"offsetgroup\": \"['Meditek']\", \"orientation\": \"h\", \"showlegend\": true, \"type\": \"box\", \"x\": [6999, 6999], \"x0\": \" \", \"xaxis\": \"x\", \"y0\": \" \", \"yaxis\": \"y\"}, {\"alignmentgroup\": \"True\", \"hovertemplate\": \"Processor=['MediaTek Helio G90T']<br>Price=%{x}<extra></extra>\", \"legendgroup\": \"['MediaTek Helio G90T']\", \"marker\": {\"color\": \"#FF6692\"}, \"name\": \"['MediaTek Helio G90T']\", \"notched\": false, \"offsetgroup\": \"['MediaTek Helio G90T']\", \"orientation\": \"h\", \"showlegend\": true, \"type\": \"box\", \"x\": [14999, 14999], \"x0\": \" \", \"xaxis\": \"x\", \"y0\": \" \", \"yaxis\": \"y\"}, {\"alignmentgroup\": \"True\", \"hovertemplate\": \"Processor=['Exynos 850 Octa Core']<br>Price=%{x}<extra></extra>\", \"legendgroup\": \"['Exynos 850 Octa Core']\", \"marker\": {\"color\": \"#B6E880\"}, \"name\": \"['Exynos 850 Octa Core']\", \"notched\": false, \"offsetgroup\": \"['Exynos 850 Octa Core']\", \"orientation\": \"h\", \"showlegend\": true, \"type\": \"box\", \"x\": [14990, 12999, 12999], \"x0\": \" \", \"xaxis\": \"x\", \"y0\": \" \", \"yaxis\": \"y\"}, {\"alignmentgroup\": \"True\", \"hovertemplate\": \"Processor=['Exynos 9825']<br>Price=%{x}<extra></extra>\", \"legendgroup\": \"['Exynos 9825']\", \"marker\": {\"color\": \"#FF97FF\"}, \"name\": \"['Exynos 9825']\", \"notched\": false, \"offsetgroup\": \"['Exynos 9825']\", \"orientation\": \"h\", \"showlegend\": true, \"type\": \"box\", \"x\": [25999, 25999, 25999, 23999, 23999], \"x0\": \" \", \"xaxis\": \"x\", \"y0\": \" \", \"yaxis\": \"y\"}, {\"alignmentgroup\": \"True\", \"hovertemplate\": \"Processor=['Qualcomm Snapdragon 439']<br>Price=%{x}<extra></extra>\", \"legendgroup\": \"['Qualcomm Snapdragon 439']\", \"marker\": {\"color\": \"#FECB52\"}, \"name\": \"['Qualcomm Snapdragon 439']\", \"notched\": false, \"offsetgroup\": \"['Qualcomm Snapdragon 439']\", \"orientation\": \"h\", \"showlegend\": true, \"type\": \"box\", \"x\": [8299, 8299, 10299], \"x0\": \" \", \"xaxis\": \"x\", \"y0\": \" \", \"yaxis\": \"y\"}, {\"alignmentgroup\": \"True\", \"hovertemplate\": \"Processor=['UNISOC SC9863A OCTA CORE']<br>Price=%{x}<extra></extra>\", \"legendgroup\": \"['UNISOC SC9863A OCTA CORE']\", \"marker\": {\"color\": \"#636efa\"}, \"name\": \"['UNISOC SC9863A OCTA CORE']\", \"notched\": false, \"offsetgroup\": \"['UNISOC SC9863A OCTA CORE']\", \"orientation\": \"h\", \"showlegend\": true, \"type\": \"box\", \"x\": [6992, 6992], \"x0\": \" \", \"xaxis\": \"x\", \"y0\": \" \", \"yaxis\": \"y\"}, {\"alignmentgroup\": \"True\", \"hovertemplate\": \"Processor=['MTK Helio P22']<br>Price=%{x}<extra></extra>\", \"legendgroup\": \"['MTK Helio P22']\", \"marker\": {\"color\": \"#EF553B\"}, \"name\": \"['MTK Helio P22']\", \"notched\": false, \"offsetgroup\": \"['MTK Helio P22']\", \"orientation\": \"h\", \"showlegend\": true, \"type\": \"box\", \"x\": [7990, 7990, 7990], \"x0\": \" \", \"xaxis\": \"x\", \"y0\": \" \", \"yaxis\": \"y\"}, {\"alignmentgroup\": \"True\", \"hovertemplate\": \"Processor=['SC6531C']<br>Price=%{x}<extra></extra>\", \"legendgroup\": \"['SC6531C']\", \"marker\": {\"color\": \"#00cc96\"}, \"name\": \"['SC6531C']\", \"notched\": false, \"offsetgroup\": \"['SC6531C']\", \"orientation\": \"h\", \"showlegend\": true, \"type\": \"box\", \"x\": [1399, 1399, 1399, 1399, 1399], \"x0\": \" \", \"xaxis\": \"x\", \"y0\": \" \", \"yaxis\": \"y\"}, {\"alignmentgroup\": \"True\", \"hovertemplate\": \"Processor=['MediaTek Helio P35 Octa Core']<br>Price=%{x}<extra></extra>\", \"legendgroup\": \"['MediaTek Helio P35 Octa Core']\", \"marker\": {\"color\": \"#ab63fa\"}, \"name\": \"['MediaTek Helio P35 Octa Core']\", \"notched\": false, \"offsetgroup\": \"['MediaTek Helio P35 Octa Core']\", \"orientation\": \"h\", \"showlegend\": true, \"type\": \"box\", \"x\": [11989, 11688, 8490], \"x0\": \" \", \"xaxis\": \"x\", \"y0\": \" \", \"yaxis\": \"y\"}, {\"alignmentgroup\": \"True\", \"hovertemplate\": \"Processor=['Exynos 9611 octa core processor']<br>Price=%{x}<extra></extra>\", \"legendgroup\": \"['Exynos 9611 octa core processor']\", \"marker\": {\"color\": \"#FFA15A\"}, \"name\": \"['Exynos 9611 octa core processor']\", \"notched\": false, \"offsetgroup\": \"['Exynos 9611 octa core processor']\", \"orientation\": \"h\", \"showlegend\": true, \"type\": \"box\", \"x\": [20663], \"x0\": \" \", \"xaxis\": \"x\", \"y0\": \" \", \"yaxis\": \"y\"}, {\"alignmentgroup\": \"True\", \"hovertemplate\": \"Processor=['Exynos 9611']<br>Price=%{x}<extra></extra>\", \"legendgroup\": \"['Exynos 9611']\", \"marker\": {\"color\": \"#19d3f3\"}, \"name\": \"['Exynos 9611']\", \"notched\": false, \"offsetgroup\": \"['Exynos 9611']\", \"orientation\": \"h\", \"showlegend\": true, \"type\": \"box\", \"x\": [22499], \"x0\": \" \", \"xaxis\": \"x\", \"y0\": \" \", \"yaxis\": \"y\"}, {\"alignmentgroup\": \"True\", \"hovertemplate\": \"Processor=['NA']<br>Price=%{x}<extra></extra>\", \"legendgroup\": \"['NA']\", \"marker\": {\"color\": \"#FF6692\"}, \"name\": \"['NA']\", \"notched\": false, \"offsetgroup\": \"['NA']\", \"orientation\": \"h\", \"showlegend\": true, \"type\": \"box\", \"x\": [2299], \"x0\": \" \", \"xaxis\": \"x\", \"y0\": \" \", \"yaxis\": \"y\"}, {\"alignmentgroup\": \"True\", \"hovertemplate\": \"Processor=['Qualcomm Snapdragon 450']<br>Price=%{x}<extra></extra>\", \"legendgroup\": \"['Qualcomm Snapdragon 450']\", \"marker\": {\"color\": \"#B6E880\"}, \"name\": \"['Qualcomm Snapdragon 450']\", \"notched\": false, \"offsetgroup\": \"['Qualcomm Snapdragon 450']\", \"orientation\": \"h\", \"showlegend\": true, \"type\": \"box\", \"x\": [10284, 8939], \"x0\": \" \", \"xaxis\": \"x\", \"y0\": \" \", \"yaxis\": \"y\"}, {\"alignmentgroup\": \"True\", \"hovertemplate\": \"Processor=['Unisoc SC9863A Octa Core']<br>Price=%{x}<extra></extra>\", \"legendgroup\": \"['Unisoc SC9863A Octa Core']\", \"marker\": {\"color\": \"#FF97FF\"}, \"name\": \"['Unisoc SC9863A Octa Core']\", \"notched\": false, \"offsetgroup\": \"['Unisoc SC9863A Octa Core']\", \"orientation\": \"h\", \"showlegend\": true, \"type\": \"box\", \"x\": [6549], \"x0\": \" \", \"xaxis\": \"x\", \"y0\": \" \", \"yaxis\": \"y\"}, {\"alignmentgroup\": \"True\", \"hovertemplate\": \"Processor=['MediaTek Dimensity 1200']<br>Price=%{x}<extra></extra>\", \"legendgroup\": \"['MediaTek Dimensity 1200']\", \"marker\": {\"color\": \"#FECB52\"}, \"name\": \"['MediaTek Dimensity 1200']\", \"notched\": false, \"offsetgroup\": \"['MediaTek Dimensity 1200']\", \"orientation\": \"h\", \"showlegend\": true, \"type\": \"box\", \"x\": [26999, 26999, 29999, 26999, 29999, 29999], \"x0\": \" \", \"xaxis\": \"x\", \"y0\": \" \", \"yaxis\": \"y\"}, {\"alignmentgroup\": \"True\", \"hovertemplate\": \"Processor=['Qualcomm Snapdragon 665']<br>Price=%{x}<extra></extra>\", \"legendgroup\": \"['Qualcomm Snapdragon 665']\", \"marker\": {\"color\": \"#636efa\"}, \"name\": \"['Qualcomm Snapdragon 665']\", \"notched\": false, \"offsetgroup\": \"['Qualcomm Snapdragon 665']\", \"orientation\": \"h\", \"showlegend\": true, \"type\": \"box\", \"x\": [9499, 17990, 17990], \"x0\": \" \", \"xaxis\": \"x\", \"y0\": \" \", \"yaxis\": \"y\"}, {\"alignmentgroup\": \"True\", \"hovertemplate\": \"Processor=['MediaTek MT6739']<br>Price=%{x}<extra></extra>\", \"legendgroup\": \"['MediaTek MT6739']\", \"marker\": {\"color\": \"#EF553B\"}, \"name\": \"['MediaTek MT6739']\", \"notched\": false, \"offsetgroup\": \"['MediaTek MT6739']\", \"orientation\": \"h\", \"showlegend\": true, \"type\": \"box\", \"x\": [8499], \"x0\": \" \", \"xaxis\": \"x\", \"y0\": \" \", \"yaxis\": \"y\"}, {\"alignmentgroup\": \"True\", \"hovertemplate\": \"Processor=['Qualcomm Snapdragon 750G octa core']<br>Price=%{x}<extra></extra>\", \"legendgroup\": \"['Qualcomm Snapdragon 750G octa core']\", \"marker\": {\"color\": \"#00cc96\"}, \"name\": \"['Qualcomm Snapdragon 750G octa core']\", \"notched\": false, \"offsetgroup\": \"['Qualcomm Snapdragon 750G octa core']\", \"orientation\": \"h\", \"showlegend\": true, \"type\": \"box\", \"x\": [21752, 22490], \"x0\": \" \", \"xaxis\": \"x\", \"y0\": \" \", \"yaxis\": \"y\"}, {\"alignmentgroup\": \"True\", \"hovertemplate\": \"Processor=['Spreadtrum']<br>Price=%{x}<extra></extra>\", \"legendgroup\": \"['Spreadtrum']\", \"marker\": {\"color\": \"#ab63fa\"}, \"name\": \"['Spreadtrum']\", \"notched\": false, \"offsetgroup\": \"['Spreadtrum']\", \"orientation\": \"h\", \"showlegend\": true, \"type\": \"box\", \"x\": [899, 899, 899], \"x0\": \" \", \"xaxis\": \"x\", \"y0\": \" \", \"yaxis\": \"y\"}, {\"alignmentgroup\": \"True\", \"hovertemplate\": \"Processor=['Qualcomm Snapdragon 678']<br>Price=%{x}<extra></extra>\", \"legendgroup\": \"['Qualcomm Snapdragon 678']\", \"marker\": {\"color\": \"#FFA15A\"}, \"name\": \"['Qualcomm Snapdragon 678']\", \"notched\": false, \"offsetgroup\": \"['Qualcomm Snapdragon 678']\", \"orientation\": \"h\", \"showlegend\": true, \"type\": \"box\", \"x\": [16495, 16495, 16499], \"x0\": \" \", \"xaxis\": \"x\", \"y0\": \" \", \"yaxis\": \"y\"}, {\"alignmentgroup\": \"True\", \"hovertemplate\": \"Processor=['Qualcomm Snapdragon 730']<br>Price=%{x}<extra></extra>\", \"legendgroup\": \"['Qualcomm Snapdragon 730']\", \"marker\": {\"color\": \"#19d3f3\"}, \"name\": \"['Qualcomm Snapdragon 730']\", \"notched\": false, \"offsetgroup\": \"['Qualcomm Snapdragon 730']\", \"orientation\": \"h\", \"showlegend\": true, \"type\": \"box\", \"x\": [24999], \"x0\": \" \", \"xaxis\": \"x\", \"y0\": \" \", \"yaxis\": \"y\"}, {\"alignmentgroup\": \"True\", \"hovertemplate\": \"Processor=['SC9863A Octa Core']<br>Price=%{x}<extra></extra>\", \"legendgroup\": \"['SC9863A Octa Core']\", \"marker\": {\"color\": \"#FF6692\"}, \"name\": \"['SC9863A Octa Core']\", \"notched\": false, \"offsetgroup\": \"['SC9863A Octa Core']\", \"orientation\": \"h\", \"showlegend\": true, \"type\": \"box\", \"x\": [6749], \"x0\": \" \", \"xaxis\": \"x\", \"y0\": \" \", \"yaxis\": \"y\"}, {\"alignmentgroup\": \"True\", \"hovertemplate\": \"Processor=['MediaTek Helio P22']<br>Price=%{x}<extra></extra>\", \"legendgroup\": \"['MediaTek Helio P22']\", \"marker\": {\"color\": \"#B6E880\"}, \"name\": \"['MediaTek Helio P22']\", \"notched\": false, \"offsetgroup\": \"['MediaTek Helio P22']\", \"orientation\": \"h\", \"showlegend\": true, \"type\": \"box\", \"x\": [9999], \"x0\": \" \", \"xaxis\": \"x\", \"y0\": \" \", \"yaxis\": \"y\"}],                        {\"boxmode\": \"group\", \"legend\": {\"title\": {\"text\": \"Processor\"}, \"tracegroupgap\": 0}, \"margin\": {\"t\": 60}, \"template\": {\"data\": {\"bar\": [{\"error_x\": {\"color\": \"#2a3f5f\"}, \"error_y\": {\"color\": \"#2a3f5f\"}, \"marker\": {\"line\": {\"color\": \"#E5ECF6\", \"width\": 0.5}}, \"type\": \"bar\"}], \"barpolar\": [{\"marker\": {\"line\": {\"color\": \"#E5ECF6\", \"width\": 0.5}}, \"type\": \"barpolar\"}], \"carpet\": [{\"aaxis\": {\"endlinecolor\": \"#2a3f5f\", \"gridcolor\": \"white\", \"linecolor\": \"white\", \"minorgridcolor\": \"white\", \"startlinecolor\": \"#2a3f5f\"}, \"baxis\": {\"endlinecolor\": \"#2a3f5f\", \"gridcolor\": \"white\", \"linecolor\": \"white\", \"minorgridcolor\": \"white\", \"startlinecolor\": \"#2a3f5f\"}, \"type\": \"carpet\"}], \"choropleth\": [{\"colorbar\": {\"outlinewidth\": 0, \"ticks\": \"\"}, \"type\": \"choropleth\"}], \"contour\": [{\"colorbar\": {\"outlinewidth\": 0, \"ticks\": \"\"}, \"colorscale\": [[0.0, \"#0d0887\"], [0.1111111111111111, \"#46039f\"], [0.2222222222222222, \"#7201a8\"], [0.3333333333333333, \"#9c179e\"], [0.4444444444444444, \"#bd3786\"], [0.5555555555555556, \"#d8576b\"], [0.6666666666666666, \"#ed7953\"], [0.7777777777777778, \"#fb9f3a\"], [0.8888888888888888, \"#fdca26\"], [1.0, \"#f0f921\"]], \"type\": \"contour\"}], \"contourcarpet\": [{\"colorbar\": {\"outlinewidth\": 0, \"ticks\": \"\"}, \"type\": \"contourcarpet\"}], \"heatmap\": [{\"colorbar\": {\"outlinewidth\": 0, \"ticks\": \"\"}, \"colorscale\": [[0.0, \"#0d0887\"], [0.1111111111111111, \"#46039f\"], [0.2222222222222222, \"#7201a8\"], [0.3333333333333333, \"#9c179e\"], [0.4444444444444444, \"#bd3786\"], [0.5555555555555556, \"#d8576b\"], [0.6666666666666666, \"#ed7953\"], [0.7777777777777778, \"#fb9f3a\"], [0.8888888888888888, \"#fdca26\"], [1.0, \"#f0f921\"]], \"type\": \"heatmap\"}], \"heatmapgl\": [{\"colorbar\": {\"outlinewidth\": 0, \"ticks\": \"\"}, \"colorscale\": [[0.0, \"#0d0887\"], [0.1111111111111111, \"#46039f\"], [0.2222222222222222, \"#7201a8\"], [0.3333333333333333, \"#9c179e\"], [0.4444444444444444, \"#bd3786\"], [0.5555555555555556, \"#d8576b\"], [0.6666666666666666, \"#ed7953\"], [0.7777777777777778, \"#fb9f3a\"], [0.8888888888888888, \"#fdca26\"], [1.0, \"#f0f921\"]], \"type\": \"heatmapgl\"}], \"histogram\": [{\"marker\": {\"colorbar\": {\"outlinewidth\": 0, \"ticks\": \"\"}}, \"type\": \"histogram\"}], \"histogram2d\": [{\"colorbar\": {\"outlinewidth\": 0, \"ticks\": \"\"}, \"colorscale\": [[0.0, \"#0d0887\"], [0.1111111111111111, \"#46039f\"], [0.2222222222222222, \"#7201a8\"], [0.3333333333333333, \"#9c179e\"], [0.4444444444444444, \"#bd3786\"], [0.5555555555555556, \"#d8576b\"], [0.6666666666666666, \"#ed7953\"], [0.7777777777777778, \"#fb9f3a\"], [0.8888888888888888, \"#fdca26\"], [1.0, \"#f0f921\"]], \"type\": \"histogram2d\"}], \"histogram2dcontour\": [{\"colorbar\": {\"outlinewidth\": 0, \"ticks\": \"\"}, \"colorscale\": [[0.0, \"#0d0887\"], [0.1111111111111111, \"#46039f\"], [0.2222222222222222, \"#7201a8\"], [0.3333333333333333, \"#9c179e\"], [0.4444444444444444, \"#bd3786\"], [0.5555555555555556, \"#d8576b\"], [0.6666666666666666, \"#ed7953\"], [0.7777777777777778, \"#fb9f3a\"], [0.8888888888888888, \"#fdca26\"], [1.0, \"#f0f921\"]], \"type\": \"histogram2dcontour\"}], \"mesh3d\": [{\"colorbar\": {\"outlinewidth\": 0, \"ticks\": \"\"}, \"type\": \"mesh3d\"}], \"parcoords\": [{\"line\": {\"colorbar\": {\"outlinewidth\": 0, \"ticks\": \"\"}}, \"type\": \"parcoords\"}], \"pie\": [{\"automargin\": true, \"type\": \"pie\"}], \"scatter\": [{\"marker\": {\"colorbar\": {\"outlinewidth\": 0, \"ticks\": \"\"}}, \"type\": \"scatter\"}], \"scatter3d\": [{\"line\": {\"colorbar\": {\"outlinewidth\": 0, \"ticks\": \"\"}}, \"marker\": {\"colorbar\": {\"outlinewidth\": 0, \"ticks\": \"\"}}, \"type\": \"scatter3d\"}], \"scattercarpet\": [{\"marker\": {\"colorbar\": {\"outlinewidth\": 0, \"ticks\": \"\"}}, \"type\": \"scattercarpet\"}], \"scattergeo\": [{\"marker\": {\"colorbar\": {\"outlinewidth\": 0, \"ticks\": \"\"}}, \"type\": \"scattergeo\"}], \"scattergl\": [{\"marker\": {\"colorbar\": {\"outlinewidth\": 0, \"ticks\": \"\"}}, \"type\": \"scattergl\"}], \"scattermapbox\": [{\"marker\": {\"colorbar\": {\"outlinewidth\": 0, \"ticks\": \"\"}}, \"type\": \"scattermapbox\"}], \"scatterpolar\": [{\"marker\": {\"colorbar\": {\"outlinewidth\": 0, \"ticks\": \"\"}}, \"type\": \"scatterpolar\"}], \"scatterpolargl\": [{\"marker\": {\"colorbar\": {\"outlinewidth\": 0, \"ticks\": \"\"}}, \"type\": \"scatterpolargl\"}], \"scatterternary\": [{\"marker\": {\"colorbar\": {\"outlinewidth\": 0, \"ticks\": \"\"}}, \"type\": \"scatterternary\"}], \"surface\": [{\"colorbar\": {\"outlinewidth\": 0, \"ticks\": \"\"}, \"colorscale\": [[0.0, \"#0d0887\"], [0.1111111111111111, \"#46039f\"], [0.2222222222222222, \"#7201a8\"], [0.3333333333333333, \"#9c179e\"], [0.4444444444444444, \"#bd3786\"], [0.5555555555555556, \"#d8576b\"], [0.6666666666666666, \"#ed7953\"], [0.7777777777777778, \"#fb9f3a\"], [0.8888888888888888, \"#fdca26\"], [1.0, \"#f0f921\"]], \"type\": \"surface\"}], \"table\": [{\"cells\": {\"fill\": {\"color\": \"#EBF0F8\"}, \"line\": {\"color\": \"white\"}}, \"header\": {\"fill\": {\"color\": \"#C8D4E3\"}, \"line\": {\"color\": \"white\"}}, \"type\": \"table\"}]}, \"layout\": {\"annotationdefaults\": {\"arrowcolor\": \"#2a3f5f\", \"arrowhead\": 0, \"arrowwidth\": 1}, \"autotypenumbers\": \"strict\", \"coloraxis\": {\"colorbar\": {\"outlinewidth\": 0, \"ticks\": \"\"}}, \"colorscale\": {\"diverging\": [[0, \"#8e0152\"], [0.1, \"#c51b7d\"], [0.2, \"#de77ae\"], [0.3, \"#f1b6da\"], [0.4, \"#fde0ef\"], [0.5, \"#f7f7f7\"], [0.6, \"#e6f5d0\"], [0.7, \"#b8e186\"], [0.8, \"#7fbc41\"], [0.9, \"#4d9221\"], [1, \"#276419\"]], \"sequential\": [[0.0, \"#0d0887\"], [0.1111111111111111, \"#46039f\"], [0.2222222222222222, \"#7201a8\"], [0.3333333333333333, \"#9c179e\"], [0.4444444444444444, \"#bd3786\"], [0.5555555555555556, \"#d8576b\"], [0.6666666666666666, \"#ed7953\"], [0.7777777777777778, \"#fb9f3a\"], [0.8888888888888888, \"#fdca26\"], [1.0, \"#f0f921\"]], \"sequentialminus\": [[0.0, \"#0d0887\"], [0.1111111111111111, \"#46039f\"], [0.2222222222222222, \"#7201a8\"], [0.3333333333333333, \"#9c179e\"], [0.4444444444444444, \"#bd3786\"], [0.5555555555555556, \"#d8576b\"], [0.6666666666666666, \"#ed7953\"], [0.7777777777777778, \"#fb9f3a\"], [0.8888888888888888, \"#fdca26\"], [1.0, \"#f0f921\"]]}, \"colorway\": [\"#636efa\", \"#EF553B\", \"#00cc96\", \"#ab63fa\", \"#FFA15A\", \"#19d3f3\", \"#FF6692\", \"#B6E880\", \"#FF97FF\", \"#FECB52\"], \"font\": {\"color\": \"#2a3f5f\"}, \"geo\": {\"bgcolor\": \"white\", \"lakecolor\": \"white\", \"landcolor\": \"#E5ECF6\", \"showlakes\": true, \"showland\": true, \"subunitcolor\": \"white\"}, \"hoverlabel\": {\"align\": \"left\"}, \"hovermode\": \"closest\", \"mapbox\": {\"style\": \"light\"}, \"paper_bgcolor\": \"white\", \"plot_bgcolor\": \"#E5ECF6\", \"polar\": {\"angularaxis\": {\"gridcolor\": \"white\", \"linecolor\": \"white\", \"ticks\": \"\"}, \"bgcolor\": \"#E5ECF6\", \"radialaxis\": {\"gridcolor\": \"white\", \"linecolor\": \"white\", \"ticks\": \"\"}}, \"scene\": {\"xaxis\": {\"backgroundcolor\": \"#E5ECF6\", \"gridcolor\": \"white\", \"gridwidth\": 2, \"linecolor\": \"white\", \"showbackground\": true, \"ticks\": \"\", \"zerolinecolor\": \"white\"}, \"yaxis\": {\"backgroundcolor\": \"#E5ECF6\", \"gridcolor\": \"white\", \"gridwidth\": 2, \"linecolor\": \"white\", \"showbackground\": true, \"ticks\": \"\", \"zerolinecolor\": \"white\"}, \"zaxis\": {\"backgroundcolor\": \"#E5ECF6\", \"gridcolor\": \"white\", \"gridwidth\": 2, \"linecolor\": \"white\", \"showbackground\": true, \"ticks\": \"\", \"zerolinecolor\": \"white\"}}, \"shapedefaults\": {\"line\": {\"color\": \"#2a3f5f\"}}, \"ternary\": {\"aaxis\": {\"gridcolor\": \"white\", \"linecolor\": \"white\", \"ticks\": \"\"}, \"baxis\": {\"gridcolor\": \"white\", \"linecolor\": \"white\", \"ticks\": \"\"}, \"bgcolor\": \"#E5ECF6\", \"caxis\": {\"gridcolor\": \"white\", \"linecolor\": \"white\", \"ticks\": \"\"}}, \"title\": {\"x\": 0.05}, \"xaxis\": {\"automargin\": true, \"gridcolor\": \"white\", \"linecolor\": \"white\", \"ticks\": \"\", \"title\": {\"standoff\": 15}, \"zerolinecolor\": \"white\", \"zerolinewidth\": 2}, \"yaxis\": {\"automargin\": true, \"gridcolor\": \"white\", \"linecolor\": \"white\", \"ticks\": \"\", \"title\": {\"standoff\": 15}, \"zerolinecolor\": \"white\", \"zerolinewidth\": 2}}}, \"xaxis\": {\"anchor\": \"y\", \"domain\": [0.0, 1.0], \"title\": {\"text\": \"Price\"}}, \"yaxis\": {\"anchor\": \"x\", \"domain\": [0.0, 1.0]}},                        {\"responsive\": true}                    ).then(function(){\n",
       "                            \n",
       "var gd = document.getElementById('3f0cace4-f286-4563-b284-fc7330a830c6');\n",
       "var x = new MutationObserver(function (mutations, observer) {{\n",
       "        var display = window.getComputedStyle(gd).display;\n",
       "        if (!display || display === 'none') {{\n",
       "            console.log([gd, 'removed!']);\n",
       "            Plotly.purge(gd);\n",
       "            observer.disconnect();\n",
       "        }}\n",
       "}});\n",
       "\n",
       "// Listen for the removal of the full notebook cells\n",
       "var notebookContainer = gd.closest('#notebook-container');\n",
       "if (notebookContainer) {{\n",
       "    x.observe(notebookContainer, {childList: true});\n",
       "}}\n",
       "\n",
       "// Listen for the clearing of the current output cell\n",
       "var outputEl = gd.closest('.output');\n",
       "if (outputEl) {{\n",
       "    x.observe(outputEl, {childList: true});\n",
       "}}\n",
       "\n",
       "                        })                };                });            </script>        </div>"
      ]
     },
     "metadata": {},
     "output_type": "display_data"
    }
   ],
   "source": [
    "px.box(data,x=data[\"Price\"],color=data[\"Processor\"])"
   ]
  },
  {
   "cell_type": "code",
   "execution_count": null,
   "metadata": {},
   "outputs": [],
   "source": []
  },
  {
   "cell_type": "markdown",
   "metadata": {},
   "source": [
    "### Multivariant Analysis"
   ]
  },
  {
   "cell_type": "markdown",
   "metadata": {},
   "source": [
    "### Continuos column"
   ]
  },
  {
   "cell_type": "code",
   "execution_count": 138,
   "metadata": {},
   "outputs": [],
   "source": [
    "count_col=data.select_dtypes([\"int64\",\"float64\"])"
   ]
  },
  {
   "cell_type": "code",
   "execution_count": 139,
   "metadata": {},
   "outputs": [
    {
     "data": {
      "text/html": [
       "<div>\n",
       "<style scoped>\n",
       "    .dataframe tbody tr th:only-of-type {\n",
       "        vertical-align: middle;\n",
       "    }\n",
       "\n",
       "    .dataframe tbody tr th {\n",
       "        vertical-align: top;\n",
       "    }\n",
       "\n",
       "    .dataframe thead th {\n",
       "        text-align: right;\n",
       "    }\n",
       "</style>\n",
       "<table border=\"1\" class=\"dataframe\">\n",
       "  <thead>\n",
       "    <tr style=\"text-align: right;\">\n",
       "      <th></th>\n",
       "      <th>Price</th>\n",
       "      <th>Rating</th>\n",
       "      <th>Rearcam(MP)</th>\n",
       "      <th>FrontCam(MP)</th>\n",
       "      <th>Battery</th>\n",
       "      <th>Screensize</th>\n",
       "    </tr>\n",
       "  </thead>\n",
       "  <tbody>\n",
       "    <tr>\n",
       "      <th>0</th>\n",
       "      <td>6799</td>\n",
       "      <td>4.4</td>\n",
       "      <td>8</td>\n",
       "      <td>5.0</td>\n",
       "      <td>5000.0</td>\n",
       "      <td>6.50</td>\n",
       "    </tr>\n",
       "    <tr>\n",
       "      <th>1</th>\n",
       "      <td>10999</td>\n",
       "      <td>4.3</td>\n",
       "      <td>48</td>\n",
       "      <td>13.0</td>\n",
       "      <td>5020.0</td>\n",
       "      <td>6.53</td>\n",
       "    </tr>\n",
       "    <tr>\n",
       "      <th>2</th>\n",
       "      <td>6799</td>\n",
       "      <td>4.4</td>\n",
       "      <td>8</td>\n",
       "      <td>5.0</td>\n",
       "      <td>5000.0</td>\n",
       "      <td>6.50</td>\n",
       "    </tr>\n",
       "    <tr>\n",
       "      <th>3</th>\n",
       "      <td>4399</td>\n",
       "      <td>3.3</td>\n",
       "      <td>5</td>\n",
       "      <td>2.0</td>\n",
       "      <td>2500.0</td>\n",
       "      <td>5.50</td>\n",
       "    </tr>\n",
       "    <tr>\n",
       "      <th>4</th>\n",
       "      <td>11999</td>\n",
       "      <td>4.3</td>\n",
       "      <td>48</td>\n",
       "      <td>8.0</td>\n",
       "      <td>6000.0</td>\n",
       "      <td>6.53</td>\n",
       "    </tr>\n",
       "    <tr>\n",
       "      <th>...</th>\n",
       "      <td>...</td>\n",
       "      <td>...</td>\n",
       "      <td>...</td>\n",
       "      <td>...</td>\n",
       "      <td>...</td>\n",
       "      <td>...</td>\n",
       "    </tr>\n",
       "    <tr>\n",
       "      <th>571</th>\n",
       "      <td>999</td>\n",
       "      <td>3.6</td>\n",
       "      <td>3</td>\n",
       "      <td>0.0</td>\n",
       "      <td>2500.0</td>\n",
       "      <td>2.40</td>\n",
       "    </tr>\n",
       "    <tr>\n",
       "      <th>572</th>\n",
       "      <td>15990</td>\n",
       "      <td>4.4</td>\n",
       "      <td>48</td>\n",
       "      <td>16.0</td>\n",
       "      <td>5020.0</td>\n",
       "      <td>6.67</td>\n",
       "    </tr>\n",
       "    <tr>\n",
       "      <th>573</th>\n",
       "      <td>849</td>\n",
       "      <td>3.7</td>\n",
       "      <td>2</td>\n",
       "      <td>0.0</td>\n",
       "      <td>2500.0</td>\n",
       "      <td>1.80</td>\n",
       "    </tr>\n",
       "    <tr>\n",
       "      <th>574</th>\n",
       "      <td>749</td>\n",
       "      <td>4.0</td>\n",
       "      <td>0</td>\n",
       "      <td>0.0</td>\n",
       "      <td>1000.0</td>\n",
       "      <td>1.80</td>\n",
       "    </tr>\n",
       "    <tr>\n",
       "      <th>575</th>\n",
       "      <td>749</td>\n",
       "      <td>4.0</td>\n",
       "      <td>0</td>\n",
       "      <td>0.0</td>\n",
       "      <td>1000.0</td>\n",
       "      <td>1.80</td>\n",
       "    </tr>\n",
       "  </tbody>\n",
       "</table>\n",
       "<p>576 rows × 6 columns</p>\n",
       "</div>"
      ],
      "text/plain": [
       "     Price  Rating  Rearcam(MP)  FrontCam(MP)  Battery  Screensize\n",
       "0     6799     4.4            8           5.0   5000.0        6.50\n",
       "1    10999     4.3           48          13.0   5020.0        6.53\n",
       "2     6799     4.4            8           5.0   5000.0        6.50\n",
       "3     4399     3.3            5           2.0   2500.0        5.50\n",
       "4    11999     4.3           48           8.0   6000.0        6.53\n",
       "..     ...     ...          ...           ...      ...         ...\n",
       "571    999     3.6            3           0.0   2500.0        2.40\n",
       "572  15990     4.4           48          16.0   5020.0        6.67\n",
       "573    849     3.7            2           0.0   2500.0        1.80\n",
       "574    749     4.0            0           0.0   1000.0        1.80\n",
       "575    749     4.0            0           0.0   1000.0        1.80\n",
       "\n",
       "[576 rows x 6 columns]"
      ]
     },
     "execution_count": 139,
     "metadata": {},
     "output_type": "execute_result"
    }
   ],
   "source": [
    "count_col"
   ]
  },
  {
   "cell_type": "code",
   "execution_count": 140,
   "metadata": {},
   "outputs": [
    {
     "data": {
      "text/plain": [
       "<seaborn.axisgrid.PairGrid at 0xe6abdc0>"
      ]
     },
     "execution_count": 140,
     "metadata": {},
     "output_type": "execute_result"
    },
    {
     "data": {
      "image/png": "[encoded data removed]",
      "text/plain": [
       "<Figure size 1080x1080 with 42 Axes>"
      ]
     },
     "metadata": {
      "needs_background": "light"
     },
     "output_type": "display_data"
    }
   ],
   "source": [
    "sns.pairplot(count_col)"
   ]
  },
  {
   "cell_type": "markdown",
   "metadata": {},
   "source": [
    "### Observation:Price and Rating are slightly Linearly correlated."
   ]
  },
  {
   "cell_type": "code",
   "execution_count": null,
   "metadata": {},
   "outputs": [],
   "source": []
  },
  {
   "cell_type": "code",
   "execution_count": 1,
   "metadata": {},
   "outputs": [],
   "source": []
  },
  {
   "cell_type": "code",
   "execution_count": 2,
   "metadata": {},
   "outputs": [
    {
     "data": {
      "text/plain": [
       "dict_keys(['name', 'Place', 'corse'])"
      ]
     },
     "execution_count": 2,
     "metadata": {},
     "output_type": "execute_result"
    }
   ],
   "source": [
    "x.keys("
   ]
  },
  {
   "cell_type": "code",
   "execution_count": 3,
   "metadata": {},
   "outputs": [
    {
     "data": {
      "text/plain": [
       "dict_values(['susmitha', 'hyd', 'datascience'])"
      ]
     },
     "execution_count": 3,
     "metadata": {},
     "output_type": "execute_result"
    }
   ],
   "source": [
    "x.values()"
   ]
  },
  {
   "cell_type": "code",
   "execution_count": 4,
   "metadata": {},
   "outputs": [],
   "source": [
    "a=[[12,3,3,3],[1,2,3,4],[2,3,4,5]]"
   ]
  },
  {
   "cell_type": "code",
   "execution_count": 5,
   "metadata": {},
   "outputs": [
    {
     "name": "stdout",
     "output_type": "stream",
     "text": [
      "[[12, 3, 3, 3], [1, 2, 3, 4], [2, 3, 4, 5]]\n"
     ]
    }
   ],
   "source": [
    "print(a)"
   ]
  },
  {
   "cell_type": "code",
   "execution_count": null,
   "metadata": {},
   "outputs": [],
   "source": []
  }
 ],
 "metadata": {
  "kernelspec": {
   "display_name": "Python 3",
   "language": "python",
   "name": "python3"
  },
  "language_info": {
   "codemirror_mode": {
    "name": "ipython",
    "version": 3
   },
   "file_extension": ".py",
   "mimetype": "text/x-python",
   "name": "python",
   "nbconvert_exporter": "python",
   "pygments_lexer": "ipython3",
   "version": "3.8.8"
  }
 },
 "nbformat": 4,
 "nbformat_minor": 4
}
